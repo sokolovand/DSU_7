{
 "cells": [
  {
   "cell_type": "markdown",
   "metadata": {},
   "source": [
    "# Классы"
   ]
  },
  {
   "cell_type": "markdown",
   "metadata": {},
   "source": [
    "[Задание 1](#task1)          \n",
    "[Задание 2](#task2)          \n",
    "[Задание 3](#task3)        "
   ]
  },
  {
   "cell_type": "markdown",
   "metadata": {},
   "source": [
    "# Задание 1\n",
    "<a id=task1>"
   ]
  },
  {
   "cell_type": "code",
   "execution_count": 22,
   "metadata": {},
   "outputs": [],
   "source": [
    "import requests\n",
    "\n",
    "class Rate:\n",
    "    \n",
    "    def __init__(self, format_='value', dif=False):\n",
    "        self.format = format_\n",
    "        self.dif = dif\n",
    "        \n",
    "    def exchange_rates(self):\n",
    "        self.req = requests.get('https://www.cbr-xml-daily.ru/daily_json.js')\n",
    "        return self.req.json()['Valute']\n",
    "    \n",
    "    def make_format(self, currency):\n",
    "        response = self.exchange_rates()\n",
    "        \n",
    "        if currency in response:\n",
    "            if self.format == 'full':\n",
    "                return response[currency]\n",
    "            \n",
    "            if self.format == 'value':\n",
    "                return response[currency]['Value']\n",
    "            \n",
    "        return 'Error'\n",
    "    \n",
    "    # ДЛЯ ЗАДАНИЯ № 2\n",
    "    # Вернет разницу между предыдущим днем и сегодняшним\n",
    "    \n",
    "    def difference(self, country):\n",
    "        value_yesterday = self.exchange_rates()[country]['Previous']\n",
    "        value_now = self.exchange_rates()[country]['Value']\n",
    "        return round(value_yesterday - value_now, 4)\n",
    "        \n",
    "   # 3 вида валют      \n",
    "    def eur(self):\n",
    "        if self.dif:\n",
    "            return self.difference('EUR')\n",
    "            \n",
    "        else:    \n",
    "            return self.make_format('EUR')\n",
    "    \n",
    "    \n",
    "    def usd(self):\n",
    "        if self.dif:\n",
    "            return self.difference('USD')\n",
    "            \n",
    "        else:\n",
    "            return self.make_format('USD')\n",
    "        \n",
    "        \n",
    "    def dkk(self):\n",
    "        if self.dif:\n",
    "            return self.difference('DKK')\n",
    "\n",
    "        else:\n",
    "            return self.make_format('DKK')"
   ]
  },
  {
   "cell_type": "code",
   "execution_count": 23,
   "metadata": {},
   "outputs": [
    {
     "name": "stdout",
     "output_type": "stream",
     "text": [
      "Наибольшая стоимость валюты у \"СДР (специальные права заимствования)\". Она составляет 106.2067 рублей.\n"
     ]
    }
   ],
   "source": [
    "req = Rate(format_='full')\n",
    "all_datas = req.exchange_rates()\n",
    "\n",
    "largest_currency = 'None'\n",
    "value = 0\n",
    "\n",
    "for valute in all_datas:\n",
    "    \n",
    "    if all_datas[valute]['Value'] > value:\n",
    "        value = all_datas[valute]['Value']\n",
    "        largest_currency = all_datas[valute]['Name']\n",
    "    else:\n",
    "        continue\n",
    "        \n",
    "print(f'Наибольшая стоимость валюты у \"{largest_currency}\". Она составляет {value} рублей.')"
   ]
  },
  {
   "cell_type": "code",
   "execution_count": 24,
   "metadata": {},
   "outputs": [
    {
     "data": {
      "text/plain": [
       "73.4979"
      ]
     },
     "execution_count": 24,
     "metadata": {},
     "output_type": "execute_result"
    }
   ],
   "source": [
    "# Проверка\n",
    "# Ничего не передаем при создании. Ожидаем лишь величину \"value\" от функции .usd()\n",
    "req = Rate()\n",
    "req.usd()"
   ]
  },
  {
   "cell_type": "code",
   "execution_count": 25,
   "metadata": {},
   "outputs": [
    {
     "data": {
      "text/plain": [
       "{'ID': 'R01235',\n",
       " 'NumCode': '840',\n",
       " 'CharCode': 'USD',\n",
       " 'Nominal': 1,\n",
       " 'Name': 'Доллар США',\n",
       " 'Value': 73.4979,\n",
       " 'Previous': 73.2411}"
      ]
     },
     "execution_count": 25,
     "metadata": {},
     "output_type": "execute_result"
    }
   ],
   "source": [
    "# Проверка\n",
    "# Передаем format_='full'. Ожидаем от функции .usd() полную информацию о валюте\n",
    "req = Rate(format_='full')\n",
    "req.usd()"
   ]
  },
  {
   "cell_type": "markdown",
   "metadata": {},
   "source": [
    "# Задание 2 \n",
    "<a id=task2>"
   ]
  },
  {
   "cell_type": "code",
   "execution_count": 68,
   "metadata": {},
   "outputs": [
    {
     "data": {
      "text/plain": [
       "0.0554"
      ]
     },
     "execution_count": 68,
     "metadata": {},
     "output_type": "execute_result"
    }
   ],
   "source": [
    "# Проверка\n",
    "# Передаем dif=True. Ожидаем от функции .usd() разницу между вчерашним и сегодняшним значениями\n",
    "req = Rate(dif=True)\n",
    "req.usd()"
   ]
  },
  {
   "cell_type": "markdown",
   "metadata": {},
   "source": [
    "# Задание 3\n",
    "<a id=task3>"
   ]
  },
  {
   "cell_type": "code",
   "execution_count": 43,
   "metadata": {},
   "outputs": [],
   "source": [
    "class Employee:\n",
    "    def __init__(self, name, seniority=0):\n",
    "        self.name = name\n",
    "        self.seniority = seniority\n",
    "        \n",
    "        self.grade = 1\n",
    "    \n",
    "    def grade_up(self):\n",
    "        \"\"\"Повышает уровень сотрудника\"\"\"\n",
    "        self.grade += 1\n",
    "    \n",
    "    def publish_grade(self):\n",
    "        \"\"\"Публикация результатов аккредитации сотрудников\"\"\"\n",
    "        print(f'Сотрудник {self.name} имеет разряд {self.grade}, а общее число баллов {self.seniority}')\n",
    "    \n",
    "    def check_if_it_is_time_for_upgrade(self):\n",
    "        pass"
   ]
  },
  {
   "cell_type": "code",
   "execution_count": 49,
   "metadata": {},
   "outputs": [],
   "source": [
    "class Designer(Employee):\n",
    "    \n",
    "    \n",
    "    def __init__(self, name, seniority = 0): \n",
    "        super().__init__(name, seniority = 0)\n",
    "        self.seniority = 2 # Число баллов при выходе на работу\n",
    "       \n",
    "    \n",
    "    def international_prize(self):\n",
    "        self.seniority += 2\n",
    "    \n",
    "    def check_if_it_is_time_for_upgrade(self):\n",
    "\n",
    "        self.international_prize()\n",
    "        \n",
    "        if self.seniority % 7 == 0 or (self.seniority - 1) % 7 == 0:\n",
    "            self.grade_up()\n",
    "        \n",
    "        # публикация результатов\n",
    "        return self.publish_grade()"
   ]
  },
  {
   "cell_type": "code",
   "execution_count": 50,
   "metadata": {},
   "outputs": [
    {
     "name": "stdout",
     "output_type": "stream",
     "text": [
      "Сотрудник Alex имеет разряд 1, а общее число баллов 4\n",
      "Сотрудник Alex имеет разряд 1, а общее число баллов 6\n",
      "Сотрудник Alex имеет разряд 2, а общее число баллов 8\n",
      "Сотрудник Alex имеет разряд 2, а общее число баллов 10\n",
      "Сотрудник Alex имеет разряд 2, а общее число баллов 12\n",
      "Сотрудник Alex имеет разряд 3, а общее число баллов 14\n",
      "Сотрудник Alex имеет разряд 3, а общее число баллов 16\n",
      "Сотрудник Alex имеет разряд 3, а общее число баллов 18\n",
      "Сотрудник Alex имеет разряд 3, а общее число баллов 20\n",
      "Сотрудник Alex имеет разряд 4, а общее число баллов 22\n",
      "Сотрудник Alex имеет разряд 4, а общее число баллов 24\n",
      "Сотрудник Alex имеет разряд 4, а общее число баллов 26\n",
      "Сотрудник Alex имеет разряд 5, а общее число баллов 28\n",
      "Сотрудник Alex имеет разряд 5, а общее число баллов 30\n",
      "Сотрудник Alex имеет разряд 5, а общее число баллов 32\n",
      "Сотрудник Alex имеет разряд 5, а общее число баллов 34\n",
      "Сотрудник Alex имеет разряд 6, а общее число баллов 36\n",
      "Сотрудник Alex имеет разряд 6, а общее число баллов 38\n",
      "Сотрудник Alex имеет разряд 6, а общее число баллов 40\n",
      "Сотрудник Alex имеет разряд 7, а общее число баллов 42\n"
     ]
    }
   ],
   "source": [
    "alex = Designer('Alex')\n",
    "for i in range(20):\n",
    "    alex.check_if_it_is_time_for_upgrade()"
   ]
  }
 ],
 "metadata": {
  "kernelspec": {
   "display_name": "Python 3",
   "language": "python",
   "name": "python3"
  },
  "language_info": {
   "codemirror_mode": {
    "name": "ipython",
    "version": 3
   },
   "file_extension": ".py",
   "mimetype": "text/x-python",
   "name": "python",
   "nbconvert_exporter": "python",
   "pygments_lexer": "ipython3",
   "version": "3.7.3"
  }
 },
 "nbformat": 4,
 "nbformat_minor": 2
}
