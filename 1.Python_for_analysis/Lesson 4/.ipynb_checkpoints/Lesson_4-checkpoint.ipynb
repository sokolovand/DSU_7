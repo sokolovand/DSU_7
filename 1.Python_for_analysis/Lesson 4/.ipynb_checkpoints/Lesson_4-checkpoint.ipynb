{
 "cells": [
  {
   "cell_type": "markdown",
   "metadata": {},
   "source": [
    "### Задание 1"
   ]
  },
  {
   "cell_type": "markdown",
   "metadata": {},
   "source": [
    "Дана переменная, в которой хранится словарь, содержащий гео-метки для каждого пользователя (пример структуры данных приведен ниже). Вам необходимо написать программу, которая выведет на экран множество уникальных гео-меток всех пользователей."
   ]
  },
  {
   "cell_type": "code",
   "execution_count": 7,
   "metadata": {},
   "outputs": [],
   "source": [
    "ids = {'user1': [213, 213, 213, 15, 213], \n",
    "       'user2': [54, 54, 119, 119, 119], \n",
    "       'user3': [213, 98, 98, 35]}"
   ]
  },
  {
   "cell_type": "code",
   "execution_count": 23,
   "metadata": {},
   "outputs": [
    {
     "data": {
      "text/plain": [
       "{15, 35, 54, 98, 119, 213}"
      ]
     },
     "execution_count": 23,
     "metadata": {},
     "output_type": "execute_result"
    }
   ],
   "source": [
    "unique_geodata = set()\n",
    "\n",
    "for user in ids:\n",
    "    values = set(ids[user])\n",
    "    unique_geodata = unique_geodata.union(values)\n",
    "    \n",
    "unique_geodata"
   ]
  },
  {
   "cell_type": "markdown",
   "metadata": {},
   "source": [
    "### Задание 2"
   ]
  },
  {
   "cell_type": "markdown",
   "metadata": {},
   "source": [
    "Дана переменная, в которой хранится список поисковых запросов пользователя (пример структуры данных приведен ниже). Вам необходимо написать программу, которая выведет на экран распределение количества слов в запросах в требуемом виде."
   ]
  },
  {
   "cell_type": "code",
   "execution_count": 24,
   "metadata": {},
   "outputs": [],
   "source": [
    "queries = [\n",
    "    'смотреть сериалы онлайн',\n",
    "    'новости спорта',\n",
    "    'афиша кино',\n",
    "    'курс доллара',\n",
    "    'сериалы этим летом',\n",
    "    'курс по питону',\n",
    "    'сериалы про спорт',\n",
    "]"
   ]
  },
  {
   "cell_type": "code",
   "execution_count": 34,
   "metadata": {},
   "outputs": [
    {
     "name": "stdout",
     "output_type": "stream",
     "text": [
      "Поисковых запросов, содержащих 2 слов(а): 42.86 %\n",
      "Поисковых запросов, содержащих 3 слов(а): 57.14 %\n"
     ]
    }
   ],
   "source": [
    "dictionary_of_length = {}\n",
    "\n",
    "for request in queries:\n",
    "    len_of_request = len(request.split(' '))\n",
    "    if len_of_request not in dictionary_of_length.keys():        \n",
    "        dictionary_of_length[len_of_request] = 1\n",
    "    else:\n",
    "        dictionary_of_length[len_of_request] += 1\n",
    "        \n",
    "all_requests = len(queries)\n",
    "\n",
    "for key in sorted(dictionary_of_length.keys()):\n",
    "    print(f'Поисковых запросов, содержащих {key} слов(а): {round(dictionary_of_length[key]/all_requests*100, 2)} %')\n",
    "    "
   ]
  },
  {
   "cell_type": "markdown",
   "metadata": {},
   "source": [
    "### Задание 3"
   ]
  },
  {
   "cell_type": "markdown",
   "metadata": {},
   "source": [
    "Дана переменная, в которой хранится информация о затратах и доходе рекламных кампаний по различным источникам. Необходимо дополнить исходную структуру показателем ROI, который рассчитаем по формуле: (revenue / cost - 1) * 100"
   ]
  },
  {
   "cell_type": "code",
   "execution_count": 43,
   "metadata": {},
   "outputs": [],
   "source": [
    "results = {\n",
    "    'vk': {'revenue': 103, 'cost': 98},\n",
    "    'yandex': {'revenue': 179, 'cost': 153},\n",
    "    'facebook': {'revenue': 103, 'cost': 110},\n",
    "    'adwords': {'revenue': 35, 'cost': 34},\n",
    "    'twitter': {'revenue': 11, 'cost': 24},\n",
    "}"
   ]
  },
  {
   "cell_type": "code",
   "execution_count": 45,
   "metadata": {},
   "outputs": [
    {
     "data": {
      "text/plain": [
       "{'vk': {'revenue': 103, 'cost': 98, 'ROI': 5.1},\n",
       " 'yandex': {'revenue': 179, 'cost': 153, 'ROI': 16.99},\n",
       " 'facebook': {'revenue': 103, 'cost': 110, 'ROI': -6.36},\n",
       " 'adwords': {'revenue': 35, 'cost': 34, 'ROI': 2.94},\n",
       " 'twitter': {'revenue': 11, 'cost': 24, 'ROI': -54.17}}"
      ]
     },
     "execution_count": 45,
     "metadata": {},
     "output_type": "execute_result"
    }
   ],
   "source": [
    "for company in results:\n",
    "    revenue = results[company]['revenue']\n",
    "    cost = results[company]['cost']\n",
    "    ROI = round((revenue/cost - 1) * 100, 2)\n",
    "    results[company].update(ROI = ROI)\n",
    "    \n",
    "results\n",
    "    \n",
    "    "
   ]
  },
  {
   "cell_type": "markdown",
   "metadata": {},
   "source": [
    "### Задание 4"
   ]
  },
  {
   "cell_type": "markdown",
   "metadata": {},
   "source": [
    "Дана переменная, в которой хранится статистика рекламных каналов по объемам продаж (пример структуры данных приведен ниже). Напишите программу, которая возвращает название канала с максимальным объемом продаж."
   ]
  },
  {
   "cell_type": "code",
   "execution_count": 65,
   "metadata": {},
   "outputs": [],
   "source": [
    "stats = {'facebook': 55, 'yandex': 115, 'vk': 120, 'google': 99, 'email': 42, 'ok': 98}"
   ]
  },
  {
   "cell_type": "code",
   "execution_count": 72,
   "metadata": {},
   "outputs": [
    {
     "name": "stdout",
     "output_type": "stream",
     "text": [
      "Максимальный объем продаж на рекламном канале: vk\n"
     ]
    }
   ],
   "source": [
    "max_value = max(stats.values())\n",
    "\n",
    "company = [company for company in stats if stats[company] == max_value]\n",
    "\n",
    "print(f'Максимальный объем продаж на рекламном канале: {company[0]}')\n"
   ]
  },
  {
   "cell_type": "markdown",
   "metadata": {},
   "source": [
    "### Задание 5"
   ]
  },
  {
   "cell_type": "markdown",
   "metadata": {},
   "source": [
    "Дан список произвольной длины. Необходимо написать код, который на основе исходного списка составит словарь такого уровня вложенности, какова длина исхондого списка."
   ]
  },
  {
   "cell_type": "code",
   "execution_count": 16,
   "metadata": {},
   "outputs": [
    {
     "data": {
      "text/plain": [
       "{'2018-01-01': {'yandex': {'cpc': 100}}}"
      ]
     },
     "execution_count": 16,
     "metadata": {},
     "output_type": "execute_result"
    }
   ],
   "source": [
    "my_list = ['2018-01-01', 'yandex', 'cpc', 100]\n",
    "\n",
    "initial_dictionary = {my_list[-2] : my_list[-1]}\n",
    "\n",
    "for element in range(len(my_list) - 3, -1, -1):\n",
    "    initial_dictionary = {my_list[element] : initial_dictionary}\n",
    "    \n",
    "initial_dictionary "
   ]
  },
  {
   "cell_type": "code",
   "execution_count": 17,
   "metadata": {},
   "outputs": [
    {
     "data": {
      "text/plain": [
       "{'a': {'b': {'c': {'d': {'e': 'f'}}}}}"
      ]
     },
     "execution_count": 17,
     "metadata": {},
     "output_type": "execute_result"
    }
   ],
   "source": [
    "my_list = ['a', 'b', 'c', 'd', 'e', 'f']\n",
    "\n",
    "initial_dictionary = {my_list[-2] : my_list[-1]}\n",
    "\n",
    "for element in range(len(my_list) - 3, -1, -1):\n",
    "    initial_dictionary = {my_list[element] : initial_dictionary}\n",
    "    \n",
    "initial_dictionary  "
   ]
  },
  {
   "cell_type": "code",
   "execution_count": 97,
   "metadata": {},
   "outputs": [
    {
     "data": {
      "text/plain": [
       "{'о': {'г': {'р': {'о': {'м': {'н': {'о': {'е': {' ': {'в': {'л': {'о': {'ж': {'е': {'н': {'и': 'е'}}}}}}}}}}}}}}}}"
      ]
     },
     "execution_count": 97,
     "metadata": {},
     "output_type": "execute_result"
    }
   ],
   "source": [
    "my_list = ['о', 'г', 'р', 'о', 'м', 'н', 'о', 'е', ' ', 'в', 'л', 'о', 'ж', 'е', 'н', 'и', 'е' ]\n",
    "\n",
    "initial_dictionary = {my_list[-2] : my_list[-1]}\n",
    "\n",
    "for element in range(len(my_list) - 3, -1, -1):\n",
    "    initial_dictionary = {my_list[element] : initial_dictionary}\n",
    "    \n",
    "initial_dictionary  "
   ]
  },
  {
   "cell_type": "markdown",
   "metadata": {},
   "source": [
    "### Задание 6"
   ]
  },
  {
   "cell_type": "markdown",
   "metadata": {},
   "source": [
    "Дана книга рецептов с информацией о том, сколько ингредиентов нужно для приготовления блюда в расчете на одну порцию (пример данных представлен ниже).\n",
    "Напишите программу, которая будет запрашивать у пользователя количество порций для приготовления этих блюд и отображать информацию о суммарном количестве требуемых ингредиентов в указанном виде.\n",
    "Внимание! Одинаковые ингридиенты с разными размерностями нужно считать раздельно!"
   ]
  },
  {
   "cell_type": "code",
   "execution_count": 93,
   "metadata": {},
   "outputs": [],
   "source": [
    "cook_book = {\n",
    "  'салат': [\n",
    "     {'ingridient_name': 'сыр', 'quantity': 50, 'measure': 'гр'},\n",
    "     {'ingridient_name': 'томаты', 'quantity': 2, 'measure': 'шт'},\n",
    "     {'ingridient_name': 'огурцы', 'quantity': 20, 'measure': 'гр'},\n",
    "     {'ingridient_name': 'маслины', 'quantity': 10, 'measure': 'гр'},\n",
    "     {'ingridient_name': 'оливковое масло', 'quantity': 20, 'measure': 'мл'},\n",
    "     {'ingridient_name': 'салат', 'quantity': 10, 'measure': 'гр'},\n",
    "     {'ingridient_name': 'перец', 'quantity': 20, 'measure': 'гр'}\n",
    "    ],\n",
    "  'пицца': [\n",
    "     {'ingridient_name': 'сыр', 'quantity': 20, 'measure': 'гр'},\n",
    "     {'ingridient_name': 'колбаса', 'quantity': 30, 'measure': 'гр'},\n",
    "     {'ingridient_name': 'бекон', 'quantity': 30, 'measure': 'гр'},\n",
    "     {'ingridient_name': 'оливки', 'quantity': 10, 'measure': 'гр'},\n",
    "     {'ingridient_name': 'томаты', 'quantity': 20, 'measure': 'гр'},\n",
    "     {'ingridient_name': 'тесто', 'quantity': 100, 'measure': 'гр'},   \n",
    "    ],\n",
    "  'лимонад': [\n",
    "     {'ingridient_name': 'лимон', 'quantity': 1, 'measure': 'шт'},\n",
    "     {'ingridient_name': 'вода', 'quantity': 200, 'measure': 'мл'},\n",
    "     {'ingridient_name': 'сахар', 'quantity': 10, 'measure': 'гр'},\n",
    "     {'ingridient_name': 'лайм', 'quantity': 20, 'measure': 'гр'},    \n",
    "    ]\n",
    "}"
   ]
  },
  {
   "cell_type": "code",
   "execution_count": 96,
   "metadata": {},
   "outputs": [
    {
     "data": {
      "text/plain": [
       "{'сыр': [70, 'гр'],\n",
       " 'томаты': [2, 'шт', 20, 'гр'],\n",
       " 'огурцы': [20, 'гр'],\n",
       " 'маслины': [10, 'гр'],\n",
       " 'оливковое масло': [20, 'мл'],\n",
       " 'салат': [10, 'гр'],\n",
       " 'перец': [20, 'гр'],\n",
       " 'колбаса': [30, 'гр'],\n",
       " 'бекон': [30, 'гр'],\n",
       " 'оливки': [10, 'гр'],\n",
       " 'тесто': [100, 'гр'],\n",
       " 'лимон': [1, 'шт'],\n",
       " 'вода': [200, 'мл'],\n",
       " 'сахар': [10, 'гр'],\n",
       " 'лайм': [20, 'гр']}"
      ]
     },
     "execution_count": 96,
     "metadata": {},
     "output_type": "execute_result"
    }
   ],
   "source": [
    "dict_of_ingridients = {} # Словарь для всех уникальных записей на 1 порцию\n",
    "\n",
    "for item in cook_book:\n",
    "    \n",
    "    for ingridient in cook_book[item]:\n",
    "        \n",
    "        ing_name = ingridient['ingridient_name']\n",
    "        ing_quantity = ingridient['quantity']\n",
    "        ing_measure = ingridient['measure']\n",
    "        \n",
    "        if ing_name not in dict_of_ingridients: \n",
    "            list_of_quantity = [ing_quantity, ing_measure]\n",
    "            dict_of_ingridients[ing_name] = list_of_quantity\n",
    "        \n",
    "        else:\n",
    "            \n",
    "            if dict_of_ingridients[ing_name][1] ==  ing_measure:\n",
    "                dict_of_ingridients[ing_name][0] += ing_quantity\n",
    "            \n",
    "            else:\n",
    "                dict_of_ingridients[ing_name].append(ing_quantity)  \n",
    "                dict_of_ingridients[ing_name].append(ing_measure) \n",
    "            \n",
    "dict_of_ingridients"
   ]
  },
  {
   "cell_type": "code",
   "execution_count": 98,
   "metadata": {},
   "outputs": [
    {
     "name": "stdout",
     "output_type": "stream",
     "text": [
      "Введите число порций: 3\n",
      "Список ингредиентов на 3 блюд(а):\n",
      "\n",
      "Сыр: 210 гр\n",
      "Томаты: 6 шт\n",
      "Томаты: 60 гр\n",
      "Огурцы: 60 гр\n",
      "Маслины: 30 гр\n",
      "Оливковое масло: 60 мл\n",
      "Салат: 30 гр\n",
      "Перец: 60 гр\n",
      "Колбаса: 90 гр\n",
      "Бекон: 90 гр\n",
      "Оливки: 30 гр\n",
      "Тесто: 300 гр\n",
      "Лимон: 3 шт\n",
      "Вода: 600 мл\n",
      "Сахар: 30 гр\n",
      "Лайм: 60 гр\n"
     ]
    }
   ],
   "source": [
    "number_of_portion = int(input('Введите число порций: '))\n",
    "\n",
    "dict_of_ingridients = {}\n",
    "\n",
    "for item in cook_book:\n",
    "    \n",
    "    for ingridient in cook_book[item]:\n",
    "        \n",
    "        ing_name = ingridient['ingridient_name']\n",
    "        ing_quantity = ingridient['quantity']\n",
    "        ing_measure = ingridient['measure']\n",
    "        \n",
    "        if ing_name not in dict_of_ingridients: \n",
    "            list_of_quantity = [ing_quantity, ing_measure]\n",
    "            dict_of_ingridients[ing_name] = list_of_quantity\n",
    "        \n",
    "        else:\n",
    "            \n",
    "            if dict_of_ingridients[ing_name][1] ==  ing_measure:\n",
    "                dict_of_ingridients[ing_name][0] += ing_quantity\n",
    "            \n",
    "            else:\n",
    "                dict_of_ingridients[ing_name].append(ing_quantity)  \n",
    "                dict_of_ingridients[ing_name].append(ing_measure)  \n",
    "\n",
    "print(f\"Список ингредиентов на {number_of_portion} блюд(а):\\n\")\n",
    "\n",
    "for ingridient in dict_of_ingridients:\n",
    "    \n",
    "    if len(dict_of_ingridients[ingridient]) == 2:\n",
    "        \n",
    "        quantity = dict_of_ingridients[ingridient][0] * number_of_portion\n",
    "        measure = dict_of_ingridients[ingridient][1]\n",
    "        print(f'{ingridient.capitalize()}: {quantity} {measure}')\n",
    "        \n",
    "    else:\n",
    "        \n",
    "        for item in range(0, len(dict_of_ingridients[ingridient]), 2): # Для таких случаев, как с томатом\n",
    "            quantity = dict_of_ingridients[ingridient][item] * number_of_portion\n",
    "            measure = dict_of_ingridients[ingridient][item + 1]\n",
    "            print(f'{ingridient.capitalize()}: {quantity} {measure}')\n",
    "            \n",
    "        \n",
    "        \n"
   ]
  }
 ],
 "metadata": {
  "kernelspec": {
   "display_name": "Python 3",
   "language": "python",
   "name": "python3"
  },
  "language_info": {
   "codemirror_mode": {
    "name": "ipython",
    "version": 3
   },
   "file_extension": ".py",
   "mimetype": "text/x-python",
   "name": "python",
   "nbconvert_exporter": "python",
   "pygments_lexer": "ipython3",
   "version": "3.7.3"
  }
 },
 "nbformat": 4,
 "nbformat_minor": 2
}
