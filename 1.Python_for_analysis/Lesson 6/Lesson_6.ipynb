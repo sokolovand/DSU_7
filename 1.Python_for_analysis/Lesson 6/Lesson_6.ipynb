{
 "cells": [
  {
   "cell_type": "markdown",
   "metadata": {},
   "source": [
    "# \"Исключения и обработка ошибок\""
   ]
  },
  {
   "cell_type": "markdown",
   "metadata": {},
   "source": [
    "[Заданеие 1](#task1)   \n",
    "[Заданеие 2](#task2)   \n",
    "[Заданеие 3](#task3)   \n",
    "[Заданеие 4](#task4)   "
   ]
  },
  {
   "cell_type": "markdown",
   "metadata": {},
   "source": [
    " ### Задание 1\n",
    " <a name=task1>"
   ]
  },
  {
   "cell_type": "markdown",
   "metadata": {},
   "source": [
    "Печатные газеты использовали свой формат дат для каждого выпуска. Для каждой газеты из списка напишите формат указанной даты для перевода в объект datetime:\n",
    "The Moscow Times - Wednesday, October 2, 2002\n",
    "The Guardian - Friday, 11.10.13\n",
    "Daily News - Thursday, 18 August 1977"
   ]
  },
  {
   "cell_type": "code",
   "execution_count": 16,
   "metadata": {},
   "outputs": [
    {
     "name": "stdout",
     "output_type": "stream",
     "text": [
      "2002-10-02 00:00:00 --- <class 'datetime.datetime'>\n",
      "2013-10-11 00:00:00 --- <class 'datetime.datetime'>\n",
      "1977-08-18 00:00:00 --- <class 'datetime.datetime'>\n"
     ]
    }
   ],
   "source": [
    "from datetime import datetime\n",
    "\n",
    "\n",
    "the_Moscow_times = 'Wednesday, October 2, 2002'\n",
    "the_Guardian = 'Friday, 11.10.13'\n",
    "daily_news = '18 August 1977'\n",
    "\n",
    "\n",
    "the_Moscow_times = datetime.strptime(the_Moscow_times, '%A, %B %d, %Y')\n",
    "print(the_Moscow_times, '---', type(the_Moscow_times))\n",
    "\n",
    "the_Guardian = datetime.strptime(the_Guardian, '%A, %d.%m.%y')\n",
    "print(the_Guardian, '---', type(the_Guardian))\n",
    "\n",
    "daily_news = datetime.strptime(daily_news, '%d %B %Y')\n",
    "print(daily_news, '---', type(daily_news))"
   ]
  },
  {
   "cell_type": "markdown",
   "metadata": {},
   "source": [
    "### Задание 2\n",
    " <a name=task2>"
   ]
  },
  {
   "cell_type": "markdown",
   "metadata": {},
   "source": [
    "Дан поток дат в формате YYYY-MM-DD, в которых встречаются некорректные значения:\n",
    "stream = [‘2018-04-02’, ‘2018-02-29’, ‘2018-19-02’]\n",
    "\n",
    "Напишите функцию, которая проверяет эти даты на корректность. Т. е. для каждой даты возвращает True (дата корректна) или False (некорректная дата).\n",
    "\n"
   ]
  },
  {
   "cell_type": "markdown",
   "metadata": {},
   "source": [
    "### По заданию требуется ВЕРНУТЬ значения для каждой даты. Сам смог лишь распечатать результат, так как return прекращает цикл после первой итерации"
   ]
  },
  {
   "cell_type": "code",
   "execution_count": 83,
   "metadata": {},
   "outputs": [],
   "source": [
    "from datetime import datetime\n",
    "\n",
    "def check_list_date(list_):\n",
    "    \n",
    "    template = '%Y-%m-%d'\n",
    "    \n",
    "    for string in list_:\n",
    "        try:\n",
    "            \n",
    "            data = datetime.strptime(string, template)\n",
    "            print(f'{string} имеет корректный формат.')\n",
    "            \n",
    "        except:\n",
    "            print(f'{string} имеет некорректный формат.')     "
   ]
  },
  {
   "cell_type": "code",
   "execution_count": 84,
   "metadata": {},
   "outputs": [
    {
     "name": "stdout",
     "output_type": "stream",
     "text": [
      "2018-04-02 имеет корректный формат.\n",
      "2018-02-29 имеет некорректный формат.\n",
      "2018-19-02 имеет некорректный формат.\n"
     ]
    }
   ],
   "source": [
    "stream = ['2018-04-02', '2018-02-29', '2018-19-02']\n",
    "check_list_date(stream)"
   ]
  },
  {
   "cell_type": "markdown",
   "metadata": {},
   "source": [
    "### Нашел способ возвращать значения при  каждой итерации при помощи создания генератора через yield"
   ]
  },
  {
   "cell_type": "code",
   "execution_count": 81,
   "metadata": {},
   "outputs": [],
   "source": [
    "from datetime import datetime\n",
    "\n",
    "def check_list_date_yield(list_):\n",
    "    \n",
    "    template = '%Y-%m-%d'\n",
    "    \n",
    "    for string in list_:\n",
    "        try:\n",
    "            \n",
    "            data = datetime.strptime(string, template)\n",
    "            yield True\n",
    "            \n",
    "        except:\n",
    "            yield False\n"
   ]
  },
  {
   "cell_type": "code",
   "execution_count": 91,
   "metadata": {},
   "outputs": [
    {
     "name": "stdout",
     "output_type": "stream",
     "text": [
      "2018-04-02 --- True\n",
      "2018-02-29 --- False\n",
      "2018-19-02 --- False\n"
     ]
    }
   ],
   "source": [
    "stream = ['2018-04-02', '2018-02-29', '2018-19-02']\n",
    "tuples = zip(stream, check_list_date_yield(stream))\n",
    "\n",
    "for i in tuples:\n",
    "    print(f'{i[0]} --- {i[1]}')"
   ]
  },
  {
   "cell_type": "markdown",
   "metadata": {},
   "source": [
    "### Задание 3\n",
    " <a name=task3>"
   ]
  },
  {
   "cell_type": "markdown",
   "metadata": {},
   "source": [
    "Напишите функцию date_range, которая возвращает список дат за период от start_date до end_date. Даты должны вводиться в формате YYYY-MM-DD. В случае неверного формата или при start_date > end_date должен возвращаться пустой список."
   ]
  },
  {
   "cell_type": "code",
   "execution_count": 104,
   "metadata": {},
   "outputs": [],
   "source": [
    "from datetime import datetime, timedelta\n",
    "\n",
    "\n",
    "def date_range(start_date, end_date):\n",
    "    \n",
    "    template = '%Y-%m-%d'\n",
    "    \n",
    "    try:\n",
    "        \n",
    "        start_date = datetime.strptime(start_date, template)\n",
    "        end_date = datetime.strptime(end_date, template)\n",
    "\n",
    "        if start_date > end_date:\n",
    "            return []\n",
    "        \n",
    "        else:\n",
    "            date_list = []\n",
    "            delta_date = timedelta(days=1)\n",
    "            \n",
    "            while start_date <= end_date:\n",
    "                date_list.append(datetime.strftime(start_date, template))\n",
    "                start_date += delta_date\n",
    "                \n",
    "            return date_list\n",
    "                \n",
    "    \n",
    "    except:\n",
    "        return []\n",
    "       \n"
   ]
  },
  {
   "cell_type": "code",
   "execution_count": 108,
   "metadata": {},
   "outputs": [
    {
     "data": {
      "text/plain": [
       "['2021-05-20',\n",
       " '2021-05-21',\n",
       " '2021-05-22',\n",
       " '2021-05-23',\n",
       " '2021-05-24',\n",
       " '2021-05-25',\n",
       " '2021-05-26',\n",
       " '2021-05-27',\n",
       " '2021-05-28',\n",
       " '2021-05-29']"
      ]
     },
     "execution_count": 108,
     "metadata": {},
     "output_type": "execute_result"
    }
   ],
   "source": [
    "start_date = '2021-05-20'\n",
    "end_date = '2021-05-29'\n",
    "\n",
    "date_range(start_date, end_date)"
   ]
  },
  {
   "cell_type": "code",
   "execution_count": 109,
   "metadata": {},
   "outputs": [
    {
     "data": {
      "text/plain": [
       "[]"
      ]
     },
     "execution_count": 109,
     "metadata": {},
     "output_type": "execute_result"
    }
   ],
   "source": [
    "# start_date > end_date\n",
    "start_date = '2021-05-20'\n",
    "end_date = '2020-05-29'\n",
    "\n",
    "date_range(start_date, end_date)"
   ]
  },
  {
   "cell_type": "code",
   "execution_count": 110,
   "metadata": {},
   "outputs": [
    {
     "data": {
      "text/plain": [
       "[]"
      ]
     },
     "execution_count": 110,
     "metadata": {},
     "output_type": "execute_result"
    }
   ],
   "source": [
    "# Неверный формат даты\n",
    "start_date = '20-05-2021'\n",
    "end_date = '2020-05-29'\n",
    "\n",
    "date_range(start_date, end_date)"
   ]
  },
  {
   "cell_type": "markdown",
   "metadata": {},
   "source": [
    "### Задание 4\n",
    " <a name=task4>"
   ]
  },
  {
   "cell_type": "markdown",
   "metadata": {},
   "source": [
    "Ваш коллега прислал код функции:\n",
    "\n",
    "DEFAULT_USER_COUNT = 3                \n",
    "\n",
    "def delete_and_return_last_user(region, default_list=[‘A100’, ‘A101’, ‘A102’]):                         \n",
    "\"\"“\n",
    "Удаляет из списка default_list последнего пользователя                        \n",
    "и возвращает ID нового последнего пользователя.                   \n",
    "”\"\"                              \n",
    "    element_to_delete = default_list[-1]\n",
    "    default_list.remove(element_to_delete)\n",
    "\n",
    "    return default_list[DEFAULT_USER_COUNT-2]\n",
    "При однократном вызове этой функции все работает корректно:\n",
    "delete_and_return_last_user(1)\n",
    "‘A101’\n",
    "\n",
    "Однако, при повторном вызове получается ошибка IndexError: list index out of range.\n",
    "\n",
    "Задание:\n",
    "\n",
    "Что значит ошибка list index out of range?\n",
    "Почему при первом запуске функция работает корректно, а при втором - нет?"
   ]
  },
  {
   "cell_type": "code",
   "execution_count": 139,
   "metadata": {},
   "outputs": [],
   "source": [
    "DEFAULT_USER_COUNT = 3\n",
    "\n",
    "default_list=['A100', 'A101', 'A102']\n",
    "\n",
    "def delete_and_return_last_user(default_list): \n",
    "    element_to_delete = default_list[-1]\n",
    "    default_list.remove(element_to_delete)\n",
    "    return default_list[DEFAULT_USER_COUNT-2]"
   ]
  },
  {
   "cell_type": "code",
   "execution_count": 141,
   "metadata": {},
   "outputs": [
    {
     "ename": "IndexError",
     "evalue": "list index out of range",
     "output_type": "error",
     "traceback": [
      "\u001b[0;31m---------------------------------------------------------------------------\u001b[0m",
      "\u001b[0;31mIndexError\u001b[0m                                Traceback (most recent call last)",
      "\u001b[0;32m<ipython-input-141-e65964f67eb6>\u001b[0m in \u001b[0;36m<module>\u001b[0;34m\u001b[0m\n\u001b[0;32m----> 1\u001b[0;31m \u001b[0mdelete_and_return_last_user\u001b[0m\u001b[0;34m(\u001b[0m\u001b[0mdefault_list\u001b[0m\u001b[0;34m)\u001b[0m\u001b[0;34m\u001b[0m\u001b[0;34m\u001b[0m\u001b[0m\n\u001b[0m",
      "\u001b[0;32m<ipython-input-139-17672f9e08e1>\u001b[0m in \u001b[0;36mdelete_and_return_last_user\u001b[0;34m(default_list)\u001b[0m\n\u001b[1;32m      6\u001b[0m     \u001b[0melement_to_delete\u001b[0m \u001b[0;34m=\u001b[0m \u001b[0mdefault_list\u001b[0m\u001b[0;34m[\u001b[0m\u001b[0;34m-\u001b[0m\u001b[0;36m1\u001b[0m\u001b[0;34m]\u001b[0m\u001b[0;34m\u001b[0m\u001b[0;34m\u001b[0m\u001b[0m\n\u001b[1;32m      7\u001b[0m     \u001b[0mdefault_list\u001b[0m\u001b[0;34m.\u001b[0m\u001b[0mremove\u001b[0m\u001b[0;34m(\u001b[0m\u001b[0melement_to_delete\u001b[0m\u001b[0;34m)\u001b[0m\u001b[0;34m\u001b[0m\u001b[0;34m\u001b[0m\u001b[0m\n\u001b[0;32m----> 8\u001b[0;31m     \u001b[0;32mreturn\u001b[0m \u001b[0mdefault_list\u001b[0m\u001b[0;34m[\u001b[0m\u001b[0mDEFAULT_USER_COUNT\u001b[0m\u001b[0;34m-\u001b[0m\u001b[0;36m2\u001b[0m\u001b[0;34m]\u001b[0m\u001b[0;34m\u001b[0m\u001b[0;34m\u001b[0m\u001b[0m\n\u001b[0m",
      "\u001b[0;31mIndexError\u001b[0m: list index out of range"
     ]
    }
   ],
   "source": [
    "delete_and_return_last_user(default_list)"
   ]
  },
  {
   "cell_type": "markdown",
   "metadata": {},
   "source": [
    "#### У нас 3 элемента в списке - индексы 0, 1, 2\n",
    "#### После удаления последнего (индекс 2) элемента останется 0 и 1\n",
    "#### return никак не привязан к числу элементов в списке, а отталкивается лишь от константы DEFAULT_USER_COUNT - 2\n",
    "#### При втором вызове функции список преедается с двумя элементами, происходит удаление последнего элемента, что оставляет в списке лишь что-то с индексом 0, а return должен вернуть что-то по индексу DEFAULT_USER_COUNT - 2, поэтму возникает ошибка, сигнализирующая о выходе индекса за диапазон возможных значений"
   ]
  }
 ],
 "metadata": {
  "kernelspec": {
   "display_name": "Python 3",
   "language": "python",
   "name": "python3"
  },
  "language_info": {
   "codemirror_mode": {
    "name": "ipython",
    "version": 3
   },
   "file_extension": ".py",
   "mimetype": "text/x-python",
   "name": "python",
   "nbconvert_exporter": "python",
   "pygments_lexer": "ipython3",
   "version": "3.7.3"
  }
 },
 "nbformat": 4,
 "nbformat_minor": 2
}
