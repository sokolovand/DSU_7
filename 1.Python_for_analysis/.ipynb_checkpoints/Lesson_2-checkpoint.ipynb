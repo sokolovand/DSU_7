{
 "cells": [
  {
   "cell_type": "markdown",
   "metadata": {},
   "source": [
    "### Задание 1\n",
    "\n",
    "Дана переменная, в которой хранится слово из латинских букв. Напишите код, который выводит на экран:\n",
    "\n",
    "среднюю букву, если число букв в слове нечетное;\n",
    "две средних буквы, если число букв четное.\n"
   ]
  },
  {
   "cell_type": "code",
   "execution_count": 20,
   "metadata": {},
   "outputs": [
    {
     "name": "stdout",
     "output_type": "stream",
     "text": [
      "Введите слово: testing\n",
      "t\n"
     ]
    }
   ],
   "source": [
    "word = input(\"Введите слово: \")\n",
    "\n",
    "if len(word) % 2 == 0:\n",
    "    first_index = int(len(word)/2) - 1\n",
    "    second_index = int(len(word)/2) + 1\n",
    "    print(word[first_index : second_index])\n",
    "\n",
    "else:\n",
    "    middle_index = int((len(word)-1)/2)\n",
    "    print(word[middle_index])\n"
   ]
  },
  {
   "cell_type": "code",
   "execution_count": 66,
   "metadata": {},
   "outputs": [
    {
     "name": "stdout",
     "output_type": "stream",
     "text": [
      "Введите слово: test\n",
      "es\n"
     ]
    }
   ],
   "source": [
    "word = input(\"Введите слово: \")\n",
    "\n",
    "if len(word) % 2 == 0:\n",
    "    first_index = int(len(word)/2) - 1\n",
    "    second_index = int(len(word)/2) + 1\n",
    "    print(word[first_index : second_index])\n",
    "\n",
    "else:\n",
    "    middle_index = int((len(word)-1)/2)\n",
    "    print(word[middle_index])\n"
   ]
  },
  {
   "cell_type": "markdown",
   "metadata": {},
   "source": [
    "### Задание 2\n",
    "\n",
    "Напишите программу, которая последовательно запрашивает у пользователя числа (по одному за раз) и после первого нуля выводит сумму всех ранее введенных чисел."
   ]
  },
  {
   "cell_type": "code",
   "execution_count": 24,
   "metadata": {},
   "outputs": [
    {
     "name": "stdout",
     "output_type": "stream",
     "text": [
      "Введите любое число: 5\n",
      "Введите любое число: 4\n",
      "Введите любое число: 6\n",
      "Введите любое число: 7\n",
      "Введите любое число: 8\n",
      "Введите любое число: -5\n",
      "Введите любое число: -4\n",
      "Введите любое число: -6\n",
      "Введите любое число: -8\n",
      "Введите любое число: 0\n",
      "Сумма введенных чисел равна 7.0.\n"
     ]
    }
   ],
   "source": [
    "summa = 0\n",
    "number = None\n",
    "\n",
    "while number != 0:\n",
    "    number = float(input(\"Введите любое число: \"))\n",
    "    summa += number\n",
    "    \n",
    "print(f\"Сумма введенных чисел равна {summa}.\")\n"
   ]
  },
  {
   "cell_type": "markdown",
   "metadata": {},
   "source": [
    "### Задание 3\n",
    "\n",
    "MVP dating-сервис"
   ]
  },
  {
   "cell_type": "code",
   "execution_count": 47,
   "metadata": {},
   "outputs": [
    {
     "name": "stdout",
     "output_type": "stream",
     "text": [
      "Идеальные пары:\n",
      "Alex и Emma\n",
      "Arthur и Kate\n",
      "John и Kira\n",
      "Peter и Liza\n",
      "Richard и Trisha\n"
     ]
    }
   ],
   "source": [
    "boys = ['Peter', 'Alex', 'John', 'Arthur', 'Richard']\n",
    "girls = ['Kate', 'Liza', 'Kira', 'Emma', 'Trisha']\n",
    "\n",
    "if len(boys) == len(girls):\n",
    "    boys = sorted(boys)\n",
    "    girls = sorted(girls)\n",
    "    print(\"Идеальные пары:\")\n",
    "    for man in range(len(boys)):\n",
    "        print(f\"{boys[man]} и {girls[man]}\")\n",
    "\n",
    "else:\n",
    "    print(\"Внимание, кто-то может остаться без пары!\")\n",
    "    "
   ]
  },
  {
   "cell_type": "code",
   "execution_count": 48,
   "metadata": {},
   "outputs": [
    {
     "name": "stdout",
     "output_type": "stream",
     "text": [
      "Внимание, кто-то может остаться без пары!\n"
     ]
    }
   ],
   "source": [
    "boys = ['Peter', 'Alex', 'John', 'Arthur', 'Richard']\n",
    "girls = ['Kate', 'Liza', 'Kira', 'Emma', 'Trisha', 'Anna']\n",
    "\n",
    "if len(boys) == len(girls):\n",
    "    boys = sorted(boys)\n",
    "    girls = sorted(girls)\n",
    "    print(\"Идеальные пары:\")\n",
    "    for man in range(len(boys)):\n",
    "        print(f\"{boys[man]} и {girls[man]}\")\n",
    "\n",
    "else:\n",
    "    print(\"Внимание, кто-то может остаться без пары!\")\n",
    "    "
   ]
  },
  {
   "cell_type": "markdown",
   "metadata": {},
   "source": [
    "### Задание 4\n",
    "\n",
    "Необходимо написать код, который рассчитает среднюю температуру за период в Цельсиях(!) для каждой страны."
   ]
  },
  {
   "cell_type": "code",
   "execution_count": 51,
   "metadata": {},
   "outputs": [
    {
     "name": "stdout",
     "output_type": "stream",
     "text": [
      "Thailand - 23.86 C\n",
      "Germany - 13.8 C\n",
      "Russia - 3.71 C\n",
      "Poland - 12.0 C\n"
     ]
    }
   ],
   "source": [
    "# Рабочая формула: (Фаренгейт — 32) / 1,8 = Цельсий \n",
    "\n",
    "countries_temperature = [\n",
    "['Thailand', [75.2, 77, 78.8, 73.4, 68, 75.2, 77]],\n",
    "['Germany', [57.2, 55.4, 59, 59, 53.6]],\n",
    "['Russia', [35.6, 37.4, 39.2, 41, 42.8, 39.2, 35.6]],\n",
    "['Poland', [50, 50, 53.6, 57.2, 55.4, 55.4]]\n",
    "]\n",
    "\n",
    "for country in countries_temperature:\n",
    "    sum_of_temperatures = 0\n",
    "    for day in country[1]:\n",
    "        celsium = (day - 32)/1.8\n",
    "        sum_of_temperatures += celsium\n",
    "    middle_temperature = round(sum_of_temperatures / len(country[1]), 2)\n",
    "    print(f\"{country[0]} - {middle_temperature} C\")\n",
    "        "
   ]
  },
  {
   "cell_type": "markdown",
   "metadata": {},
   "source": [
    "### Задание 5\n",
    "\n",
    "Дан поток логов по количеству просмотренных страниц для каждого пользователя. Вам необходимо написать алгоритм, который считает среднее значение просмотров на пользователя."
   ]
  },
  {
   "cell_type": "code",
   "execution_count": 59,
   "metadata": {},
   "outputs": [
    {
     "name": "stdout",
     "output_type": "stream",
     "text": [
      "Среднее количество просмотров на уникального пользователя: 23.25\n"
     ]
    }
   ],
   "source": [
    "stream = [\n",
    "'2018-01-01,user1,3',\n",
    "'2018-01-07,user1,4',\n",
    "'2018-03-29,user1,1',\n",
    "'2018-04-04,user1,13',\n",
    "'2018-01-05,user2,7',\n",
    "'2018-06-14,user3,4',\n",
    "'2018-07-02,user3,10',\n",
    "'2018-03-21,user4,19',\n",
    "'2018-03-22,user4,4',\n",
    "'2018-04-22,user4,8',\n",
    "'2018-05-03,user4,9',\n",
    "'2018-05-11,user4,11',\n",
    "]\n",
    "\n",
    "data =[]\n",
    "# Разделение по маркеру \",\"\n",
    "for log in stream:  \n",
    "    data.append(log.split(','))\n",
    "data\n",
    "\n",
    "# Подсчет общего числа просмотров на всех\n",
    "amount_of_views = 0\n",
    "for log in data:\n",
    "    amount_of_views += int(log[2])\n",
    "    \n",
    "# Подсчет уникальных юзерорв\n",
    "unique_users = []\n",
    "for log in data:\n",
    "    if log[1] not in unique_users:\n",
    "        unique_users.append(log[1])\n",
    "amount_of_unique_users = int(len(unique_users))\n",
    "\n",
    "# Среднее количество просмотров на 1 юзера\n",
    "average_number_of_views = amount_of_views/amount_of_unique_users\n",
    "\n",
    "print(f\"Среднее количество просмотров на уникального пользователя: {average_number_of_views}\")"
   ]
  },
  {
   "cell_type": "code",
   "execution_count": 62,
   "metadata": {},
   "outputs": [
    {
     "name": "stdout",
     "output_type": "stream",
     "text": [
      "Среднее количество просмотров на уникального пользователя: 145.33\n"
     ]
    }
   ],
   "source": [
    "stream = [\n",
    "'2018-01-01,user100,150',\n",
    "'2018-01-07,user99,205',\n",
    "'2018-03-29,user1001,81'\n",
    "]\n",
    "\n",
    "data =[]\n",
    "# Разделение по маркеру \",\"\n",
    "for log in stream:  \n",
    "    data.append(log.split(','))\n",
    "data\n",
    "\n",
    "# Подсчет общего числа просмотров на всех\n",
    "amount_of_views = 0\n",
    "for log in data:\n",
    "    amount_of_views += int(log[2])\n",
    "    \n",
    "# Подсчет уникальных юзерорв\n",
    "unique_users = []\n",
    "for log in data:\n",
    "    if log[1] not in unique_users:\n",
    "        unique_users.append(log[1])\n",
    "amount_of_unique_users = int(len(unique_users))\n",
    "\n",
    "# Среднее количество просмотров на 1 юзера\n",
    "average_number_of_views = round(amount_of_views/amount_of_unique_users, 2)\n",
    "\n",
    "print(f\"Среднее количество просмотров на уникального пользователя: {average_number_of_views}\")"
   ]
  },
  {
   "cell_type": "markdown",
   "metadata": {},
   "source": [
    "### Задание 6\n",
    "\n",
    "Необходимо у пользователя запрашивать набор чисел, разделенных пробелом. В результате должны выводиться числа, которые повторяются в вводе более одного раза.\n"
   ]
  },
  {
   "cell_type": "code",
   "execution_count": 65,
   "metadata": {},
   "outputs": [
    {
     "name": "stdout",
     "output_type": "stream",
     "text": [
      "Введите набор чисел через пробел: 1 1 2 2 2 3 4 5\n",
      "1 2\n"
     ]
    }
   ],
   "source": [
    "numbers = input(\"Введите набор чисел через пробел: \")\n",
    "\n",
    "list_of_numbers = numbers.split(' ')\n",
    "repeats = []\n",
    "\n",
    "for number in list_of_numbers:\n",
    "    if number not in repeats:\n",
    "        if list_of_numbers.count(number) >1:\n",
    "            repeats.append(number)\n",
    "        else:\n",
    "            continue\n",
    "\n",
    "repeats = sorted(repeats)\n",
    "list_of_repeats = ' '.join(repeats)\n",
    "\n",
    "print(list_of_repeats)\n"
   ]
  }
 ],
 "metadata": {
  "kernelspec": {
   "display_name": "Python 3",
   "language": "python",
   "name": "python3"
  },
  "language_info": {
   "codemirror_mode": {
    "name": "ipython",
    "version": 3
   },
   "file_extension": ".py",
   "mimetype": "text/x-python",
   "name": "python",
   "nbconvert_exporter": "python",
   "pygments_lexer": "ipython3",
   "version": "3.7.3"
  }
 },
 "nbformat": 4,
 "nbformat_minor": 2
}
