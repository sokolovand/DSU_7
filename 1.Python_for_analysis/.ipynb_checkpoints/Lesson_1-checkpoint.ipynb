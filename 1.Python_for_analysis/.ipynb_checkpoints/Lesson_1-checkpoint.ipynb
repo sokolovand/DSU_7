{
 "cells": [
  {
   "cell_type": "markdown",
   "metadata": {},
   "source": [
    "### Задание 1\n",
    "    \n",
    "Даны 2 переменных, в которых хранятся строки произвольной длины: phrase_1 и phrase_2.\n",
    "Напишите код, который проверяет какая из этих строк длиннее."
   ]
  },
  {
   "cell_type": "code",
   "execution_count": 1,
   "metadata": {},
   "outputs": [
    {
     "name": "stdout",
     "output_type": "stream",
     "text": [
      "Фраза 2 длиннее фразы 1\n"
     ]
    }
   ],
   "source": [
    "phrase_1 = \"Пусть это будет предложение №1\"\n",
    "phrase_2 = \"А это мы сделаем предложением №2, которое предположительно длиннее первого\"\n",
    "\n",
    "if len(phrase_1) > len(phrase_2):\n",
    "    print(\"Фраза 1 длиннее фразы 2\")\n",
    "elif len(phrase_1) < len(phrase_2):\n",
    "    print(\"Фраза 2 длиннее фразы 1\")\n",
    "else:\n",
    "    print(\"А фразы-то оказались равными!\")"
   ]
  },
  {
   "cell_type": "code",
   "execution_count": 2,
   "metadata": {},
   "outputs": [
    {
     "name": "stdout",
     "output_type": "stream",
     "text": [
      "Фраза 1 длиннее фразы 2\n"
     ]
    }
   ],
   "source": [
    "phrase_1 = \"Теперь эта строка будет длинеее\"\n",
    "phrase_2 = \"А эта короче\"\n",
    "\n",
    "if len(phrase_1) > len(phrase_2):\n",
    "    print(\"Фраза 1 длиннее фразы 2\")\n",
    "elif len(phrase_1) < len(phrase_2):\n",
    "    print(\"Фраза 2 длиннее фразы 1\")\n",
    "else:\n",
    "    print(\"А фразы-то оказались равными!\")"
   ]
  },
  {
   "cell_type": "code",
   "execution_count": 1,
   "metadata": {},
   "outputs": [
    {
     "name": "stdout",
     "output_type": "stream",
     "text": [
      "А фразы-то оказались равными!\n"
     ]
    }
   ],
   "source": [
    "phrase_1 = \"А тут они равны?\"\n",
    "phrase_2 = \"Проверим ка это!\"\n",
    "\n",
    "if len(phrase_1) > len(phrase_2):\n",
    "    print(\"Фраза 1 длиннее фразы 2\")\n",
    "elif len(phrase_1) < len(phrase_2):\n",
    "    print(\"Фраза 2 длиннее фразы 1\")\n",
    "else:\n",
    "    print(\"А фразы-то оказались равными!\")"
   ]
  },
  {
   "cell_type": "markdown",
   "metadata": {},
   "source": [
    "### Задание 2\n",
    "    \n",
    "Дана переменная, в которой хранится четырехзначное число (год). Необходимо написать программу, \n",
    "которая выведет, является ли данный год високосным или обычным."
   ]
  },
  {
   "cell_type": "code",
   "execution_count": 17,
   "metadata": {},
   "outputs": [
    {
     "name": "stdout",
     "output_type": "stream",
     "text": [
      "2021 год не является високосным\n"
     ]
    }
   ],
   "source": [
    "year = 2021\n",
    "\n",
    "if year % 4 == 0:\n",
    "    print(f'{year} год является високосным')\n",
    "else:\n",
    "    print(f'{year} год не является високосным')"
   ]
  },
  {
   "cell_type": "markdown",
   "metadata": {},
   "source": [
    "### Задание 3\n",
    "    \n",
    "Необходимо написать программу, которая будет запрашивать у пользователя месяц и дату рождения и выводить соответствующий знак зодиака."
   ]
  },
  {
   "cell_type": "code",
   "execution_count": 1,
   "metadata": {},
   "outputs": [
    {
     "name": "stdout",
     "output_type": "stream",
     "text": [
      "Введите Ваш месяц рождения: февраль\n",
      "Введите Ваш день рождения: 1\n",
      "Ваш знак зодиака: Водолей\n"
     ]
    }
   ],
   "source": [
    "month = input(\"Введите Ваш месяц рождения: \")\n",
    "day = int(input(\"Введите Ваш день рождения: \"))\n",
    "month = month.lower()\n",
    "\n",
    "if month == 'январь':\n",
    "    if day >31:\n",
    "        print(\"В данном месяце меньше дней\")\n",
    "    else:\n",
    "        if day < 21:\n",
    "            print(\"Ваш знак зодиака: Козерог\")\n",
    "        else:\n",
    "            print(\"Ваш знак зодиака: Водолей\")\n",
    "\n",
    "elif month == 'февраль':\n",
    "    if day >29:\n",
    "        print(\"В данном месяце меньше дней\")\n",
    "    else:\n",
    "        if day < 20:\n",
    "            print(\"Ваш знак зодиака: Водолей\")\n",
    "        else:\n",
    "            print(\"Ваш знак зодиака: Рыба\")\n",
    "\n",
    "elif month == 'март':\n",
    "    if day >31:\n",
    "        print(\"В данном месяце меньше дней\")\n",
    "    else:\n",
    "        if day < 20:\n",
    "            print(\"Ваш знак зодиака: Рыба\")\n",
    "        else:\n",
    "            print(\"Ваш знак зодиака: Овен\")\n",
    "\n",
    "\n",
    "elif month == 'апрель':\n",
    "    if day >30:\n",
    "        print(\"В данном месяце меньше дней\")\n",
    "    else:\n",
    "        if day < 20:\n",
    "            print(\"Ваш знак зодиака: Овен\")\n",
    "        else:\n",
    "            print(\"Ваш знак зодиака: Телец\")\n",
    "\n",
    "\n",
    "elif month == 'май':\n",
    "    if day >31:\n",
    "        print(\"В данном месяце меньше дней\")\n",
    "    else:\n",
    "        if day < 21:\n",
    "            print(\"Ваш знак зодиака: Телец\")\n",
    "        else:\n",
    "            print(\"Ваш знак зодиака: Близнецы\")\n",
    "\n",
    "\n",
    "elif month == 'июнь':\n",
    "    if day >30:\n",
    "        print(\"В данном месяце меньше дней\")\n",
    "    else:\n",
    "        if day < 21:\n",
    "            print(\"Ваш знак зодиака: Близнецы\")\n",
    "        else:\n",
    "            print(\"Ваш знак зодиака: Рак\")\n",
    "\n",
    "\n",
    "elif month == 'июль':\n",
    "    if day >31:\n",
    "        print(\"В данном месяце меньше дней\")\n",
    "    else:\n",
    "        if day < 22:\n",
    "            print(\"Ваш знак зодиака: Рак\")\n",
    "        else:\n",
    "            print(\"Ваш знак зодиака: Лев\")\n",
    "\n",
    "\n",
    "elif month == 'август':\n",
    "    if day >31:\n",
    "        print(\"В данном месяце меньше дней\")\n",
    "    else:\n",
    "        if day < 21:\n",
    "            print(\"Ваш знак зодиака: Лев\")\n",
    "        else:\n",
    "            print(\"Ваш знак зодиака: Дева\")\n",
    "\n",
    "\n",
    "elif month == 'сентябрь':\n",
    "    if day >30:\n",
    "        print(\"В данном месяце меньше дней\")\n",
    "    else:\n",
    "        if day < 23:\n",
    "            print(\"Ваш знак зодиака: Дева\")\n",
    "        else:\n",
    "            print(\"Ваш знак зодиака: Весы\")\n",
    "\n",
    "\n",
    "elif month == 'октябрь':\n",
    "    if day >31:\n",
    "        print(\"В данном месяце меньше дней\")\n",
    "    else:\n",
    "        if day < 23:\n",
    "            print(\"Ваш знак зодиака: Весы\")\n",
    "        else:\n",
    "            print(\"Ваш знак зодиака: Скорпион\")\n",
    "\n",
    "\n",
    "elif month == 'ноябрь':\n",
    "    if day >30:\n",
    "        print(\"В данном месяце меньше дней\")\n",
    "    else:\n",
    "        if day < 22:\n",
    "            print(\"Ваш знак зодиака: Скорпион\")\n",
    "        else:\n",
    "            print(\"Ваш знак зодиака: Стрелец\")\n",
    "\n",
    "\n",
    "elif month == 'декабрь':\n",
    "    if day >31:\n",
    "        print(\"В данном месяце меньше дней\")\n",
    "    else:\n",
    "        if day < 22:\n",
    "            print(\"Ваш знак зодиака: Стрелец\")\n",
    "        else:\n",
    "            print(\"Ваш знак зодиака: Козерог\")\n",
    "\n",
    "\n"
   ]
  },
  {
   "cell_type": "markdown",
   "metadata": {},
   "source": [
    "### Задание 4\n",
    "    \n",
    "Вам нужно написать программу для подбора упаковок по размерам товара. "
   ]
  },
  {
   "cell_type": "code",
   "execution_count": 30,
   "metadata": {},
   "outputs": [
    {
     "name": "stdout",
     "output_type": "stream",
     "text": [
      "Стандартная коробка №3\n"
     ]
    }
   ],
   "source": [
    "width = 10\n",
    "length = 200\n",
    "height = 5\n",
    "\n",
    "if width < 15 and length < 15 and height < 15:\n",
    "    print(\"Коробка №1\")\n",
    "elif 15 < width and width < 50 or 15 < length and length < 50 or 15 < height and height < 50:\n",
    "    print(\"Коробка №2\")\n",
    "elif width > 200 or length > 200 or height > 200:\n",
    "    print(\"Упаковка для лыж\")\n",
    "else:\n",
    "    print(\"Стандартная коробка №3\")"
   ]
  },
  {
   "cell_type": "markdown",
   "metadata": {},
   "source": [
    "### Задание 5\n",
    "\n",
    "Дана переменная, в которой хранится шестизначное число (номер проездного билета). \n",
    "Напишите программу, которая будет определять, является ли данный билет “счастливым”. \n",
    "Билет считается счастливым, если сумма первых трех цифр совпадает с суммой последних трех цифр номера."
   ]
  },
  {
   "cell_type": "code",
   "execution_count": 47,
   "metadata": {},
   "outputs": [
    {
     "name": "stdout",
     "output_type": "stream",
     "text": [
      "Введите свое число для проверки на счастье: 123123\n",
      "Счастливый билетик! Ешь теперь...\n"
     ]
    }
   ],
   "source": [
    "number = input(\"Введите свое число для проверки на счастье: \")\n",
    "\n",
    "if len(number) != 6:\n",
    "    print(\"Неверное число\")\n",
    "\n",
    "first_part = number[0:3]\n",
    "second_part = number[3:]\n",
    "\n",
    "sum_of_first_3_numbers = 0\n",
    "sum_of_second_3_numbers = 0\n",
    "\n",
    "for letter in first_part:\n",
    "    sum_of_first_3_numbers += int(letter)\n",
    "\n",
    "for letter in second_part:\n",
    "    sum_of_second_3_numbers += int(letter)\n",
    "    \n",
    "if sum_of_first_3_numbers == sum_of_second_3_numbers:\n",
    "    print(\"Счастливый билетик! Ешь теперь...\")\n",
    "else:\n",
    "    print(\"Не повезло :(\")"
   ]
  },
  {
   "cell_type": "markdown",
   "metadata": {},
   "source": [
    "### Задание 6\n",
    "    \n",
    "Напишите программу, которая сможет вычислять площади трех фигур (круг, треугольник и прямоугольник). "
   ]
  },
  {
   "cell_type": "code",
   "execution_count": 2,
   "metadata": {},
   "outputs": [
    {
     "name": "stdout",
     "output_type": "stream",
     "text": [
      "Введите название фигуры: треугольник\n",
      "Введите длину первой стороны (см): 2\n",
      "Введите длину второй стороны (см): 2\n",
      "Введите длину третьей стороны (см): 3\n",
      "Площадь прямоугольника равна 1.984313483298443 квадратных сантиметров\n"
     ]
    }
   ],
   "source": [
    "type_of_figure = input(\"Введите название фигуры: \")\n",
    "type_of_figure = type_of_figure.lower()\n",
    "type_of_figure\n",
    "\n",
    "if type_of_figure == 'круг':\n",
    "    radius = int(input(\"Введите радиус (см): \"))\n",
    "    square = 3.141592 * radius**2\n",
    "    print(f\"Площадь круга равна {square} квадратных сантиметров\")\n",
    "    \n",
    "elif type_of_figure == 'прямоугольник':\n",
    "    side_1 = int(input(\"Введите длину первой стороны (см): \"))\n",
    "    side_2 = int(input(\"Введите длину второй стороны (см): \"))\n",
    "    square = side_1 * side_2\n",
    "    print(f\"Площадь прямоугольника равна {square} квадратных сантиметров\")\n",
    "    \n",
    "elif type_of_figure == 'треугольник':\n",
    "    side_1 = int(input(\"Введите длину первой стороны (см): \"))\n",
    "    side_2 = int(input(\"Введите длину второй стороны (см): \"))\n",
    "    side_3 = int(input(\"Введите длину третьей стороны (см): \"))\n",
    "    \n",
    "    #Площадь через полупериметр\n",
    "    p = (side_1 + side_2 + side_3)/2\n",
    "    square = (p * (p - side_1) * (p - side_2) * (p - side_3))**0.5\n",
    "    print(f\"Площадь прямоугольника равна {square} квадратных сантиметров\")"
   ]
  }
 ],
 "metadata": {
  "kernelspec": {
   "display_name": "Python 3",
   "language": "python",
   "name": "python3"
  },
  "language_info": {
   "codemirror_mode": {
    "name": "ipython",
    "version": 3
   },
   "file_extension": ".py",
   "mimetype": "text/x-python",
   "name": "python",
   "nbconvert_exporter": "python",
   "pygments_lexer": "ipython3",
   "version": "3.7.3"
  }
 },
 "nbformat": 4,
 "nbformat_minor": 2
}
