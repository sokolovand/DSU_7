{
 "cells": [
  {
   "cell_type": "markdown",
   "metadata": {},
   "source": [
    "## Задание 1 и 2 вместе"
   ]
  },
  {
   "cell_type": "code",
   "execution_count": 185,
   "metadata": {},
   "outputs": [],
   "source": [
    "documents = [\n",
    " {'type': 'passport', 'number': '2207 876234', 'name': 'Василий Гупкин'},\n",
    " {'type': 'invoice', 'number': '11-2', 'name': 'Геннадий Покемонов'},\n",
    " {'type': 'insurance', 'number': '10006', 'name': 'Аристарх Павлов'}\n",
    "]\n",
    "\n",
    "directories = {\n",
    " '1': ['2207 876234', '11-2'],\n",
    " '2': ['10006'],\n",
    " '3': []\n",
    "}\n"
   ]
  },
  {
   "cell_type": "markdown",
   "metadata": {},
   "source": [
    "### Составление функций"
   ]
  },
  {
   "cell_type": "markdown",
   "metadata": {},
   "source": [
    "### Пункт 1. Пользователь по команде \"p\" может узнать владельца документа по его номеру"
   ]
  },
  {
   "cell_type": "code",
   "execution_count": 136,
   "metadata": {},
   "outputs": [],
   "source": [
    "# Так как в ряде пунктов необходимо еще определить, есть ли требуемый номер документа в базе данных,\n",
    "# то я решил использовать ещё одну функцию для проверки. Она работает из условия, что если документ \n",
    "# есть в documents, он есть и в directories. В дальнейшем она вызывается в условиях if.\n",
    "# В задании 2 п.3 аргумент return_key передается с True, что вернет номер полки по номеру документа\n",
    "def check_element_in_directories(element, return_key = False):\n",
    "    \n",
    "    for key in directories.keys():\n",
    "        \n",
    "        if element in directories[key]:\n",
    "            \n",
    "            if return_key:\n",
    "                key_of_element = key \n",
    "                return key_of_element\n",
    "            \n",
    "            else:\n",
    "                return True\n",
    "        "
   ]
  },
  {
   "cell_type": "markdown",
   "metadata": {},
   "source": [
    "\n",
    "##### Вариант 1"
   ]
  },
  {
   "cell_type": "code",
   "execution_count": 6,
   "metadata": {},
   "outputs": [
    {
     "name": "stdout",
     "output_type": "stream",
     "text": [
      "Владелец документа: Аристарх Павлов\n",
      "Документ не найден в базе\n"
     ]
    }
   ],
   "source": [
    "def to_know_the_owner(number):\n",
    "    \n",
    "    if check_element_in_directories(number):\n",
    "        name = [doc_type['name'] for doc_type in documents if doc_type['number'] == number]\n",
    "        print(f'Владелец документа: {name[0]}')\n",
    "        \n",
    "    else:\n",
    "        print('Документ не найден в базе')\n",
    "\n",
    "number = '10006'\n",
    "to_know_the_owner(number)\n",
    "number = '106'\n",
    "to_know_the_owner(number)        "
   ]
  },
  {
   "cell_type": "markdown",
   "metadata": {},
   "source": [
    "##### Вариант 2"
   ]
  },
  {
   "cell_type": "code",
   "execution_count": 7,
   "metadata": {},
   "outputs": [
    {
     "name": "stdout",
     "output_type": "stream",
     "text": [
      "Владелец документа: Аристарх Павлов\n",
      "Документ не найден в базе\n"
     ]
    }
   ],
   "source": [
    "def to_know_the_owner(number):\n",
    "    \n",
    "    if check_element_in_directories(number):\n",
    "        for doc_type in documents:\n",
    "            if doc_type['number'] == number:\n",
    "                name = doc_type['name']\n",
    "                print(f'Владелец документа: {name}')\n",
    "    else:\n",
    "        print('Документ не найден в базе')\n",
    "            \n",
    "number = '10006'\n",
    "to_know_the_owner(number) \n",
    "number = '106'\n",
    "to_know_the_owner(number)"
   ]
  },
  {
   "cell_type": "markdown",
   "metadata": {},
   "source": [
    "### Пункт 2. Пользователь по команде \"s\" может по номеру документа узнать на какой полке он хранится"
   ]
  },
  {
   "cell_type": "code",
   "execution_count": 165,
   "metadata": {},
   "outputs": [],
   "source": [
    "def to_know_the_shelf_number(number):\n",
    "    \n",
    "    if check_element_in_directories(number):\n",
    "        shelf = [key for key in directories.keys() if number in directories[key]]\n",
    "        return shelf[0]"
   ]
  },
  {
   "cell_type": "markdown",
   "metadata": {},
   "source": [
    "### Пункт 3. Пользователь по команде \"l\" может увидеть полную информацию по всем документам"
   ]
  },
  {
   "cell_type": "code",
   "execution_count": 167,
   "metadata": {},
   "outputs": [
    {
     "name": "stdout",
     "output_type": "stream",
     "text": [
      "№: 2207 876234, тип: passport, владелец: Василий Гупкин, полка хранения: 1\n",
      "№: 11-2, тип: invoice, владелец: Геннадий Покемонов, полка хранения: 1\n",
      "№: 10006, тип: insurance, владелец: Аристарх Павлов, полка хранения: 2\n"
     ]
    }
   ],
   "source": [
    "def to_learn_everything():\n",
    "    \n",
    "    for doc in documents:\n",
    "        \n",
    "        number = doc['number']\n",
    "        name = doc['name']\n",
    "        doc_type = doc['type']\n",
    "        shelf = list(to_know_the_shelf_number(number))\n",
    "        \n",
    "        print(f'№: {number}, тип: {doc_type}, владелец: {name}, полка хранения: {shelf[0]}')\n",
    "\n",
    "to_learn_everything()"
   ]
  },
  {
   "cell_type": "markdown",
   "metadata": {},
   "source": [
    "### Пункт 4. Пользователь по команде \"ads\" может добавить новую полку"
   ]
  },
  {
   "cell_type": "code",
   "execution_count": 181,
   "metadata": {},
   "outputs": [],
   "source": [
    "def new_shelf(shelf):\n",
    "    \n",
    "    shelf = str(shelf[0])\n",
    "    \n",
    "    if shelf not in directories.keys(): \n",
    "        directories[shelf] = []\n",
    "        print('Полка добавлена.')\n",
    "        \n",
    "    else:\n",
    "        print('Такая полка уже существует.')\n",
    "    \n",
    "    shelves = ', '.join(list(directories.keys()))\n",
    "    print(f'Текущий перечень полок: {shelves}')\n",
    "\n",
    "        \n",
    "\n",
    "# new_shelf(15)\n",
    "# new_shelf(15)"
   ]
  },
  {
   "cell_type": "markdown",
   "metadata": {},
   "source": [
    "### Пункт 5. Пользователь по команде \"ds\" может удалить существующую полку из данных (только если она пустая)"
   ]
  },
  {
   "cell_type": "code",
   "execution_count": 12,
   "metadata": {},
   "outputs": [
    {
     "name": "stdout",
     "output_type": "stream",
     "text": [
      "На полке есть документы, удалите их перед удалением полки. Текущий перечень полок: 1, 2, 3\n",
      "Такой полки не существует.  Текущий перечень полок: 1, 2, 3\n",
      "Такой полки не существует.  Текущий перечень полок: 1, 2, 3\n"
     ]
    }
   ],
   "source": [
    "def delet_shelf(key):\n",
    "    \n",
    "    if key not in directories.keys():\n",
    "        shelves = ', '.join(list(directories.keys()))\n",
    "        print(f'Такой полки не существует.  Текущий перечень полок: {shelves}')\n",
    "        \n",
    "    elif directories[key] == [] or directories[key] == None:\n",
    "        del(directories[key])\n",
    "        shelves = ', '.join(list(directories.keys()))\n",
    "        print(f'Полка удалена. Текущий перечень полок: {shelves}')\n",
    "        \n",
    "    elif directories[key] != [] or directories[key] != None:\n",
    "        shelves = ', '.join(list(directories.keys()))\n",
    "        print(f'На полке есть документы, удалите их перед удалением полки. Текущий перечень полок: {shelves}')\n",
    "\n",
    "delet_shelf('1')\n",
    "delet_shelf('12')\n",
    "delet_shelf('25')"
   ]
  },
  {
   "cell_type": "markdown",
   "metadata": {},
   "source": [
    "### Дополнительно"
   ]
  },
  {
   "cell_type": "markdown",
   "metadata": {},
   "source": [
    "### Пункт 1. Пользователь по команде \"ad\" может добавить новый документ в данные"
   ]
  },
  {
   "cell_type": "code",
   "execution_count": 46,
   "metadata": {},
   "outputs": [],
   "source": [
    "def add_new_document(number, doc_type, owner, shelf):\n",
    "    \n",
    "    if shelf in directories.keys():\n",
    "        new_dict = {'type': doc_type, 'number': number, 'name': owner}\n",
    "        documents.append(new_dict)\n",
    "        directories[shelf].append(number)        \n",
    "        \n",
    "    else:\n",
    "        print('Такой полки не существует. Добавьте полку командой as.')\n",
    "        \n",
    "    to_learn_everything()"
   ]
  },
  {
   "cell_type": "markdown",
   "metadata": {},
   "source": [
    "### Пункт 2. Пользователь по команде \"d\" может удалить документ из данных"
   ]
  },
  {
   "cell_type": "code",
   "execution_count": 78,
   "metadata": {},
   "outputs": [],
   "source": [
    "def delete_document(number):\n",
    "    \n",
    "    len_doc_before = len(documents) # Если было удаление, длина списка до и после будет различная\n",
    "    \n",
    "    for doc in documents:\n",
    "        if number in doc.values():\n",
    "            documents.remove(doc)\n",
    "    \n",
    "    if len(documents) != len_doc_before:\n",
    "        print('Документ удален.')\n",
    "\n",
    "    else:\n",
    "        print('Документ не найден в базе.')\n",
    "        \n",
    "    to_learn_everything()\n",
    "\n",
    "    "
   ]
  },
  {
   "cell_type": "markdown",
   "metadata": {},
   "source": [
    "### Пункт 3. Пользователь по команде \"m\" может переместить документ с полки на полку"
   ]
  },
  {
   "cell_type": "code",
   "execution_count": 200,
   "metadata": {},
   "outputs": [],
   "source": [
    "def move_to_another_shelf(number, shelf):\n",
    "    \n",
    "    if check_element_in_directories(number): # Функция проверки документа в ключах directories\n",
    "        \n",
    "        if shelf in directories.keys():\n",
    "            shelf_before = check_element_in_directories(number, return_key = True) # Возвращает полку,\n",
    "            # на которой документ находится в данный момент\n",
    "\n",
    "            directories[shelf_before].remove(number)        \n",
    "            directories[shelf].append(number)\n",
    "            print('Документ перемещен.')\n",
    "        \n",
    "        else:\n",
    "            print('Такой полки не существует.')\n",
    "        \n",
    "    else:\n",
    "        print('Документ не найден в базе.')\n",
    "    \n",
    "    to_learn_everything()  \n",
    "        "
   ]
  },
  {
   "cell_type": "markdown",
   "metadata": {},
   "source": [
    "### Выполнение запроса пользователя (общий вид)"
   ]
  },
  {
   "cell_type": "code",
   "execution_count": 140,
   "metadata": {},
   "outputs": [
    {
     "name": "stdout",
     "output_type": "stream",
     "text": [
      "Список команд для ввода:\n",
      "\n",
      "Введите \"p\", чтобы узнать владельца\n",
      "Введите \"s\", чтобы узнать полку по номеру документа\n",
      "Введите \"l\", чтобы увидеть полную информацию по всем документам\n",
      "Введите \"ads\", чтобы добавить новую полку\n",
      "Введите \"ad\", чтобы добавить новый документ в данные\n",
      "Введите \"ds\", чтобы удалить существующую полку из данных (только если она пустая)\n",
      "Введите \"d\", чтобы удалить документ из данных\n",
      "Введите \"m\", чтобы переместить документ с полки на полку\n",
      "\n",
      "Введите свой запрос: m\n",
      "Введите номер документа: 106\n",
      "Введите номер полки: 5\n",
      "Документ не найден в базе.\n",
      "№: 2207 876234, тип: passport, владелец: Василий Гупкин, полка хранения: 1\n",
      "№: 11-2, тип: invoice, владелец: Геннадий Покемонов, полка хранения: 1\n",
      "№: 10006, тип: insurance, владелец: Аристарх Павлов, полка хранения: 1\n"
     ]
    }
   ],
   "source": [
    "print('Список команд для ввода:\\n')\n",
    "print('Введите \"p\", чтобы узнать владельца')\n",
    "print('Введите \"s\", чтобы узнать полку по номеру документа')\n",
    "print('Введите \"l\", чтобы увидеть полную информацию по всем документам')\n",
    "print('Введите \"ads\", чтобы добавить новую полку')\n",
    "print('Введите \"ad\", чтобы добавить новый документ в данные')\n",
    "print('Введите \"ds\", чтобы удалить существующую полку из данных (только если она пустая)')\n",
    "print('Введите \"d\", чтобы удалить документ из данных')\n",
    "print('Введите \"m\", чтобы переместить документ с полки на полку\\n')\n",
    "\n",
    "\n",
    "request = input(\"Введите свой запрос: \")\n",
    "\n",
    "if request == 'p':\n",
    "    number = str(input(\"Введите номер документа: \"))\n",
    "    to_know_the_owner(number)\n",
    "    \n",
    "elif request == 's':\n",
    "    number = str(input(\"Введите номер документа: \"))\n",
    "    if check_element_in_directories():\n",
    "        print(f'Документ хранится на полке: {to_know_the_shelf_number(number)}')\n",
    "    else:\n",
    "        print('Документ не найден в базе.')\n",
    "    \n",
    "elif request == 'l':\n",
    "    to_learn_everything()\n",
    "    \n",
    "elif request == 'ads':\n",
    "    list_of_shelves = [input('Введите название новой полки: ')]\n",
    "    shelves_names = list(map(str, list_of_shelves))\n",
    "    new_shelf(shelves_names)\n",
    "    \n",
    "elif request == 'ds':\n",
    "    key = str(input('Введите номер полки, чтобы её удалить (полка должна быть пустой): '))\n",
    "    delet_shelf(key)\n",
    "    \n",
    "elif request == 'ad':\n",
    "    number = str(input('Введите номер документа: '))\n",
    "    doc_type = input('Введите тип документа: ')\n",
    "    owner = input('Введите владельца документа: ')\n",
    "    shelf = input('Введите полку для хранения: ')\n",
    "    add_new_document(number, doc_type, owner, shelf)\n",
    "\n",
    "elif request == 'd':\n",
    "    number = str(input('Введите номер документа: '))\n",
    "    delete_document(number)\n",
    "    \n",
    "elif request == 'm':\n",
    "    number = str(input('Введите номер документа: '))\n",
    "    shelf = input('Введите номер полки: ')\n",
    "    move_to_another_shelf(number, shelf)"
   ]
  },
  {
   "cell_type": "markdown",
   "metadata": {},
   "source": [
    "## Проверка всех пунктов поотдельности:"
   ]
  },
  {
   "cell_type": "markdown",
   "metadata": {},
   "source": [
    "### Пункт 1"
   ]
  },
  {
   "cell_type": "code",
   "execution_count": 142,
   "metadata": {},
   "outputs": [
    {
     "name": "stdout",
     "output_type": "stream",
     "text": [
      "Введите свой запрос: p\n",
      "Введите номер документа: 10006\n",
      "Владелец документа: Аристарх Павлов\n"
     ]
    }
   ],
   "source": [
    "request = input(\"Введите свой запрос: \")\n",
    "\n",
    "if request == 'p':\n",
    "    number = str(input(\"Введите номер документа: \"))\n",
    "    to_know_the_owner(number)"
   ]
  },
  {
   "cell_type": "code",
   "execution_count": 144,
   "metadata": {},
   "outputs": [
    {
     "name": "stdout",
     "output_type": "stream",
     "text": [
      "Введите свой запрос: p\n",
      "Введите номер документа: 569874\n",
      "Документ не найден в базе\n"
     ]
    }
   ],
   "source": [
    "request = input(\"Введите свой запрос: \")\n",
    "\n",
    "if request == 'p':\n",
    "    number = str(input(\"Введите номер документа: \"))\n",
    "    to_know_the_owner(number)"
   ]
  },
  {
   "cell_type": "markdown",
   "metadata": {},
   "source": [
    "### Пункт 2"
   ]
  },
  {
   "cell_type": "code",
   "execution_count": 170,
   "metadata": {},
   "outputs": [
    {
     "name": "stdout",
     "output_type": "stream",
     "text": [
      "Введите свой запрос: s\n",
      "Введите номер документа: 10006\n",
      "Документ хранится на полке: 2\n"
     ]
    }
   ],
   "source": [
    "request = input(\"Введите свой запрос: \")\n",
    "\n",
    "if request == 's':\n",
    "    number = str(input(\"Введите номер документа: \"))\n",
    "    if check_element_in_directories(number):\n",
    "        print(f'Документ хранится на полке: {to_know_the_shelf_number(number)}')\n",
    "    else:\n",
    "        print('Документ не найден в базе.')"
   ]
  },
  {
   "cell_type": "code",
   "execution_count": 171,
   "metadata": {},
   "outputs": [
    {
     "name": "stdout",
     "output_type": "stream",
     "text": [
      "Введите свой запрос: s\n",
      "Введите номер документа: 102\n",
      "Документ не найден в базе.\n"
     ]
    }
   ],
   "source": [
    "request = input(\"Введите свой запрос: \")\n",
    "\n",
    "if request == 's':\n",
    "    number = str(input(\"Введите номер документа: \"))\n",
    "    if check_element_in_directories(number):\n",
    "        print(f'Документ хранится на полке: {to_know_the_shelf_number(number)}')\n",
    "    else:\n",
    "        print('Документ не найден в базе.')"
   ]
  },
  {
   "cell_type": "markdown",
   "metadata": {},
   "source": [
    "### Пункт 3"
   ]
  },
  {
   "cell_type": "code",
   "execution_count": 172,
   "metadata": {},
   "outputs": [
    {
     "name": "stdout",
     "output_type": "stream",
     "text": [
      "Введите свой запрос: l\n",
      "№: 2207 876234, тип: passport, владелец: Василий Гупкин, полка хранения: 1\n",
      "№: 11-2, тип: invoice, владелец: Геннадий Покемонов, полка хранения: 1\n",
      "№: 10006, тип: insurance, владелец: Аристарх Павлов, полка хранения: 2\n"
     ]
    }
   ],
   "source": [
    "request = input(\"Введите свой запрос: \")\n",
    "\n",
    "if request == 'l':\n",
    "    to_learn_everything()"
   ]
  },
  {
   "cell_type": "markdown",
   "metadata": {},
   "source": [
    "### Пункт 4"
   ]
  },
  {
   "cell_type": "code",
   "execution_count": 186,
   "metadata": {},
   "outputs": [
    {
     "name": "stdout",
     "output_type": "stream",
     "text": [
      "Введите свой запрос: ads\n",
      "Введите название новой полки: 4\n",
      "Полка добавлена.\n",
      "Текущий перечень полок: 1, 2, 3, 4\n"
     ]
    }
   ],
   "source": [
    "request = input(\"Введите свой запрос: \")\n",
    "\n",
    "if request == 'ads':\n",
    "    list_of_shelves = [input('Введите название новой полки: ')]\n",
    "    shelves_names = list(map(str, list_of_shelves))\n",
    "    new_shelf(shelves_names)"
   ]
  },
  {
   "cell_type": "code",
   "execution_count": 187,
   "metadata": {},
   "outputs": [
    {
     "name": "stdout",
     "output_type": "stream",
     "text": [
      "Введите свой запрос: ads\n",
      "Введите название новой полки: 4\n",
      "Такая полка уже существует.\n",
      "Текущий перечень полок: 1, 2, 3, 4\n"
     ]
    }
   ],
   "source": [
    "request = input(\"Введите свой запрос: \")\n",
    "\n",
    "if request == 'ads':\n",
    "    list_of_shelves = [input('Введите название новой полки: ')]\n",
    "    shelves_names = list(map(str, list_of_shelves))\n",
    "    new_shelf(shelves_names)"
   ]
  },
  {
   "cell_type": "markdown",
   "metadata": {},
   "source": [
    "### Пункт 5"
   ]
  },
  {
   "cell_type": "code",
   "execution_count": 188,
   "metadata": {},
   "outputs": [
    {
     "name": "stdout",
     "output_type": "stream",
     "text": [
      "Введите свой запрос: ds\n",
      "Введите номер полки, чтобы её удалить (полка должна быть пустой): 4\n",
      "Полка удалена. Текущий перечень полок: 1, 2, 3\n"
     ]
    }
   ],
   "source": [
    "request = input(\"Введите свой запрос: \")\n",
    "\n",
    "if request == 'ds':\n",
    "    key = str(input('Введите номер полки, чтобы её удалить (полка должна быть пустой): '))\n",
    "    delet_shelf(key)"
   ]
  },
  {
   "cell_type": "code",
   "execution_count": 190,
   "metadata": {},
   "outputs": [
    {
     "name": "stdout",
     "output_type": "stream",
     "text": [
      "Введите свой запрос: ds\n",
      "Введите номер полки, чтобы её удалить (полка должна быть пустой): 7\n",
      "Такой полки не существует.  Текущий перечень полок: 1, 2, 3\n"
     ]
    }
   ],
   "source": [
    "request = input(\"Введите свой запрос: \")\n",
    "\n",
    "if request == 'ds':\n",
    "    key = str(input('Введите номер полки, чтобы её удалить (полка должна быть пустой): '))\n",
    "    delet_shelf(key)"
   ]
  },
  {
   "cell_type": "markdown",
   "metadata": {},
   "source": [
    "### Пункт 6"
   ]
  },
  {
   "cell_type": "code",
   "execution_count": 191,
   "metadata": {},
   "outputs": [
    {
     "name": "stdout",
     "output_type": "stream",
     "text": [
      "Введите свой запрос: ad\n",
      "Введите номер документа: 123456789\n",
      "Введите тип документа: papper\n",
      "Введите владельца документа: Andrey\n",
      "Введите полку для хранения: 1\n",
      "№: 2207 876234, тип: passport, владелец: Василий Гупкин, полка хранения: 1\n",
      "№: 11-2, тип: invoice, владелец: Геннадий Покемонов, полка хранения: 1\n",
      "№: 10006, тип: insurance, владелец: Аристарх Павлов, полка хранения: 2\n",
      "№: 123456789, тип: papper, владелец: Andrey, полка хранения: 1\n"
     ]
    }
   ],
   "source": [
    "request = input(\"Введите свой запрос: \")\n",
    "\n",
    "if request == 'ad':\n",
    "    number = str(input('Введите номер документа: '))\n",
    "    doc_type = input('Введите тип документа: ')\n",
    "    owner = input('Введите владельца документа: ')\n",
    "    shelf = input('Введите полку для хранения: ')\n",
    "    add_new_document(number, doc_type, owner, shelf)"
   ]
  },
  {
   "cell_type": "code",
   "execution_count": 192,
   "metadata": {},
   "outputs": [
    {
     "name": "stdout",
     "output_type": "stream",
     "text": [
      "Введите свой запрос: ad\n",
      "Введите номер документа: 777\n",
      "Введите тип документа: garbage\n",
      "Введите владельца документа: Someone\n",
      "Введите полку для хранения: 777\n",
      "Такой полки не существует. Добавьте полку командой as.\n",
      "№: 2207 876234, тип: passport, владелец: Василий Гупкин, полка хранения: 1\n",
      "№: 11-2, тип: invoice, владелец: Геннадий Покемонов, полка хранения: 1\n",
      "№: 10006, тип: insurance, владелец: Аристарх Павлов, полка хранения: 2\n",
      "№: 123456789, тип: papper, владелец: Andrey, полка хранения: 1\n"
     ]
    }
   ],
   "source": [
    "request = input(\"Введите свой запрос: \")\n",
    "\n",
    "if request == 'ad':\n",
    "    number = str(input('Введите номер документа: '))\n",
    "    doc_type = input('Введите тип документа: ')\n",
    "    owner = input('Введите владельца документа: ')\n",
    "    shelf = input('Введите полку для хранения: ')\n",
    "    add_new_document(number, doc_type, owner, shelf)"
   ]
  },
  {
   "cell_type": "markdown",
   "metadata": {},
   "source": [
    "### Пункт 7"
   ]
  },
  {
   "cell_type": "code",
   "execution_count": 194,
   "metadata": {},
   "outputs": [
    {
     "name": "stdout",
     "output_type": "stream",
     "text": [
      "Введите свой запрос: d\n",
      "Введите номер документа: 123456789\n",
      "Документ удален.\n",
      "№: 2207 876234, тип: passport, владелец: Василий Гупкин, полка хранения: 1\n",
      "№: 11-2, тип: invoice, владелец: Геннадий Покемонов, полка хранения: 1\n",
      "№: 10006, тип: insurance, владелец: Аристарх Павлов, полка хранения: 2\n"
     ]
    }
   ],
   "source": [
    "request = input(\"Введите свой запрос: \")\n",
    "\n",
    "if request == 'd':\n",
    "    number = str(input('Введите номер документа: '))\n",
    "    delete_document(number)"
   ]
  },
  {
   "cell_type": "code",
   "execution_count": 195,
   "metadata": {},
   "outputs": [
    {
     "name": "stdout",
     "output_type": "stream",
     "text": [
      "Введите свой запрос: d\n",
      "Введите номер документа: 985463217\n",
      "Документ не найден в базе.\n",
      "№: 2207 876234, тип: passport, владелец: Василий Гупкин, полка хранения: 1\n",
      "№: 11-2, тип: invoice, владелец: Геннадий Покемонов, полка хранения: 1\n",
      "№: 10006, тип: insurance, владелец: Аристарх Павлов, полка хранения: 2\n"
     ]
    }
   ],
   "source": [
    "request = input(\"Введите свой запрос: \")\n",
    "\n",
    "if request == 'd':\n",
    "    number = str(input('Введите номер документа: '))\n",
    "    delete_document(number)"
   ]
  },
  {
   "cell_type": "markdown",
   "metadata": {},
   "source": [
    "### Пункт 8"
   ]
  },
  {
   "cell_type": "code",
   "execution_count": 197,
   "metadata": {},
   "outputs": [
    {
     "name": "stdout",
     "output_type": "stream",
     "text": [
      "Введите свой запрос: m\n",
      "Введите номер документа: 10006\n",
      "Введите номер полки: 1\n",
      "Документ перемещен.\n",
      "№: 2207 876234, тип: passport, владелец: Василий Гупкин, полка хранения: 1\n",
      "№: 11-2, тип: invoice, владелец: Геннадий Покемонов, полка хранения: 1\n",
      "№: 10006, тип: insurance, владелец: Аристарх Павлов, полка хранения: 1\n"
     ]
    }
   ],
   "source": [
    "request = input(\"Введите свой запрос: \")\n",
    "\n",
    "if request == 'm':\n",
    "    number = str(input('Введите номер документа: '))\n",
    "    shelf = input('Введите номер полки: ')\n",
    "    move_to_another_shelf(number, shelf)"
   ]
  },
  {
   "cell_type": "code",
   "execution_count": 198,
   "metadata": {},
   "outputs": [
    {
     "data": {
      "text/plain": [
       "{'1': ['2207 876234', '11-2', '123456789', '10006'], '2': [], '3': []}"
      ]
     },
     "execution_count": 198,
     "metadata": {},
     "output_type": "execute_result"
    }
   ],
   "source": [
    "directories"
   ]
  },
  {
   "cell_type": "code",
   "execution_count": 201,
   "metadata": {},
   "outputs": [
    {
     "name": "stdout",
     "output_type": "stream",
     "text": [
      "Введите свой запрос: m\n",
      "Введите номер документа: 10006\n",
      "Введите номер полки: 987\n",
      "Такой полки не существует.\n",
      "№: 2207 876234, тип: passport, владелец: Василий Гупкин, полка хранения: 1\n",
      "№: 11-2, тип: invoice, владелец: Геннадий Покемонов, полка хранения: 1\n",
      "№: 10006, тип: insurance, владелец: Аристарх Павлов, полка хранения: 1\n"
     ]
    }
   ],
   "source": [
    "request = input(\"Введите свой запрос: \")\n",
    "\n",
    "if request == 'm':\n",
    "    number = str(input('Введите номер документа: '))\n",
    "    shelf = input('Введите номер полки: ')\n",
    "    move_to_another_shelf(number, shelf)"
   ]
  },
  {
   "cell_type": "code",
   "execution_count": 202,
   "metadata": {},
   "outputs": [
    {
     "name": "stdout",
     "output_type": "stream",
     "text": [
      "Введите свой запрос: m\n",
      "Введите номер документа: 7777777\n",
      "Введите номер полки: 1\n",
      "Документ не найден в базе.\n",
      "№: 2207 876234, тип: passport, владелец: Василий Гупкин, полка хранения: 1\n",
      "№: 11-2, тип: invoice, владелец: Геннадий Покемонов, полка хранения: 1\n",
      "№: 10006, тип: insurance, владелец: Аристарх Павлов, полка хранения: 1\n"
     ]
    }
   ],
   "source": [
    "request = input(\"Введите свой запрос: \")\n",
    "\n",
    "if request == 'm':\n",
    "    number = str(input('Введите номер документа: '))\n",
    "    shelf = input('Введите номер полки: ')\n",
    "    move_to_another_shelf(number, shelf)"
   ]
  }
 ],
 "metadata": {
  "kernelspec": {
   "display_name": "Python 3",
   "language": "python",
   "name": "python3"
  },
  "language_info": {
   "codemirror_mode": {
    "name": "ipython",
    "version": 3
   },
   "file_extension": ".py",
   "mimetype": "text/x-python",
   "name": "python",
   "nbconvert_exporter": "python",
   "pygments_lexer": "ipython3",
   "version": "3.7.3"
  }
 },
 "nbformat": 4,
 "nbformat_minor": 2
}
