{
 "cells": [
  {
   "cell_type": "markdown",
   "metadata": {},
   "source": [
    "# Регулярные выражения"
   ]
  },
  {
   "cell_type": "markdown",
   "metadata": {},
   "source": [
    "[Задание 1](#task1)          \n",
    "[Задание 2](#task2)          \n",
    "[Задание 3](#task3)               \n",
    "[Задание 4](#task4)                     \n",
    "[Задание 5](#task5)          \n",
    "[Задание 6](#task6)     "
   ]
  },
  {
   "cell_type": "markdown",
   "metadata": {},
   "source": [
    "# Задание 1\n",
    "<a id=task1>"
   ]
  },
  {
   "cell_type": "markdown",
   "metadata": {},
   "source": [
    "Напишите функцию, которая принимает на вход строку и проверяет является ли она валидным транспортным номером (1 буква, 3 цифры, 2 буквы, 2-3 цифры). Обратите внимание, что не все буквы кириллического алфавита используются в транспортных номерах.\n",
    "\n",
    "Если номер валиден, то функция должна возвращать отдельно номер и регион."
   ]
  },
  {
   "cell_type": "code",
   "execution_count": 342,
   "metadata": {},
   "outputs": [
    {
     "name": "stdout",
     "output_type": "stream",
     "text": [
      "Номер 'А222ВС' валиден. Регион: 96\n",
      "Номер АБ22ВВ193 не валиден.\n",
      "Номер 'а123кв' валиден. Регион: 45\n",
      "Номер Я1234ЕПЖ321 не валиден.\n",
      "Номер 'о777ОО' валиден. Регион: 777\n"
     ]
    }
   ],
   "source": [
    "import re\n",
    "\n",
    "test = ['А222ВС96', 'АБ22ВВ193', 'а123кв45', 'Я1234ЕПЖ321', 'о777ОО777']\n",
    "\n",
    "regex = r'[авекмнорстух]\\d{3}[авекмнорстух]{2}\\d{2,3}'\n",
    "\n",
    "def aouto_num_validation(test):\n",
    "    for num in test:\n",
    "\n",
    "        search = re.match(regex, num, flags=re.I)\n",
    "\n",
    "        if search:\n",
    "            number = re.match(r'\\w\\d{3}\\w\\w', num)\n",
    "            region = re.findall(r'\\d{2,3}$', num)\n",
    "            print(f'Номер \\'{number[0]}\\' валиден. Регион: {region[0]}')\n",
    "\n",
    "        else:\n",
    "            print(f'Номер {num} не валиден.')\n",
    "\n",
    "\n",
    "            \n",
    "aouto_num_validation(test)"
   ]
  },
  {
   "cell_type": "markdown",
   "metadata": {},
   "source": [
    "# Задание 2 \n",
    "<a id=task2>"
   ]
  },
  {
   "cell_type": "markdown",
   "metadata": {},
   "source": [
    "Напишите функцию, которая будет удалять все последовательные повторы слов из заданной строки при помощи регулярных выражений."
   ]
  },
  {
   "cell_type": "code",
   "execution_count": 343,
   "metadata": {},
   "outputs": [
    {
     "data": {
      "text/plain": [
       "'Напишите функцию, которая будет удалять все последовательные повторы слов из заданной строки при помощи регулярных выражений'"
      ]
     },
     "execution_count": 343,
     "metadata": {},
     "output_type": "execute_result"
    }
   ],
   "source": [
    "import re\n",
    "\n",
    "some_string = '''Напишите функцию функцию, которая будет будет будет будет удалять \n",
    "все все все все последовательные повторы слов из из из из заданной \n",
    "строки строки при помощи регулярных выражений'''\n",
    "\n",
    "def cleaning_string(string):\n",
    "    cleaning = re.sub(r'(\\w+)(\\s\\1)+', r'\\1', string)\n",
    "    cleaning = re.sub(r'\\n', '', cleaning)\n",
    "    return cleaning\n",
    "\n",
    "cleaning_string(some_string)"
   ]
  },
  {
   "cell_type": "markdown",
   "metadata": {},
   "source": [
    "# Задание 3\n",
    "<a id=task3>"
   ]
  },
  {
   "cell_type": "markdown",
   "metadata": {},
   "source": [
    "Напишите функцию, которая будет возвращать акроним по переданной в нее строке со словами."
   ]
  },
  {
   "cell_type": "code",
   "execution_count": 344,
   "metadata": {},
   "outputs": [
    {
     "name": "stdout",
     "output_type": "stream",
     "text": [
      "Акроним 'Информационные технологии' - ИТ\n",
      "Акроним 'Near Field Communication' - NFC\n",
      "Акроним 'Open Systems Interconnection' - OSI\n",
      "Акроним 'Internet Protocol' - IP\n",
      "Акроним 'Мой личный акроним' - МЛА\n"
     ]
    }
   ],
   "source": [
    "import re\n",
    "\n",
    "def acronim(string):\n",
    "    \n",
    "    regex = re.sub(r'(\\w)\\w+', r'\\1', string)\n",
    "    regex = re.sub(r'\\W+', '', regex)\n",
    "    \n",
    "    return f'Акроним \\'{string}\\' - {regex.upper()}'  \n",
    "\n",
    "\n",
    "print(acronim('Информационные технологии'))\n",
    "print(acronim('Near Field Communication'))\n",
    "print(acronim('Open Systems Interconnection'))\n",
    "print(acronim('Internet Protocol'))\n",
    "print(acronim('Мой личный акроним'))"
   ]
  },
  {
   "cell_type": "markdown",
   "metadata": {},
   "source": [
    "# Задание 4\n",
    "<a id=task4>"
   ]
  },
  {
   "cell_type": "markdown",
   "metadata": {},
   "source": [
    "Напишите функцию, которая будет принимать на вход список email-адресов и выводить их распределение по доменным зонам."
   ]
  },
  {
   "cell_type": "code",
   "execution_count": 348,
   "metadata": {},
   "outputs": [
    {
     "name": "stdout",
     "output_type": "stream",
     "text": [
      "gmail.com - 2\n",
      "test.in - 1\n",
      "ya.ru - 2\n",
      "mail.ru - 1\n"
     ]
    }
   ],
   "source": [
    "import re\n",
    "\n",
    "emails = ['test@gmail.com', 'xyz@test.in', 'test@ya.ru', 'xyz@mail.ru', 'xyz@ya.ru', 'xyz@gmail.com']\n",
    "\n",
    "regex = r'\\w+\\.\\w+$'\n",
    "\n",
    "def domens_of_emails(emails):\n",
    "    domens_dict = {}\n",
    "    for email in emails:\n",
    "        domen = re.search(regex, email)[0]\n",
    "\n",
    "        if domen in domens_dict:\n",
    "            domens_dict[domen] += 1\n",
    "\n",
    "        else:\n",
    "            domens_dict[domen] = 1\n",
    "    return domens_dict\n",
    "\n",
    "\n",
    "domens_dict = domens_of_emails(emails)\n",
    "\n",
    "for domen in domens_dict:\n",
    "    print(f'{domen} - {domens_dict[domen]}') "
   ]
  },
  {
   "cell_type": "markdown",
   "metadata": {},
   "source": [
    "# Задание 5\n",
    "<a id=task5>"
   ]
  },
  {
   "cell_type": "markdown",
   "metadata": {},
   "source": [
    "\n",
    "Напишите функцию, которая будет подсчитывать сколько слов начинается на гласные, а сколько на согласные буквы в тексте (текст может быть написан как с использованием букв кириллицы, так и латиницы).\n",
    "\n"
   ]
  },
  {
   "cell_type": "code",
   "execution_count": 349,
   "metadata": {},
   "outputs": [
    {
     "name": "stdout",
     "output_type": "stream",
     "text": [
      "Слов на гласную букву: 9\n",
      "Слов на согласную букву: 21\n"
     ]
    }
   ],
   "source": [
    "import re\n",
    "\n",
    "some_text = '''Эталонной реализацией Python является интерпретатор CPython, \n",
    "поддерживающий большинство активно используемых платформ. Он распространяется \n",
    "под свободной лицензией Python Software Foundation License, позволяющей \n",
    "использовать его без ограничений в любых приложениях, включая проприетарные.'''\n",
    "\n",
    "def sounds_count(text):\n",
    "    \n",
    "    # Подсчет гласных    \n",
    "    vowels_regex = re.findall(r'\\b[aeuioyаоэеиыуёюя]\\w+\\b', text, flags=re.I)\n",
    "    \n",
    "    # Подсчет согласны\n",
    "    consonants_regex = re.findall(r'\\b[^ aeuioyаоэеиыуёюя]\\w*\\b', text, flags=re.I)\n",
    "    \n",
    "    return print(f'Слов на гласную букву: {len(vowels_regex)}\\nСлов на согласную букву: {len(consonants_regex)}')  \n",
    "\n",
    "sounds_count(some_text)"
   ]
  },
  {
   "cell_type": "markdown",
   "metadata": {},
   "source": [
    "# Задание 6\n",
    "<a id=task6>"
   ]
  },
  {
   "cell_type": "markdown",
   "metadata": {},
   "source": [
    "Напишите функцию, которая будет проверять номер сотового телефона на валидность (только для российского формата), если он валиден, то переводить его в формат:\n",
    "+7-xxx-xxx-xx-xx\n",
    "Постарайтесь предусмотреть как можно больше адекватных форматов изначального ввода номера. "
   ]
  },
  {
   "cell_type": "code",
   "execution_count": 350,
   "metadata": {},
   "outputs": [
    {
     "name": "stdout",
     "output_type": "stream",
     "text": [
      "Номер +7 955 555-55-55 валиден ----> +7-955-555-55-55\n",
      "Номер 8(955)555-55-55 валиден ----> +7-955-555-55-55\n",
      "Номер +7 955 555 55 55 валиден ----> +7-955-555-55-55\n",
      "Номер 7(955) 555-55-55 валиден ----> +7-955-555-55-55\n",
      "Номер 423-555-55-5555 не валиден\n",
      "Номер 123-456-789 не валиден\n",
      "Номер 8 888 88-8888 не валиден\n",
      "Номер +7 123 456 78 90 валиден ----> +7-123-456-78-90\n",
      "Номер 79876541232 валиден ----> +7-987-654-12-32\n",
      "Номер +76324587965 валиден ----> +7-632-458-79-65\n",
      "Номер 8965934 98 99 валиден ----> +7-965-934-98-99\n",
      "Номер 8 999888 8789 валиден ----> +7-999-888-87-89\n"
     ]
    }
   ],
   "source": [
    "import re\n",
    "\n",
    "phone_numbers = ['+7 955 555-55-55', '8(955)555-55-55', \n",
    "                 '+7 955 555 55 55', '7(955) 555-55-55', \n",
    "                 '423-555-55-5555', '123-456-789',\n",
    "                 '8 888 88-8888', '+7 123 456 78 90',\n",
    "                 '79876541232', '+76324587965',\n",
    "                 '8965934 98 99', '8 999888 8789']\n",
    "\n",
    "# Перебор возможных вариантов - пробелы, скобки, дефисы, ничего (это выражение тоже работает)\n",
    "# regex = r'[+]{0,1}[78]{1}[ ]{0,1}[(-]{0,1}[ ]{0,1}(\\d{3})[ ]{0,1}[)-]{0,1}[ ]{0,1}' # +7 - 777 - ...\n",
    "# regex = regex + '(\\d{3})[ ]{0,1}[-]{0,1}[ ]{0,1}(\\d{2})[ ]{0,1}[-]{0,1}[ ]{0,1}(\\d{2})' # ... 77 - 7777\n",
    "\n",
    "# Функция для проверки 1-го номера и его перевод в корректный формат\n",
    "def number_validation(number):\n",
    "    \n",
    "    correct_phone_numbers = []\n",
    "    regex = r'[+78( -]{1,5}(\\d{3})[ )-]{0,3}(\\d{3})[ -]{0,3}(\\d{2})[ -]{0,3}(\\d{2})'\n",
    "    search = re.search(regex, number)\n",
    "    \n",
    "    if search:\n",
    "        new_format = re.sub(regex, r'+7-\\1-\\2-\\3-\\4', search[0])\n",
    "        print(f'Номер {number} валиден ----> {new_format}')\n",
    "    \n",
    "    else:\n",
    "        print(f'Номер {number} не валиден')\n",
    "\n",
    "                       \n",
    "for number in phone_numbers:\n",
    "    correct_phone_numbers.append(number_validation(number))\n"
   ]
  }
 ],
 "metadata": {
  "kernelspec": {
   "display_name": "Python 3",
   "language": "python",
   "name": "python3"
  },
  "language_info": {
   "codemirror_mode": {
    "name": "ipython",
    "version": 3
   },
   "file_extension": ".py",
   "mimetype": "text/x-python",
   "name": "python",
   "nbconvert_exporter": "python",
   "pygments_lexer": "ipython3",
   "version": "3.7.3"
  }
 },
 "nbformat": 4,
 "nbformat_minor": 2
}
