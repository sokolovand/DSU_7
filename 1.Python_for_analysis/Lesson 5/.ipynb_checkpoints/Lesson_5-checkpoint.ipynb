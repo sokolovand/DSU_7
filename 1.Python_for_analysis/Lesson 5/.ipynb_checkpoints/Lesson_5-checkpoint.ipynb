{
 "cells": [
  {
   "cell_type": "markdown",
   "metadata": {},
   "source": [
    "[Задание 1](#task1)               \n",
    "[Задание 2](#task2)"
   ]
  },
  {
   "cell_type": "markdown",
   "metadata": {},
   "source": [
    "## Задание 1\n",
    "<a id='task1'></a>"
   ]
  },
  {
   "cell_type": "markdown",
   "metadata": {},
   "source": [
    "Переведите содержимое файла purchase_log.txt в словарь purchases вида:\n",
    "{‘1840e0b9d4’: ‘Продукты’, …}"
   ]
  },
  {
   "cell_type": "code",
   "execution_count": 172,
   "metadata": {},
   "outputs": [
    {
     "name": "stdout",
     "output_type": "stream",
     "text": [
      "['{\"user_id\": \"user_id\", \"category\": \"category\"}\\n', '{\"user_id\": \"1840e0b9d4\", \"category\": \"Продукты\"}\\n', '{\"user_id\": \"4e4f90fcfb\", \"category\": \"Электроника\"}\\n', '{\"user_id\": \"afea8d72fc\", \"category\": \"Электроника\"}\\n', '{\"user_id\": \"373a6055fe\", \"category\": \"Бытовая техника\"}\\n']\n"
     ]
    }
   ],
   "source": [
    "import json\n",
    "\n",
    "with open('Downloads/purchase_log.txt') as f:\n",
    "    print([next(f) for x in range(5)])"
   ]
  },
  {
   "cell_type": "code",
   "execution_count": 173,
   "metadata": {},
   "outputs": [],
   "source": [
    "log = open('Downloads/purchase_log.txt')\n",
    "log.seek(0)\n",
    "\n",
    "user_id = []\n",
    "category = []\n",
    "\n",
    "while True:\n",
    "    \n",
    "    line = log.readline().strip()\n",
    "    if line:\n",
    "        line = json.loads(line)\n",
    "\n",
    "        user_id.append(line['user_id'])\n",
    "        category.append(line['category'])\n",
    "\n",
    "    else:\n",
    "        break"
   ]
  },
  {
   "cell_type": "code",
   "execution_count": 174,
   "metadata": {},
   "outputs": [],
   "source": [
    "# Удаление заголовков \"user_id\" и \"category\" в столбце value\n",
    "\n",
    "user_id = user_id[1:]\n",
    "category = category[1:]"
   ]
  },
  {
   "cell_type": "code",
   "execution_count": 176,
   "metadata": {},
   "outputs": [
    {
     "name": "stdout",
     "output_type": "stream",
     "text": [
      "Всего 99999 логов.\n",
      "99517 уникальных пользователей.\n"
     ]
    }
   ],
   "source": [
    "print(f'Всего {len(user_id)} логов.')\n",
    "print(f'{len(set(user_id))} уникальных пользователей.')"
   ]
  },
  {
   "cell_type": "code",
   "execution_count": 254,
   "metadata": {},
   "outputs": [],
   "source": [
    "users_dict = dict(list(zip(user_id, category)))"
   ]
  },
  {
   "cell_type": "markdown",
   "metadata": {},
   "source": [
    "## Задание 2\n",
    "<a id='task2'></a>"
   ]
  },
  {
   "cell_type": "markdown",
   "metadata": {},
   "source": [
    "Для каждого user_id в файле visit_log.csv определите третий столбец с категорией покупки (если покупка была, сам файл visit_log.csv изменять не надо). Запишите в файл funnel.csv визиты из файла visit_log.csv, в которых были покупки с указанием категории.\n",
    "Учтите условия на данные:\n",
    "содержимое purchase_log.txt помещается в оперативную память компьютера\n",
    "содержимое visit_log.csv - нет; используйте только построчную обработку этого файла"
   ]
  },
  {
   "cell_type": "code",
   "execution_count": 180,
   "metadata": {},
   "outputs": [],
   "source": [
    "import json"
   ]
  },
  {
   "cell_type": "code",
   "execution_count": 230,
   "metadata": {},
   "outputs": [],
   "source": [
    "purchase_log = open('Downloads/purchase_log.txt') \n",
    "purchase_log = purchase_log.readlines()\n",
    "\n",
    "# Как и в первом задании, данные файла purchase_log приводятся к одному словарю:\n",
    "\n",
    "user_id = []\n",
    "category = []\n",
    "\n",
    "for user in purchase_log:\n",
    "    \n",
    "    line = json.loads(user)\n",
    "    user_id.append(line['user_id'])\n",
    "    category.append(line['category'])\n",
    "\n",
    "users_dict = dict(list(zip(user_id[1:], category[1:])))"
   ]
  },
  {
   "cell_type": "code",
   "execution_count": 249,
   "metadata": {},
   "outputs": [],
   "source": [
    "with open('Downloads/visit_log.csv') as log:\n",
    "    with open('funnel.csv', 'w') as fun:\n",
    "\n",
    "        while True:\n",
    "\n",
    "            user_log = [log.readline().strip().split(',')][0]\n",
    "\n",
    "            if user_log[0] in users_dict:\n",
    "                string = ','.join([user_log[0], user_log[1], users_dict[user_log[0]]]) + '\\n'\n",
    "                fun.write(string)\n",
    "\n",
    "            elif not log.readline():\n",
    "                break\n",
    "\n"
   ]
  },
  {
   "cell_type": "code",
   "execution_count": 252,
   "metadata": {},
   "outputs": [
    {
     "name": "stdout",
     "output_type": "stream",
     "text": [
      "Количество пользователей с покупками и с указанной категорией 7235\n",
      "\n",
      "1840e0b9d4,other,Продукты\n",
      "\n",
      "4e4f90fcfb,context,Электроника\n",
      "\n",
      "2824221f38,email,Продукты\n",
      "\n",
      "9b2ab046f3,other,Электроника\n",
      "\n",
      "704474fa2d,other,Продукты\n",
      "\n",
      "1de31be403,other,Бытовая техника\n",
      "\n",
      "5da0dedf13,context,Досуг\n",
      "\n",
      "b71f36a5e4,other,Продукты\n",
      "\n",
      "79843a685a,context,Продукты\n",
      "\n",
      "ff68cee0d6,context,Бытовая техника\n",
      "\n"
     ]
    }
   ],
   "source": [
    "funnel = open('funnel.csv')\n",
    "funnel = funnel.readlines()\n",
    "\n",
    "print(f'Количество пользователей с покупками и с указанной категорией {len(funnel)}\\n')\n",
    "\n",
    "for i in range(10):\n",
    "    print(funnel[i])"
   ]
  }
 ],
 "metadata": {
  "kernelspec": {
   "display_name": "Python 3",
   "language": "python",
   "name": "python3"
  },
  "language_info": {
   "codemirror_mode": {
    "name": "ipython",
    "version": 3
   },
   "file_extension": ".py",
   "mimetype": "text/x-python",
   "name": "python",
   "nbconvert_exporter": "python",
   "pygments_lexer": "ipython3",
   "version": "3.7.3"
  }
 },
 "nbformat": 4,
 "nbformat_minor": 2
}
