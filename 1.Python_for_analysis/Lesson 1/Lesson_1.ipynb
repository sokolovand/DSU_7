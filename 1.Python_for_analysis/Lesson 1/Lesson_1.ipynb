{
 "cells": [
  {
   "cell_type": "markdown",
   "metadata": {},
   "source": [
    "### Задание 1\n",
    "    \n",
    "Даны 2 переменных, в которых хранятся строки произвольной длины: phrase_1 и phrase_2.\n",
    "Напишите код, который проверяет какая из этих строк длиннее."
   ]
  },
  {
   "cell_type": "code",
   "execution_count": 1,
   "metadata": {},
   "outputs": [
    {
     "name": "stdout",
     "output_type": "stream",
     "text": [
      "Фраза 2 длиннее фразы 1\n"
     ]
    }
   ],
   "source": [
    "phrase_1 = \"Пусть это будет предложение №1\"\n",
    "phrase_2 = \"А это мы сделаем предложением №2, которое предположительно длиннее первого\"\n",
    "\n",
    "if len(phrase_1) > len(phrase_2):\n",
    "    print(\"Фраза 1 длиннее фразы 2\")\n",
    "elif len(phrase_1) < len(phrase_2):\n",
    "    print(\"Фраза 2 длиннее фразы 1\")\n",
    "else:\n",
    "    print(\"А фразы-то оказались равными!\")"
   ]
  },
  {
   "cell_type": "code",
   "execution_count": 2,
   "metadata": {},
   "outputs": [
    {
     "name": "stdout",
     "output_type": "stream",
     "text": [
      "Фраза 1 длиннее фразы 2\n"
     ]
    }
   ],
   "source": [
    "phrase_1 = \"Теперь эта строка будет длинеее\"\n",
    "phrase_2 = \"А эта короче\"\n",
    "\n",
    "if len(phrase_1) > len(phrase_2):\n",
    "    print(\"Фраза 1 длиннее фразы 2\")\n",
    "elif len(phrase_1) < len(phrase_2):\n",
    "    print(\"Фраза 2 длиннее фразы 1\")\n",
    "else:\n",
    "    print(\"А фразы-то оказались равными!\")"
   ]
  },
  {
   "cell_type": "code",
   "execution_count": 1,
   "metadata": {},
   "outputs": [
    {
     "name": "stdout",
     "output_type": "stream",
     "text": [
      "А фразы-то оказались равными!\n"
     ]
    }
   ],
   "source": [
    "phrase_1 = \"А тут они равны?\"\n",
    "phrase_2 = \"Проверим ка это!\"\n",
    "\n",
    "if len(phrase_1) > len(phrase_2):\n",
    "    print(\"Фраза 1 длиннее фразы 2\")\n",
    "elif len(phrase_1) < len(phrase_2):\n",
    "    print(\"Фраза 2 длиннее фразы 1\")\n",
    "else:\n",
    "    print(\"А фразы-то оказались равными!\")"
   ]
  },
  {
   "cell_type": "markdown",
   "metadata": {},
   "source": [
    "### Задание 2\n",
    "    \n",
    "Дана переменная, в которой хранится четырехзначное число (год). Необходимо написать программу, \n",
    "которая выведет, является ли данный год високосным или обычным."
   ]
  },
  {
   "cell_type": "code",
   "execution_count": 77,
   "metadata": {},
   "outputs": [
    {
     "name": "stdout",
     "output_type": "stream",
     "text": [
      "Введите интересуемый год: 2300\n",
      "2300 год не является високосным\n"
     ]
    }
   ],
   "source": [
    "year = input(\"Введите интересуемый год: \")\n",
    "permitted_numbers = ['0', '4', '8']\n",
    "\n",
    "if int(year) % 4 == 0:\n",
    "    if int(year) % 100 == 0:\n",
    "        if year[-3] in permitted_numbers:\n",
    "            print(f'{year} год является високосным')\n",
    "        else:\n",
    "            print(f'{year} год не является високосным')\n",
    "    else:\n",
    "        print(f'{year} год является високосным')\n",
    "else:\n",
    "    print(f'{year} год не является високосным')"
   ]
  },
  {
   "cell_type": "markdown",
   "metadata": {},
   "source": [
    "### Задание 3\n",
    "    \n",
    "Необходимо написать программу, которая будет запрашивать у пользователя месяц и дату рождения и выводить соответствующий знак зодиака."
   ]
  },
  {
   "cell_type": "code",
   "execution_count": 65,
   "metadata": {},
   "outputs": [
    {
     "name": "stdout",
     "output_type": "stream",
     "text": [
      "Введите Ваш месяц рождения: апрель\n",
      "Введите Ваш день рождения: 31\n",
      "В данном месяце меньше дней\n"
     ]
    }
   ],
   "source": [
    "month = input(\"Введите Ваш месяц рождения: \")\n",
    "day = int(input(\"Введите Ваш день рождения: \"))\n",
    "month = month.lower().strip(' ') # сделать все буквы одного регистра и убрать случайные пробелы\n",
    "\n",
    "months_with_30_days = ['апрель', 'июнь', 'сентябрь', 'ноябрь']\n",
    "months_with_31_days = ['январь', 'март', 'май', 'июль', 'август', 'октябрь', 'декабрь']\n",
    "\n",
    "if month in months_with_30_days and day > 30 or month in months_with_31_days and day > 31 or month == 'февраль' and day >29:\n",
    "    print(\"В данном месяце меньше дней\")\n",
    "    \n",
    "else:\n",
    "    if month == 'январь' and day >= 21 or month == 'февраль' and day <= 19:\n",
    "        print(\"Ваш знак зодиака: Водолей\")\n",
    "              \n",
    "    elif month == 'февраль' and day >= 20 or month == 'март' and day <= 20:\n",
    "        print(\"Ваш знак зодиака: Рыба\")\n",
    "              \n",
    "    elif month == 'март' and day >= 21 or month == 'апрель' and day <= 20:\n",
    "        print(\"Ваш знак зодиака: Овен\")\n",
    "                   \n",
    "    elif month == 'апрель' and day >= 21 or month == 'май' and day <= 21:\n",
    "        print(\"Ваш знак зодиака: Телец\")\n",
    "                 \n",
    "    elif month == 'май' and day >= 22 or month == 'июнь' and day <= 21:\n",
    "        print(\"Ваш знак зодиака: Близнецы\")\n",
    "              \n",
    "    elif month == 'июнь' and day >= 22 or month == 'июль' and day <= 22:\n",
    "        print(\"Ваш знак зодиака: Рак\")\n",
    "              \n",
    "    elif month == 'июль' and day >= 23 or month == 'август' and day <= 21:\n",
    "        print(\"Ваш знак зодиака: Лев\")\n",
    "              \n",
    "    elif month == 'август' and day >= 22 or month == 'сентябрь' and day <= 23:\n",
    "        print(\"Ваш знак зодиака: Дева\")\n",
    "              \n",
    "    elif month == 'сентябрь' and day >= 24 or month == 'октябрь' and day <= 23:\n",
    "        print(\"Ваш знак зодиака: Весы\")    \n",
    "              \n",
    "    elif month == 'октябрь' and day >= 24 or month == 'ноябрь' and day <= 22:\n",
    "        print(\"Ваш знак зодиака: Скорпион\")\n",
    "              \n",
    "    elif month == 'ноябрь' and day >= 23 or month == 'декабрь' and day <= 22:\n",
    "        print(\"Ваш знак зодиака: Стрелец\")\n",
    "              \n",
    "    elif month == 'декабрь' and day >= 23 or month == 'январь' and day <= 20:\n",
    "        print(\"Ваш знак зодиака: Козерог\")\n"
   ]
  },
  {
   "cell_type": "markdown",
   "metadata": {},
   "source": [
    "### Задание 4\n",
    "    \n",
    "Вам нужно написать программу для подбора упаковок по размерам товара. "
   ]
  },
  {
   "cell_type": "code",
   "execution_count": 105,
   "metadata": {},
   "outputs": [
    {
     "name": "stdout",
     "output_type": "stream",
     "text": [
      "Упаковка для лыж\n"
     ]
    }
   ],
   "source": [
    "width = 45\n",
    "length = 205\n",
    "height = 45\n",
    "\n",
    "if width < 15 and length < 15 and height < 15:\n",
    "    print(\"Коробка №1\")\n",
    "    \n",
    "elif width > 200 or length > 200 or height > 200:\n",
    "    print(\"Упаковка для лыж\")\n",
    "    \n",
    "elif 15 <= width <= 50 or 15 <= length <= 50 or 15 <= height <= 50:\n",
    "    print(\"Коробка №2\")\n",
    "\n",
    "else:\n",
    "    print(\"Стандартная коробка №3\")"
   ]
  },
  {
   "cell_type": "code",
   "execution_count": 108,
   "metadata": {},
   "outputs": [
    {
     "name": "stdout",
     "output_type": "stream",
     "text": [
      "Коробка №1\n"
     ]
    }
   ],
   "source": [
    "width = 14\n",
    "length = 5\n",
    "height = 10\n",
    "\n",
    "if width < 15 and length < 15 and height < 15:\n",
    "    print(\"Коробка №1\")\n",
    "    \n",
    "elif width > 200 or length > 200 or height > 200:\n",
    "    print(\"Упаковка для лыж\")\n",
    "    \n",
    "elif 15 <= width <= 50 or 15 <= length <= 50 or 15 <= height <= 50:\n",
    "    print(\"Коробка №2\")\n",
    "\n",
    "else:\n",
    "    print(\"Стандартная коробка №3\")"
   ]
  },
  {
   "cell_type": "code",
   "execution_count": 110,
   "metadata": {},
   "outputs": [
    {
     "name": "stdout",
     "output_type": "stream",
     "text": [
      "Стандартная коробка №3\n"
     ]
    }
   ],
   "source": [
    "width = 75\n",
    "length = 95\n",
    "height = 85\n",
    "\n",
    "if width < 15 and length < 15 and height < 15:\n",
    "    print(\"Коробка №1\")\n",
    "    \n",
    "elif width > 200 or length > 200 or height > 200:\n",
    "    print(\"Упаковка для лыж\")\n",
    "    \n",
    "elif 15 <= width <= 50 or 15 <= length <= 50 or 15 <= height <= 50:\n",
    "    print(\"Коробка №2\")\n",
    "\n",
    "else:\n",
    "    print(\"Стандартная коробка №3\")"
   ]
  },
  {
   "cell_type": "code",
   "execution_count": 109,
   "metadata": {},
   "outputs": [
    {
     "name": "stdout",
     "output_type": "stream",
     "text": [
      "Коробка №2\n"
     ]
    }
   ],
   "source": [
    "width = 45\n",
    "length = 75\n",
    "height = 25\n",
    "\n",
    "if width < 15 and length < 15 and height < 15:\n",
    "    print(\"Коробка №1\")\n",
    "    \n",
    "elif width > 200 or length > 200 or height > 200:\n",
    "    print(\"Упаковка для лыж\")\n",
    "    \n",
    "elif 15 <= width <= 50 or 15 <= length <= 50 or 15 <= height <= 50:\n",
    "    print(\"Коробка №2\")\n",
    "\n",
    "else:\n",
    "    print(\"Стандартная коробка №3\")"
   ]
  },
  {
   "cell_type": "markdown",
   "metadata": {},
   "source": [
    "### Задание 5\n",
    "\n",
    "Дана переменная, в которой хранится шестизначное число (номер проездного билета). \n",
    "Напишите программу, которая будет определять, является ли данный билет “счастливым”. \n",
    "Билет считается счастливым, если сумма первых трех цифр совпадает с суммой последних трех цифр номера."
   ]
  },
  {
   "cell_type": "code",
   "execution_count": 47,
   "metadata": {},
   "outputs": [
    {
     "name": "stdout",
     "output_type": "stream",
     "text": [
      "Введите свое число для проверки на счастье: 123123\n",
      "Счастливый билетик! Ешь теперь...\n"
     ]
    }
   ],
   "source": [
    "number = input(\"Введите свое число для проверки на счастье: \")\n",
    "\n",
    "if len(number) != 6:\n",
    "    print(\"Неверное число\")\n",
    "\n",
    "first_part = number[0:3]\n",
    "second_part = number[3:]\n",
    "\n",
    "sum_of_first_3_numbers = 0\n",
    "sum_of_second_3_numbers = 0\n",
    "\n",
    "for letter in first_part:\n",
    "    sum_of_first_3_numbers += int(letter)\n",
    "\n",
    "for letter in second_part:\n",
    "    sum_of_second_3_numbers += int(letter)\n",
    "    \n",
    "if sum_of_first_3_numbers == sum_of_second_3_numbers:\n",
    "    print(\"Счастливый билетик! Ешь теперь...\")\n",
    "else:\n",
    "    print(\"Не повезло :(\")"
   ]
  },
  {
   "cell_type": "markdown",
   "metadata": {},
   "source": [
    "### Задание 6\n",
    "    \n",
    "Напишите программу, которая сможет вычислять площади трех фигур (круг, треугольник и прямоугольник). "
   ]
  },
  {
   "cell_type": "code",
   "execution_count": 75,
   "metadata": {},
   "outputs": [
    {
     "name": "stdout",
     "output_type": "stream",
     "text": [
      "Введите название фигуры: прямоугольник\n",
      "Введите длину первой стороны (см): 12.76\n",
      "Введите длину второй стороны (см): 15.87465\n",
      "Площадь прямоугольника равна 202.56 квадратных сантиметров\n"
     ]
    }
   ],
   "source": [
    "type_of_figure = input(\"Введите название фигуры: \")\n",
    "type_of_figure = type_of_figure.lower()\n",
    "\n",
    "\n",
    "if type_of_figure == 'круг':\n",
    "    radius = float(input(\"Введите радиус (см): \"))\n",
    "    square = 3.141592 * radius**2\n",
    "    print(f\"Площадь круга равна {round(square, 2)} квадратных сантиметров\")\n",
    "    \n",
    "elif type_of_figure == 'прямоугольник':\n",
    "    side_1 = float(input(\"Введите длину первой стороны (см): \"))\n",
    "    side_2 = float(input(\"Введите длину второй стороны (см): \"))\n",
    "    square = side_1 * side_2\n",
    "    print(f\"Площадь прямоугольника равна {round(square, 2)} квадратных сантиметров\")\n",
    "    \n",
    "elif type_of_figure == 'треугольник':\n",
    "    side_1 = float(input(\"Введите длину первой стороны (см): \"))\n",
    "    side_2 = float(input(\"Введите длину второй стороны (см): \"))\n",
    "    side_3 = float(input(\"Введите длину третьей стороны (см): \"))\n",
    "    \n",
    "    #Площадь через полупериметр\n",
    "    p = (side_1 + side_2 + side_3)/2\n",
    "    square = (p * (p - side_1) * (p - side_2) * (p - side_3))**0.5\n",
    "    print(f\"Площадь прямоугольника равна {round(square, 2)} квадратных сантиметров\")"
   ]
  }
 ],
 "metadata": {
  "kernelspec": {
   "display_name": "Python 3",
   "language": "python",
   "name": "python3"
  },
  "language_info": {
   "codemirror_mode": {
    "name": "ipython",
    "version": 3
   },
   "file_extension": ".py",
   "mimetype": "text/x-python",
   "name": "python",
   "nbconvert_exporter": "python",
   "pygments_lexer": "ipython3",
   "version": "3.7.3"
  }
 },
 "nbformat": 4,
 "nbformat_minor": 2
}
