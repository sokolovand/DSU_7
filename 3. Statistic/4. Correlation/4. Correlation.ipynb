{
 "cells": [
  {
   "cell_type": "markdown",
   "metadata": {},
   "source": [
    "### Задача - ответить на вопрос: есть ли связь между жёсткостью воды и средней годовой смертностью?\n",
    "\n",
    "- Построить точечный график                         \n",
    "- Рассчитать коэффициенты корреляции Пирсона и Спирмена                         \n",
    "- Построить модель линейной регрессии                         \n",
    "- Рассчитать коэффициент детерминации                         \n",
    "- Вывести график остатков   \n",
    "\n",
    "### Сохраняется ли аналогичная зависимость для северных и южных городов по отдельности?\n",
    "\n",
    "- Разделить данные на 2 группы                     \n",
    "- Повторить аналогичные шаги из пункта 1 для каждой группы по отдельности                      "
   ]
  },
  {
   "cell_type": "code",
   "execution_count": 70,
   "metadata": {},
   "outputs": [],
   "source": [
    "import pandas as pd\n",
    "import matplotlib.pyplot as plt\n",
    "import seaborn as sns\n",
    "import matplotlib.pyplot as plt\n",
    "\n",
    "from sklearn.linear_model import LinearRegression\n",
    "from sklearn.model_selection import train_test_split"
   ]
  },
  {
   "cell_type": "code",
   "execution_count": 71,
   "metadata": {},
   "outputs": [
    {
     "data": {
      "text/html": [
       "<div>\n",
       "<style scoped>\n",
       "    .dataframe tbody tr th:only-of-type {\n",
       "        vertical-align: middle;\n",
       "    }\n",
       "\n",
       "    .dataframe tbody tr th {\n",
       "        vertical-align: top;\n",
       "    }\n",
       "\n",
       "    .dataframe thead th {\n",
       "        text-align: right;\n",
       "    }\n",
       "</style>\n",
       "<table border=\"1\" class=\"dataframe\">\n",
       "  <thead>\n",
       "    <tr style=\"text-align: right;\">\n",
       "      <th></th>\n",
       "      <th>Unnamed: 0</th>\n",
       "      <th>location</th>\n",
       "      <th>town</th>\n",
       "      <th>mortality</th>\n",
       "      <th>hardness</th>\n",
       "    </tr>\n",
       "  </thead>\n",
       "  <tbody>\n",
       "    <tr>\n",
       "      <th>0</th>\n",
       "      <td>1</td>\n",
       "      <td>South</td>\n",
       "      <td>Bath</td>\n",
       "      <td>1247</td>\n",
       "      <td>105</td>\n",
       "    </tr>\n",
       "    <tr>\n",
       "      <th>1</th>\n",
       "      <td>2</td>\n",
       "      <td>North</td>\n",
       "      <td>Birkenhead</td>\n",
       "      <td>1668</td>\n",
       "      <td>17</td>\n",
       "    </tr>\n",
       "    <tr>\n",
       "      <th>2</th>\n",
       "      <td>3</td>\n",
       "      <td>South</td>\n",
       "      <td>Birmingham</td>\n",
       "      <td>1466</td>\n",
       "      <td>5</td>\n",
       "    </tr>\n",
       "    <tr>\n",
       "      <th>3</th>\n",
       "      <td>4</td>\n",
       "      <td>North</td>\n",
       "      <td>Blackburn</td>\n",
       "      <td>1800</td>\n",
       "      <td>14</td>\n",
       "    </tr>\n",
       "    <tr>\n",
       "      <th>4</th>\n",
       "      <td>5</td>\n",
       "      <td>North</td>\n",
       "      <td>Blackpool</td>\n",
       "      <td>1609</td>\n",
       "      <td>18</td>\n",
       "    </tr>\n",
       "  </tbody>\n",
       "</table>\n",
       "</div>"
      ],
      "text/plain": [
       "   Unnamed: 0 location        town  mortality  hardness\n",
       "0           1    South        Bath       1247       105\n",
       "1           2    North  Birkenhead       1668        17\n",
       "2           3    South  Birmingham       1466         5\n",
       "3           4    North   Blackburn       1800        14\n",
       "4           5    North   Blackpool       1609        18"
      ]
     },
     "execution_count": 71,
     "metadata": {},
     "output_type": "execute_result"
    }
   ],
   "source": [
    "data = pd.read_csv('water.csv')\n",
    "data.head()"
   ]
  },
  {
   "cell_type": "markdown",
   "metadata": {},
   "source": [
    "- Посмотрим на то, как распределены величины"
   ]
  },
  {
   "cell_type": "code",
   "execution_count": 72,
   "metadata": {},
   "outputs": [
    {
     "data": {
      "image/png": "[encoded data removed]",
      "text/plain": [
       "<Figure size 432x288 with 1 Axes>"
      ]
     },
     "metadata": {
      "needs_background": "light"
     },
     "output_type": "display_data"
    }
   ],
   "source": [
    "sns.histplot(data['hardness'], bins=10)\n",
    "plt.grid()"
   ]
  },
  {
   "cell_type": "code",
   "execution_count": 73,
   "metadata": {},
   "outputs": [
    {
     "data": {
      "image/png": "[encoded data removed]",
      "text/plain": [
       "<Figure size 432x288 with 1 Axes>"
      ]
     },
     "metadata": {
      "needs_background": "light"
     },
     "output_type": "display_data"
    }
   ],
   "source": [
    "sns.histplot(data['mortality'], bins=10)\n",
    "plt.grid()"
   ]
  },
  {
   "cell_type": "markdown",
   "metadata": {},
   "source": [
    "Видно, что жесткость воды не распределена нормально, что будет искажать коэффициент корреляции Пирсона, а вот смертность приближена к нормальному распределению"
   ]
  },
  {
   "cell_type": "markdown",
   "metadata": {},
   "source": [
    "- Посмотрим взаимосвязь жесткости воды от смертности"
   ]
  },
  {
   "cell_type": "code",
   "execution_count": 74,
   "metadata": {},
   "outputs": [
    {
     "data": {
      "image/png": "[encoded data removed]",
      "text/plain": [
       "<Figure size 432x288 with 1 Axes>"
      ]
     },
     "metadata": {
      "needs_background": "light"
     },
     "output_type": "display_data"
    }
   ],
   "source": [
    "data.plot(kind='scatter', x='hardness', y='mortality')\n",
    "plt.grid()"
   ]
  },
  {
   "cell_type": "markdown",
   "metadata": {},
   "source": [
    "На превый взгляд видна небольшая зависимость между жесткостью воды и смертностью в городах. Связь линейная, так как при увеличении одного параметра (жесткость) происходит уменьшение другого параметра (смертность). Но корреляция переменных слабая. При жесткости до 20 единиц некоторые ее значения являются константой (примерно около 15). Проверим это в цифрах: "
   ]
  },
  {
   "cell_type": "code",
   "execution_count": 75,
   "metadata": {},
   "outputs": [
    {
     "name": "stdout",
     "output_type": "stream",
     "text": [
      "Коэффициент корреляции Пирсона: -0.655\n",
      "Коэффициент корреляции Спирмана: -0.632\n",
      "Коэффициент корреляции Кенделла: -0.454\n"
     ]
    }
   ],
   "source": [
    "# Коэффициент корреляции\n",
    "pirson = round(data[['hardness', 'mortality']].corr().iloc[0,1], 3) \n",
    "spearman = round(data[['hardness', 'mortality']].corr(method='spearman').iloc[0,1], 3) \n",
    "kendall = round(data[['hardness', 'mortality']].corr(method='kendall').iloc[0,1], 3) \n",
    "\n",
    "# Соответственно объясняющая и объясняемая переменные \n",
    "X = data[['hardness']]\n",
    "y = data['mortality']\n",
    "\n",
    "# Так как данных мало, то они разбиваются в пропорции 30/70 \n",
    "X_train, X_test, y_train, y_test = train_test_split(X, y, test_size=0.30, random_state=42)\n",
    "\n",
    "# Построение модели линейной регрессии\n",
    "model = LinearRegression()\n",
    "model.fit(X_train, y_train)\n",
    "\n",
    "# Коэффициент детерминации\n",
    "det = model.score(X_test, y_test)\n",
    "\n",
    "# Предсказанная смертность на основе тестовой выборки\n",
    "y_pred = model.predict(X_test)\n",
    "\n",
    "# Остаток предсказания смертности\n",
    "e = y_test - y_pred\n",
    "\n",
    "print(f\"Коэффициент корреляции Пирсона: {pirson}\")\n",
    "print(f\"Коэффициент корреляции Спирмана: {spearman}\")\n",
    "print(f\"Коэффициент корреляции Кенделла: {kendall}\")"
   ]
  },
  {
   "cell_type": "markdown",
   "metadata": {},
   "source": [
    "- Коэффициент корреляци Пирсона на уровне -0.65. Это означает, что зависимость между данными переменнами есть, она средняя (исхожу из того, что корреляция >0.70 является высокой). Также она носит обратный характер - чем выше концентрация кальция, тем ниже смертность. "
   ]
  },
  {
   "cell_type": "markdown",
   "metadata": {},
   "source": [
    "- В результате получено, что уравнение регрессии имеет следующий вид:\n",
    "\n",
    "##### y = 1668.97 - 3.132*x"
   ]
  },
  {
   "cell_type": "code",
   "execution_count": 76,
   "metadata": {},
   "outputs": [
    {
     "name": "stdout",
     "output_type": "stream",
     "text": [
      "-3.1316708721378266\n",
      "1668.9722977277095\n"
     ]
    }
   ],
   "source": [
    "# Коэффициенты уравнения регрессии\n",
    "\n",
    "print(model.coef_[0])\n",
    "print(model.intercept_)"
   ]
  },
  {
   "cell_type": "markdown",
   "metadata": {},
   "source": [
    "- Коэффициент детерминации составляет:"
   ]
  },
  {
   "cell_type": "code",
   "execution_count": 77,
   "metadata": {},
   "outputs": [
    {
     "data": {
      "text/plain": [
       "0.505"
      ]
     },
     "execution_count": 77,
     "metadata": {},
     "output_type": "execute_result"
    }
   ],
   "source": [
    "round(det, 3)"
   ]
  },
  {
   "cell_type": "markdown",
   "metadata": {},
   "source": [
    "- Нашел в интернете такую трактовку коэффициента детерминации:\n",
    "\n",
    "\"коэффициент детерминации указывает, какая ЧАСТЬ изменений одной переменной объясняется изменениями другой переменной\"\n",
    "\n",
    "- А также взаимосвязь коэффициента корреляции и детерминации:\n",
    "\n",
    "\"                                    \n",
    "Принято считать, что коэффициенты корреляции, которые по модулю больше 0,7, говорят о сильной связи (при этом коэффициенты детерминации > 50%, т.е. один признак определяет другой более, чем наполовину).\n",
    "\n",
    "Коэффициенты корреляции, которые по модулю меньше 0,7, но больше 0,5, говорят о связи средней силы (при этом коэффициенты детерминации меньше 50%, но больше 25%).\n",
    "\n",
    "Наконец, коэффициенты корреляции, которые по модулю меньше 0,5, говорят о слабой связи (при этом коэффициенты детерминации меньше 25%).                           \n",
    "\"\n",
    "- Коэффициент детерминации на уровне 0.5, что является показателем сильной связи. Ну или выше средней, так как коэффициент корреляции, все же, не дотягивает до >70%. Следовательно, половина из всего тестового набора данных X_test объясняет y_test. Предположу, что и коэффициенты корреляции, и детерминации могли бы быть несколько выше на бОльшей выборке данных. Но смертность зависит не только от содержания кальция в воде, поэтому, наверное, коэффициент детерминации не сильно бы превысит 0.5."
   ]
  },
  {
   "cell_type": "code",
   "execution_count": 78,
   "metadata": {},
   "outputs": [
    {
     "data": {
      "image/png": "[encoded data removed]",
      "text/plain": [
       "<Figure size 432x288 with 1 Axes>"
      ]
     },
     "metadata": {
      "needs_background": "light"
     },
     "output_type": "display_data"
    }
   ],
   "source": [
    "# Тестовый набор данных и результат работы модели\n",
    "plt.scatter(X_test, y_test)\n",
    "plt.plot(X_test, y_pred, c='r')\n",
    "plt.grid()"
   ]
  },
  {
   "cell_type": "code",
   "execution_count": 82,
   "metadata": {},
   "outputs": [
    {
     "data": {
      "text/plain": [
       "Text(0, 0.5, 'Остаток предсказания')"
      ]
     },
     "execution_count": 82,
     "metadata": {},
     "output_type": "execute_result"
    },
    {
     "data": {
      "image/png": "[encoded data removed]",
      "text/plain": [
       "<Figure size 432x288 with 1 Axes>"
      ]
     },
     "metadata": {
      "needs_background": "light"
     },
     "output_type": "display_data"
    }
   ],
   "source": [
    "# График остатков\n",
    "plt.scatter(y_pred, e)\n",
    "plt.hlines(y=0, xmin=1200, xmax=1700, lw=2, color='red')\n",
    "plt.grid()\n",
    "plt.xlabel('Смертность')\n",
    "plt.ylabel('Остаток предсказания')"
   ]
  },
  {
   "cell_type": "markdown",
   "metadata": {},
   "source": [
    "## Возник вопрос по красной линии\n",
    "\n",
    "Она должна быть горизонтальной или же соответствовать (X_test, y_pred)? Исхожу из мысли, что по Х у нас действительное значение предсказанной величины, а по У - лишь отклонение данной величины. Если бы прямая была под углом, то, скажем, одинаковые остатки для двух разных значений по Х имели бы разные координаты по оси У. Это, как минимум, затрудняет чтение значений точек относительно самой линии. Также в интернете по данному вопросу нашел пару статей, где линия была горизонтальной. \n",
    "\n",
    "Но, например, на стриме данного урока около 1:09:30 был пример графика остатков. Там линия, относительно которой откладываются остатки, возрастает, что приводит к вышеописанной ситуации.\n",
    "\n",
    "Как правильно подойти к построению данного графика? "
   ]
  },
  {
   "cell_type": "markdown",
   "metadata": {},
   "source": [
    "### Теперь проведем разделение на северные и южные города, а после дадим общий вывод "
   ]
  },
  {
   "cell_type": "code",
   "execution_count": 83,
   "metadata": {},
   "outputs": [
    {
     "name": "stdout",
     "output_type": "stream",
     "text": [
      "Число северных городов 35\n",
      "Число южных городов 26\n"
     ]
    }
   ],
   "source": [
    "north = data.loc[data.location == 'North', :]\n",
    "south = data.loc[data.location == 'South', :]\n",
    "print(f'Число северных городов {len(north)}')\n",
    "print(f'Число южных городов {len(south)}')"
   ]
  },
  {
   "cell_type": "markdown",
   "metadata": {},
   "source": [
    "- Сразу видно, что данных очень мало. Проделываем все то же самое"
   ]
  },
  {
   "cell_type": "markdown",
   "metadata": {},
   "source": [
    "### 1. Северные города"
   ]
  },
  {
   "cell_type": "code",
   "execution_count": 84,
   "metadata": {},
   "outputs": [
    {
     "name": "stdout",
     "output_type": "stream",
     "text": [
      "Коэффициент корреляции Пирсона: -0.369\n",
      "Коэффициент корреляции Спирмана: -0.404\n",
      "Коэффициент корреляции Кенделла: -0.283\n",
      "Коэффициент детерминации: 0.019\n"
     ]
    }
   ],
   "source": [
    "# Коэффициент корреляции\n",
    "pirson = round(north[['hardness', 'mortality']].corr().iloc[0,1], 3) \n",
    "spearman = round(north[['hardness', 'mortality']].corr(method='spearman').iloc[0,1], 3) \n",
    "kendall = round(north[['hardness', 'mortality']].corr(method='kendall').iloc[0,1], 3) \n",
    "\n",
    "# Соответственно объясняющая и объясняемая переменные \n",
    "X = north[['hardness']]\n",
    "y = north['mortality']\n",
    "\n",
    "# Так как данных мало, то они разбиваются в пропорции 30/70 \n",
    "X_train, X_test, y_train, y_test = train_test_split(X, y, test_size=0.30, random_state=42)\n",
    "\n",
    "# Построение модели линейной регрессии\n",
    "model = LinearRegression()\n",
    "model.fit(X_train, y_train)\n",
    "\n",
    "# Коэффициент детерминации\n",
    "det = model.score(X_test, y_test)\n",
    "\n",
    "# Предсказанная смертность на основе тестовой выборки\n",
    "y_pred = model.predict(X_test)\n",
    "\n",
    "# Остаток предсказания смертности\n",
    "e = y_test - y_pred\n",
    "\n",
    "print(f\"Коэффициент корреляции Пирсона: {pirson}\")\n",
    "print(f\"Коэффициент корреляции Спирмана: {spearman}\")\n",
    "print(f\"Коэффициент корреляции Кенделла: {kendall}\")\n",
    "print(f'Коэффициент детерминации: {round(det, 3)}')"
   ]
  },
  {
   "cell_type": "markdown",
   "metadata": {},
   "source": [
    "- Анализируя коэффициенты корреляции и детерминации, можно сказать, что взаимосвязь между двумя параметрами слабая. Наша модель почти никак себя не проявляет. Думаю, такие плачевные результаты можно отнести на величину выборки (35 городов). Если же это не так, то южные города должны показать очень высокую взаимосвязь переменных, так как все города вместе показали среднюю взаимосвязь."
   ]
  },
  {
   "cell_type": "code",
   "execution_count": 85,
   "metadata": {},
   "outputs": [
    {
     "name": "stdout",
     "output_type": "stream",
     "text": [
      "-1.9768622600638235\n",
      "1688.150229031281\n"
     ]
    }
   ],
   "source": [
    "print(model.coef_[0])\n",
    "print(model.intercept_)"
   ]
  },
  {
   "cell_type": "markdown",
   "metadata": {},
   "source": [
    "#### Уравнение имеет вид y = 1688.15 - 1.97 * x"
   ]
  },
  {
   "cell_type": "code",
   "execution_count": 86,
   "metadata": {},
   "outputs": [
    {
     "data": {
      "image/png": "[encoded data removed]",
      "text/plain": [
       "<Figure size 432x288 with 1 Axes>"
      ]
     },
     "metadata": {
      "needs_background": "light"
     },
     "output_type": "display_data"
    }
   ],
   "source": [
    "# Тестовый набор данных и результат работы модели\n",
    "plt.scatter(X_test, y_test)\n",
    "plt.plot(X_test, y_pred, c='r')\n",
    "plt.grid()"
   ]
  },
  {
   "cell_type": "code",
   "execution_count": 90,
   "metadata": {},
   "outputs": [
    {
     "data": {
      "text/plain": [
       "Text(0, 0.5, 'Остаток предсказания')"
      ]
     },
     "execution_count": 90,
     "metadata": {},
     "output_type": "execute_result"
    },
    {
     "data": {
      "image/png": "[encoded data removed]",
      "text/plain": [
       "<Figure size 432x288 with 1 Axes>"
      ]
     },
     "metadata": {
      "needs_background": "light"
     },
     "output_type": "display_data"
    }
   ],
   "source": [
    "# График остатков\n",
    "plt.scatter(y_pred, e)\n",
    "plt.hlines(y=0, xmin=1525, xmax=1700, lw=2, color='red')\n",
    "plt.grid()\n",
    "plt.xlabel('Смертность')\n",
    "plt.ylabel('Остаток предсказания')"
   ]
  },
  {
   "cell_type": "markdown",
   "metadata": {},
   "source": [
    "### 2. Южные города\n",
    "\n",
    "Разделение данных 30/70"
   ]
  },
  {
   "cell_type": "code",
   "execution_count": 111,
   "metadata": {},
   "outputs": [
    {
     "name": "stdout",
     "output_type": "stream",
     "text": [
      "Коэффициент корреляции Пирсона: -0.602\n",
      "Коэффициент корреляции Спирмана: -0.596\n",
      "Коэффициент корреляции Кенделла: -0.44\n",
      "Коэффициент детерминации: -2.552\n"
     ]
    }
   ],
   "source": [
    "# Коэффициент корреляции\n",
    "pirson = round(south[['hardness', 'mortality']].corr().iloc[0,1], 3) \n",
    "spearman = round(south[['hardness', 'mortality']].corr(method='spearman').iloc[0,1], 3) \n",
    "kendall = round(south[['hardness', 'mortality']].corr(method='kendall').iloc[0,1], 3) \n",
    "\n",
    "# Соответственно объясняющая и объясняемая переменные \n",
    "X = south[['hardness']]\n",
    "y = south['mortality']\n",
    "\n",
    "# Так как данных мало, то они разбиваются в пропорции 30/70 \n",
    "X_train, X_test, y_train, y_test = train_test_split(X, y, test_size=0.3, random_state=42)\n",
    "\n",
    "# Построение модели линейной регрессии\n",
    "model = LinearRegression()\n",
    "model.fit(X_train, y_train)\n",
    "\n",
    "# Коэффициент детерминации\n",
    "det = model.score(X_test, y_test)\n",
    "\n",
    "# Предсказанная смертность на основе тестовой выборки\n",
    "y_pred = model.predict(X_test)\n",
    "\n",
    "# Остаток предсказания смертности\n",
    "e = y_test - y_pred\n",
    "\n",
    "print(f\"Коэффициент корреляции Пирсона: {pirson}\")\n",
    "print(f\"Коэффициент корреляции Спирмана: {spearman}\")\n",
    "print(f\"Коэффициент корреляции Кенделла: {kendall}\")\n",
    "print(f'Коэффициент детерминации: {round(det, 3)}')"
   ]
  },
  {
   "cell_type": "code",
   "execution_count": 114,
   "metadata": {},
   "outputs": [
    {
     "data": {
      "image/png": "[encoded data removed]",
      "text/plain": [
       "<Figure size 432x288 with 1 Axes>"
      ]
     },
     "metadata": {
      "needs_background": "light"
     },
     "output_type": "display_data"
    }
   ],
   "source": [
    "# Тестовый набор данных и результат работы модели\n",
    "plt.scatter(X_test, y_test)\n",
    "plt.plot(X_test, y_pred, c='r')\n",
    "plt.grid()"
   ]
  },
  {
   "cell_type": "code",
   "execution_count": 115,
   "metadata": {},
   "outputs": [
    {
     "data": {
      "text/plain": [
       "Text(0, 0.5, 'Остаток предсказания')"
      ]
     },
     "execution_count": 115,
     "metadata": {},
     "output_type": "execute_result"
    },
    {
     "data": {
      "image/png": "[encoded data removed]",
      "text/plain": [
       "<Figure size 432x288 with 1 Axes>"
      ]
     },
     "metadata": {
      "needs_background": "light"
     },
     "output_type": "display_data"
    }
   ],
   "source": [
    "# График остатков\n",
    "plt.scatter(y_pred, e)\n",
    "plt.hlines(y=0, xmin=1200, xmax=1700, lw=2, color='red')\n",
    "plt.grid()\n",
    "plt.xlabel('Смертность')\n",
    "plt.ylabel('Остаток предсказания')"
   ]
  },
  {
   "cell_type": "markdown",
   "metadata": {},
   "source": [
    "- Анализируя полученные результаты, можно сделать вывод, что наша модель, основанная лишь на южных городах, абсолютно бесполезна. Наивная модель, более чем в 3.5 раза дает лучшие результаты, чем регрессия. Коеффициенты корреляции несклько ниже, чем при анализе всех городов вместе. Это достигнуто при разделении данных на тренировочный и тестовый сет в пропорции 30/70."
   ]
  },
  {
   "cell_type": "markdown",
   "metadata": {},
   "source": [
    "### 3. Южные города\n",
    "\n",
    "Разделение данных 60/40"
   ]
  },
  {
   "cell_type": "code",
   "execution_count": 127,
   "metadata": {},
   "outputs": [
    {
     "name": "stdout",
     "output_type": "stream",
     "text": [
      "Коэффициент корреляции Пирсона: -0.602\n",
      "Коэффициент корреляции Спирмана: -0.596\n",
      "Коэффициент корреляции Кенделла: -0.44\n",
      "Коэффициент детерминации: 0.203\n"
     ]
    }
   ],
   "source": [
    "# Коэффициент корреляции\n",
    "pirson = round(south[['hardness', 'mortality']].corr().iloc[0,1], 3) \n",
    "spearman = round(south[['hardness', 'mortality']].corr(method='spearman').iloc[0,1], 3) \n",
    "kendall = round(south[['hardness', 'mortality']].corr(method='kendall').iloc[0,1], 3) \n",
    "\n",
    "# Соответственно объясняющая и объясняемая переменные \n",
    "X = south[['hardness']]\n",
    "y = south['mortality']\n",
    "\n",
    "# Так как данных мало, то они разбиваются в пропорции 30/70 \n",
    "X_train, X_test, y_train, y_test = train_test_split(X, y, test_size=0.6, random_state=42)\n",
    "\n",
    "# Построение модели линейной регрессии\n",
    "model = LinearRegression()\n",
    "model.fit(X_train, y_train)\n",
    "\n",
    "# Коэффициент детерминации\n",
    "det = model.score(X_test, y_test)\n",
    "\n",
    "# Предсказанная смертность на основе тестовой выборки\n",
    "y_pred = model.predict(X_test)\n",
    "\n",
    "# Остаток предсказания смертности\n",
    "e = y_test - y_pred\n",
    "\n",
    "print(f\"Коэффициент корреляции Пирсона: {pirson}\")\n",
    "print(f\"Коэффициент корреляции Спирмана: {spearman}\")\n",
    "print(f\"Коэффициент корреляции Кенделла: {kendall}\")\n",
    "print(f'Коэффициент детерминации: {round(det, 3)}')"
   ]
  },
  {
   "cell_type": "code",
   "execution_count": 122,
   "metadata": {},
   "outputs": [
    {
     "data": {
      "image/png": "[encoded data removed]",
      "text/plain": [
       "<Figure size 432x288 with 1 Axes>"
      ]
     },
     "metadata": {
      "needs_background": "light"
     },
     "output_type": "display_data"
    }
   ],
   "source": [
    "# Тестовый набор данных и результат работы модели\n",
    "plt.scatter(X_test, y_test)\n",
    "plt.plot(X_test, y_pred, c='r')\n",
    "plt.grid()"
   ]
  },
  {
   "cell_type": "code",
   "execution_count": 123,
   "metadata": {},
   "outputs": [
    {
     "data": {
      "text/plain": [
       "Text(0, 0.5, 'Остаток предсказания')"
      ]
     },
     "execution_count": 123,
     "metadata": {},
     "output_type": "execute_result"
    },
    {
     "data": {
      "image/png": "[encoded data removed]",
      "text/plain": [
       "<Figure size 432x288 with 1 Axes>"
      ]
     },
     "metadata": {
      "needs_background": "light"
     },
     "output_type": "display_data"
    }
   ],
   "source": [
    "# График остатков\n",
    "plt.scatter(y_pred, e)\n",
    "plt.hlines(y=0, xmin=1200, xmax=1700, lw=2, color='red')\n",
    "plt.grid()\n",
    "plt.xlabel('Смертность')\n",
    "plt.ylabel('Остаток предсказания')"
   ]
  },
  {
   "cell_type": "markdown",
   "metadata": {},
   "source": [
    "- При разделении данных в пропорции 60/40 удалось получить положительный коэффициент детерминации. Но, предположу, это лишь случйность, так как пропорции 55/45 и 65/35 уже были в отрицательных значениях."
   ]
  },
  {
   "cell_type": "markdown",
   "metadata": {},
   "source": [
    "### Вывод\n",
    "\n",
    "В распоряжении было всего 61 наблюдение. Исследования показали, что лишь первое из них можно назвать пригодным для формулировки каких-либо выводов. Разделение отдельно на географическое положение привело к тому, что данных в наборе оказалось очень мало. Это не дало модели достаточно информации для обучения. Если в северных городах еще поулчилось получить положительный коэффициент детерминации при рекомендованном разделении данных 30/70, то во на южных городах этого не удалось. Лишь пропорция 60/40 выдала что-то разумное, но вряд ли это можно считать достоверным результатом.\n",
    "\n",
    "Анализируя первое исследование, можно сделать вывод, что количество содержания кальция в питьевой воде уменьшает число смертей в городах. Чтобы подтвердить правдивость данной гипотезы, в интернете найдены исследования данного вопроса, кстати, опирающиеся на этот датасет. Вот выдержка из него: \n",
    "\n",
    "\"\n",
    "В среднем, с каждым увеличением содержания кальция на 25 мг/л смертность снижается примерно на 50 на 100000 жителей. Одна из причин более тесной связи частоты смертей с содержанием кальция, чем с общей жесткостью воды, объясняется тем, что в очень жесткой воде ряда городов содержится относительно большее количество магния, чем кальция.\n",
    "\"\n",
    "\n",
    "Поэтому предположение можно считать верным. Но также надо учесть, что смертность зависит от многих факторов, которые здесь не рассматриваются: убийства, несчастные случаи, прочие заболевания... Поэтому коэффициент корреляции на уровни 0.65, а не приближен к 1."
   ]
  }
 ],
 "metadata": {
  "kernelspec": {
   "display_name": "Python 3",
   "language": "python",
   "name": "python3"
  },
  "language_info": {
   "codemirror_mode": {
    "name": "ipython",
    "version": 3
   },
   "file_extension": ".py",
   "mimetype": "text/x-python",
   "name": "python",
   "nbconvert_exporter": "python",
   "pygments_lexer": "ipython3",
   "version": "3.7.3"
  }
 },
 "nbformat": 4,
 "nbformat_minor": 2
}
