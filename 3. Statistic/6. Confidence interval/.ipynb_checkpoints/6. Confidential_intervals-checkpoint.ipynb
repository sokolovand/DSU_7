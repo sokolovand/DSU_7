{
 "cells": [
  {
   "cell_type": "code",
   "execution_count": 1,
   "metadata": {
    "ExecuteTime": {
     "end_time": "2021-08-01T08:07:19.406019Z",
     "start_time": "2021-08-01T08:07:19.183023Z"
    }
   },
   "outputs": [],
   "source": [
    "import pandas as pd\n",
    "import numpy as np"
   ]
  },
  {
   "cell_type": "markdown",
   "metadata": {
    "ExecuteTime": {
     "end_time": "2021-08-01T06:36:20.932540Z",
     "start_time": "2021-08-01T06:36:20.920542Z"
    }
   },
   "source": [
    "<div class=\"alert alert-info\">\n",
    "<b>Задание № 0</b>\n",
    "\n",
    "Найдите минимально необходимый объем выборки для построения интервальной оценки среднего.\n",
    "\n",
    "- желаемая точность $\\Delta$ = 3;\n",
    "- дисперсия $\\sigma^2$  = 225;\n",
    "- уровень доверия $\\beta$ = 0.95.\n",
    "    \n",
    "Ответ округлите до целого\n",
    "</div>"
   ]
  },
  {
   "cell_type": "markdown",
   "metadata": {},
   "source": [
    "### Формула для расчета:\n",
    "$$ n = (\\frac{Z*\\sigma}{\\Delta})^2$$\n",
    "- $\\Delta$ - допустимая ошибка/погрешность, \n",
    "\n",
    "- $\\sigma$ - стандартное отклонение, \n",
    "\n",
    "- Z - квантиль нормального распределения\n",
    "\n",
    "По таблице нормального распределения найдем значение квантиля Z для  1 -  $\\alpha$/2 (0.975)                           \n",
    "Z = 1.95"
   ]
  },
  {
   "cell_type": "code",
   "execution_count": 2,
   "metadata": {
    "ExecuteTime": {
     "end_time": "2021-08-01T08:07:21.967017Z",
     "start_time": "2021-08-01T08:07:21.953023Z"
    }
   },
   "outputs": [
    {
     "name": "stdout",
     "output_type": "stream",
     "text": [
      "Округление в большую сторону, чтобы точно выполнить условие\n",
      "Минимальный объем выборки для построения интервальной оценки среднего составляет: 96.0\n"
     ]
    }
   ],
   "source": [
    "z = 1.95\n",
    "sigma = np.sqrt(225)\n",
    "delta = 3\n",
    "\n",
    "n = (z * sigma / delta) ** 2\n",
    "print('Округление в большую сторону, чтобы точно выполнить условие')\n",
    "print(f'Минимальный объем выборки для построения интервальной оценки среднего составляет: {np.ceil(n)}')"
   ]
  },
  {
   "cell_type": "markdown",
   "metadata": {},
   "source": [
    "<div class=\"alert alert-info\">\n",
    "<b>Задание № 1</b>\n",
    "\n",
    "Постройте `98% доверительный интервал` для среднего значения, если известно, что\n",
    "\n",
    "- объем выборки n = 25;\n",
    "- среднее значение по выборке $\\overline x$ = 130;\n",
    "- Из достоверных источников известно стандартное отклонение $\\sigma = 15$.\n",
    "    \n",
    "В ответ укажите длину полученного доверительного интервала (разницу между правым и левым концом), окруленную до целого\n",
    "</div>"
   ]
  },
  {
   "cell_type": "code",
   "execution_count": 3,
   "metadata": {
    "ExecuteTime": {
     "end_time": "2021-08-01T08:07:23.020020Z",
     "start_time": "2021-08-01T08:07:23.011020Z"
    }
   },
   "outputs": [
    {
     "name": "stdout",
     "output_type": "stream",
     "text": [
      "Длина доверительного интервала с округлением в большую сторону составляет 14 единиц\n"
     ]
    }
   ],
   "source": [
    "n = 25\n",
    "mean_x = 130\n",
    "sigma = 15\n",
    "alpha = 0.02\n",
    "# По таблице нормального распределения найдем квантиль нормального распределения для 0.99 при уровне значимости 0.02\n",
    "z = 2.31\n",
    "\n",
    "delta = sigma / np.sqrt(n) * z\n",
    "\n",
    "# Длина доверительного интервала\n",
    "len_delta = round((mean_x + delta) - (mean_x - delta))\n",
    "print(f'Длина доверительного интервала с округлением в большую сторону составляет {len_delta} единиц')"
   ]
  },
  {
   "cell_type": "markdown",
   "metadata": {},
   "source": [
    "<div class=\"alert alert-info\">\n",
    "<b>Задание № 2</b>\n",
    "\n",
    "Даны две выборки роста мужчин и женщин. \n",
    "- Докажите, используя `t-Тест Стьдента`, что различие между выборками незначительно, если уровень значимости равен $\\alpha$ `= 0.001`.\n",
    "- Покажите различия визуально\n",
    "</div>"
   ]
  },
  {
   "cell_type": "code",
   "execution_count": 20,
   "metadata": {
    "ExecuteTime": {
     "end_time": "2021-08-01T08:26:53.220605Z",
     "start_time": "2021-08-01T08:26:52.482604Z"
    }
   },
   "outputs": [
    {
     "data": {
      "text/plain": [
       "<matplotlib.legend.Legend at 0x1dfe8350640>"
      ]
     },
     "execution_count": 20,
     "metadata": {},
     "output_type": "execute_result"
    },
    {
     "data": {
      "image/png": "[encoded data removed]",
      "text/plain": [
       "<Figure size 432x288 with 1 Axes>"
      ]
     },
     "metadata": {
      "needs_background": "light"
     },
     "output_type": "display_data"
    }
   ],
   "source": [
    "import scipy.stats as stats\n",
    "import matplotlib.pyplot as plt\n",
    "\n",
    "population_men  = stats.norm.rvs(loc=171, scale=19, size=11000000)  # Выборка мужчин со средним ростом 171\n",
    "population_women = stats.norm.rvs(loc=165, scale=16, size=12000)  # Выборка женщин со средним ростом 165\n",
    "\n",
    "### Ваш код...\n",
    "plt.hist(population_women, alpha =0.4, density=True, bins=50, color='red')\n",
    "plt.hist(population_men, alpha =0.4, density=True, bins=50, color='blue')\n",
    "plt.xlabel('Рост, см')\n",
    "plt.ylabel('Вероятность попадания в данный интервал')\n",
    "plt.grid()\n",
    "plt.legend(['Женщины', 'Мужчины'])"
   ]
  },
  {
   "cell_type": "code",
   "execution_count": 5,
   "metadata": {
    "ExecuteTime": {
     "end_time": "2021-08-01T08:07:26.762021Z",
     "start_time": "2021-08-01T08:07:26.674020Z"
    }
   },
   "outputs": [
    {
     "name": "stdout",
     "output_type": "stream",
     "text": [
      "t-test: 33.807678238038754\n",
      "p_value: 1.5668611981209572e-250\n"
     ]
    }
   ],
   "source": [
    "t, p_value = stats.ttest_ind(population_men, population_women)\n",
    "print(f't-test: {t}\\np_value: {p_value}')"
   ]
  },
  {
   "cell_type": "markdown",
   "metadata": {},
   "source": [
    "#### Вывод:\n",
    "Так как p_value получилось много меньше критического уровня (е-253 против 0.001), то можно с уверенностью сказать, что между выборками разница значительна и не носит случайный характер."
   ]
  },
  {
   "cell_type": "markdown",
   "metadata": {},
   "source": [
    "<div class=\"alert alert-info\">\n",
    "<b>Задание № 3</b>\n",
    "\n",
    "Определите объем необходимой выборки для исследования среднего чека за кофе в случайном городе если известно, что в этом городе:\n",
    "\n",
    "- стандартное отклонение $\\sigma = 150$;\n",
    "- уровень доверия $\\beta$  = 95%;\n",
    "- Погрешность $\\Delta = 50$ рублей.\n",
    "</div>"
   ]
  },
  {
   "cell_type": "markdown",
   "metadata": {},
   "source": [
    "По таблице номрального распределения найдем квантиль нормального распределения Z                                      \n",
    "Z = 1.95"
   ]
  },
  {
   "cell_type": "code",
   "execution_count": 6,
   "metadata": {
    "ExecuteTime": {
     "end_time": "2021-08-01T08:07:27.909019Z",
     "start_time": "2021-08-01T08:07:27.891019Z"
    }
   },
   "outputs": [
    {
     "name": "stdout",
     "output_type": "stream",
     "text": [
      "Округление в большую сторону, чтобы точно выполнить условие\n",
      "Минимальный объем выборки для исследования среднего чека составляет: 35.0\n"
     ]
    }
   ],
   "source": [
    "sigma = 150\n",
    "delta = 50\n",
    "z = 1.95\n",
    "\n",
    "n = (z * sigma / delta) ** 2\n",
    "\n",
    "print('Округление в большую сторону, чтобы точно выполнить условие')\n",
    "print(f'Минимальный объем выборки для исследования среднего чека составляет: {np.ceil(n)}')"
   ]
  },
  {
   "cell_type": "markdown",
   "metadata": {},
   "source": [
    "<div class=\"alert alert-info\">\n",
    "<b>Задание № 4</b>\n",
    "\n",
    "Представьте, что вы хотите разоблачить \"волшебника\" который считает, что умеет предсказывать погоду на завтра, отвечая просто: дождь или солнце. Вы пронаблюдали за ответами \"волшебника\" в течении какого-то периода времени и получили некие результаты (см.ниже).\n",
    "\n",
    "Можно ли сказать, что маг действительно умеет предсказывать погоду? Уровень значимости принять за `0.05` ($\\alpha=0.05$).\n",
    "</div>"
   ]
  },
  {
   "cell_type": "code",
   "execution_count": 7,
   "metadata": {
    "ExecuteTime": {
     "end_time": "2021-08-01T08:07:29.597017Z",
     "start_time": "2021-08-01T08:07:29.583020Z"
    }
   },
   "outputs": [
    {
     "data": {
      "text/html": [
       "<div>\n",
       "<style scoped>\n",
       "    .dataframe tbody tr th:only-of-type {\n",
       "        vertical-align: middle;\n",
       "    }\n",
       "\n",
       "    .dataframe tbody tr th {\n",
       "        vertical-align: top;\n",
       "    }\n",
       "\n",
       "    .dataframe thead th {\n",
       "        text-align: right;\n",
       "    }\n",
       "</style>\n",
       "<table border=\"1\" class=\"dataframe\">\n",
       "  <thead>\n",
       "    <tr style=\"text-align: right;\">\n",
       "      <th></th>\n",
       "      <th>Ответ волшебника</th>\n",
       "      <th>Реальность</th>\n",
       "    </tr>\n",
       "  </thead>\n",
       "  <tbody>\n",
       "    <tr>\n",
       "      <th>Дождь</th>\n",
       "      <td>10</td>\n",
       "      <td>15</td>\n",
       "    </tr>\n",
       "    <tr>\n",
       "      <th>Солнце</th>\n",
       "      <td>39</td>\n",
       "      <td>34</td>\n",
       "    </tr>\n",
       "  </tbody>\n",
       "</table>\n",
       "</div>"
      ],
      "text/plain": [
       "        Ответ волшебника  Реальность\n",
       "Дождь                 10          15\n",
       "Солнце                39          34"
      ]
     },
     "execution_count": 7,
     "metadata": {},
     "output_type": "execute_result"
    }
   ],
   "source": [
    "observations = pd.DataFrame([[10,15],[39,34]],\n",
    "                            index=['Дождь','Солнце'],\n",
    "                            columns=['Ответ волшебника','Реальность'])\n",
    "observations"
   ]
  },
  {
   "cell_type": "code",
   "execution_count": 15,
   "metadata": {
    "ExecuteTime": {
     "end_time": "2021-08-01T08:15:27.756019Z",
     "start_time": "2021-08-01T08:15:27.749019Z"
    }
   },
   "outputs": [
    {
     "name": "stdout",
     "output_type": "stream",
     "text": [
      "p=0.354\n",
      "Вряд ли он волшебник\n"
     ]
    }
   ],
   "source": [
    "# Тест Фишера\n",
    "import scipy.stats as stats\n",
    "# Учтите, что у тестов, в том чилсле и точного теста Фишера под нулевой гипотезой подразумевается случайность/отсутсвие эффекта\n",
    "\n",
    "# Так как Н0 гласит, что эффект случаен (наш человек не может предсказать), то при p_value > 0.05 можно заявить, что\n",
    "# вероятнее всего маг не умеет предсказывать погоду.\n",
    "\n",
    "oddsratio, pvalue = stats.fisher_exact(observations)\n",
    "print('p=%.3f' % (pvalue))\n",
    "if p > 0.05:\n",
    "    print('Вряд ли он волшебник')\n",
    "else:\n",
    "    print('Похоже, что он волшебник')"
   ]
  },
  {
   "cell_type": "code",
   "execution_count": 16,
   "metadata": {
    "ExecuteTime": {
     "end_time": "2021-08-01T08:15:28.583017Z",
     "start_time": "2021-08-01T08:15:28.570020Z"
    }
   },
   "outputs": [
    {
     "name": "stdout",
     "output_type": "stream",
     "text": [
      "p=0.354\n",
      "Вряд ли он волшебник\n"
     ]
    }
   ],
   "source": [
    "# Альтернатива тесту Abithf - chi2_contingency\n",
    "stat, p, dof, expected = stats.chi2_contingency(observations)\n",
    "print('p=%.3f' % (p))\n",
    "\n",
    "# Так как Н0 гласит, что эффект случаен (наш человек не может предсказать), то при p_value > 0.05 можно заявить, что\n",
    "# вероятнее всего маг не умеет предсказывать погоду.\n",
    "\n",
    "if p > 0.05:\n",
    "    print('Вряд ли он волшебник')\n",
    "else:\n",
    "    print('Похоже, что он волшебник')"
   ]
  },
  {
   "cell_type": "markdown",
   "metadata": {},
   "source": [
    "Оба варианта говорят о том, что волшебник не силен в предсказании погоды"
   ]
  },
  {
   "cell_type": "markdown",
   "metadata": {},
   "source": [
    "<div class=\"alert alert-info\">\n",
    "<b>Задание № 5</b> \n",
    "\n",
    "Используя функцию mean_confidence_interval(data, confidence), постройте доверительный интервал с уровнем доверия $\\beta = 90\\%$ для выборки:\n",
    "\n",
    "</div>"
   ]
  },
  {
   "cell_type": "code",
   "execution_count": 17,
   "metadata": {
    "ExecuteTime": {
     "end_time": "2021-08-01T08:16:26.465018Z",
     "start_time": "2021-08-01T08:16:26.460019Z"
    }
   },
   "outputs": [],
   "source": [
    "def mean_confidence_interval(data, confidence=0.95): #Сложный пример реализации. Проще смотри в лекци. \n",
    "    n = len(data)\n",
    "    m, se = np.mean(data), stats.sem(data)\n",
    "    h = se * stats.t.ppf((1 + confidence)/2, n)  #  функция ppf из scipy возвращает нам перцентиль\n",
    "    return m-h, m, m+h "
   ]
  },
  {
   "cell_type": "code",
   "execution_count": 19,
   "metadata": {
    "ExecuteTime": {
     "end_time": "2021-08-01T08:17:07.025739Z",
     "start_time": "2021-08-01T08:17:07.017742Z"
    }
   },
   "outputs": [
    {
     "data": {
      "text/plain": [
       "(6.074074746111319, 6.628571428571429, 7.183068111031539)"
      ]
     },
     "execution_count": 19,
     "metadata": {},
     "output_type": "execute_result"
    }
   ],
   "source": [
    "data = [4,5,8,9,6,7,5,6,7,8,5,6,7,0,9,8,4,6,\n",
    "        7,9,8,6,5,7,8,9,6,7,5,8,6,7,9,5,10]\n",
    "\n",
    "### Ваш код...\n",
    "confidence = 0.90\n",
    "\n",
    "mean_confidence_interval(data, confidence)"
   ]
  },
  {
   "cell_type": "markdown",
   "metadata": {},
   "source": [
    "<div class=\"alert alert-info\">\n",
    "<b>Задание № 6</b>\n",
    "\n",
    "Принадлежат ли выборки data_1 и data_2 одному множеству? \n",
    "    \n",
    "- Оцените это с помощью известных вам тестов для проверок статистических гипотез;\n",
    "- Покажите различия визуально.\n",
    "</div>"
   ]
  },
  {
   "cell_type": "code",
   "execution_count": 22,
   "metadata": {
    "ExecuteTime": {
     "end_time": "2021-08-01T08:27:23.337602Z",
     "start_time": "2021-08-01T08:27:23.326607Z"
    }
   },
   "outputs": [],
   "source": [
    "data_1 = [4,5,8,9,6,7,5,6,7,8,5,6,7,0,9,8,4,\n",
    "          6,7,9,8,6,5,7,8,9,6,7,5,8,6,7,9,5,10]\n",
    "\n",
    "data_2 = [8,5,6,7,0,1,8,4,6,7,0,2,6,5,7,5,3,5,3,\n",
    "          5,3,5,5,8,7,6,4,5,3,5,4,6,4,5,3,2,6,4,\n",
    "          2,6,1,0,4,3,5,4,3,4,5,4,3,4,5,4,3,4,5,\n",
    "          3,4,4,1,2,4,3,1,2,4,3,2,1,5,3,4,6,4,5,\n",
    "          3,2,4,5,6,4,3,1,3,5,3,4,4,4,2,5,3]\n",
    "\n",
    "#Ваш код:"
   ]
  },
  {
   "cell_type": "markdown",
   "metadata": {},
   "source": [
    "Формируем нулевую гипотезу - Н0 - два набора данных из одного множества                                            \n",
    "Попытаемся ее подтвердить/опровергнуть.                                              \n",
    "Уровни значимости возьмем 0.05, 0.01 и 0.001.                        \n",
    "Проведем t-test:\n"
   ]
  },
  {
   "cell_type": "code",
   "execution_count": 47,
   "metadata": {
    "ExecuteTime": {
     "end_time": "2021-08-01T08:54:17.879608Z",
     "start_time": "2021-08-01T08:54:17.718607Z"
    }
   },
   "outputs": [
    {
     "data": {
      "text/plain": [
       "<matplotlib.legend.Legend at 0x1dfe9129790>"
      ]
     },
     "execution_count": 47,
     "metadata": {},
     "output_type": "execute_result"
    },
    {
     "data": {
      "image/png": "[encoded data removed]",
      "text/plain": [
       "<Figure size 432x288 with 1 Axes>"
      ]
     },
     "metadata": {
      "needs_background": "light"
     },
     "output_type": "display_data"
    }
   ],
   "source": [
    "plt.hist(data_1, alpha =0.4, density=True, bins=8, color='red')\n",
    "plt.hist(data_2, alpha =0.4, density=True, bins=8, color='blue')\n",
    "plt.xlabel('Значение')\n",
    "plt.ylabel('Вероятность попадания в данный интервал')\n",
    "plt.grid()\n",
    "plt.legend(['Выборка 1', 'Выборка 2'])"
   ]
  },
  {
   "cell_type": "markdown",
   "metadata": {},
   "source": [
    "Бросается в глаза то, что если не рассматривать выброс, среднее выборки 1 больше, чем у выборки 2. Дисперсия из-за выброса у выборки 1 также больше - она имеет значения в интервале от 0 до 10, тогда как выборка 2 - от 0 до 8.         \n",
    "\n",
    "Визуально можно сказать, что гипотеза Н0 неверна. Проверим это с помощью t-test"
   ]
  },
  {
   "cell_type": "code",
   "execution_count": 27,
   "metadata": {
    "ExecuteTime": {
     "end_time": "2021-08-01T08:31:04.375608Z",
     "start_time": "2021-08-01T08:31:04.362605Z"
    }
   },
   "outputs": [
    {
     "name": "stdout",
     "output_type": "stream",
     "text": [
      "t-test: 7.35744682757447\n",
      "p_value: 2.1159475572725764e-11\n"
     ]
    }
   ],
   "source": [
    "t, p_value = stats.ttest_ind(data_1, data_2)\n",
    "print(f't-test: {t}\\np_value: {p_value}')"
   ]
  },
  {
   "cell_type": "markdown",
   "metadata": {},
   "source": [
    "На всех принятых уровнях значимости гипотеза Но (данные из одного множества) отвергается. Вывод: данные различаются"
   ]
  },
  {
   "cell_type": "markdown",
   "metadata": {},
   "source": [
    "<div class=\"alert alert-info\">\n",
    "<b>Задание № 7 (задание без подвоха)</b>\n",
    "\n",
    "На примере датасета про жилье в New York City, мы сталкивались с примером, когда переменная имеет не совсем нормальное распределение. \n",
    "\n",
    "- Предположим, Вы сформировали две гипотезы:\n",
    "    - нулевая гипотеза - распределение нормальное;\n",
    "    - альтернативная гипотеза - распределение ненормальное.\n",
    "- допустим, вы применили какой-то тест (сейчас неважно какой), который показал уровень значимости  `p-value = 0.03`. Каковы будут ваши выводы? Будем считать что у нас нормальное распределение или все-таки нет?)\n",
    "    \n",
    "</div>"
   ]
  },
  {
   "cell_type": "markdown",
   "metadata": {},
   "source": [
    "Выдвинем несколько уровней значимости для того, чтобы можно было подтвердить/отвергнуть гипотезу Н0. Скажем, 0.05 и 0.01. В результате исследований получили значение p_value = 0.03. На уровне значимости 0.05 мы можем отвергнуть Н0 и заявить, что данные имеют ненормальное распределение. А вот на уровне значимости 0.01 мы имеем основания утверждать, что данные распределены нормлаьно."
   ]
  },
  {
   "cell_type": "markdown",
   "metadata": {},
   "source": [
    "<div class=\"alert alert-info\">\n",
    "<b>Задание № 8</b>\n",
    "    \n",
    "Первая выборка — это пациенты, которых лечили препаратом `А`.  Вторая выборка — пациенты, которых лечили препаратом `B`.\n",
    "\n",
    "Значения в выборках — это некоторая характеристика эффективности лечения (уровень метаболита в крови, температура через три дня после начала лечения, срок выздоровления, число койко-дней, и т.д.) \n",
    "\n",
    "- Требуется выяснить, имеется ли значимое различие эффективности препаратов `А` и `B`, или различия являются чисто случайными и объясняются «естественной» дисперсией выбранной характеристики?  (`уровень значимости принять за 0.05 (5%)`)\n",
    "\n",
    "- При каком минимальном p-value различия были бы уже значимы? \n",
    "    \n",
    "- Если выборки незначительно отличаются, то продемонстрируйте это визуально\n",
    "</div>"
   ]
  },
  {
   "cell_type": "markdown",
   "metadata": {
    "ExecuteTime": {
     "end_time": "2021-08-01T08:51:53.998604Z",
     "start_time": "2021-08-01T08:51:53.980604Z"
    }
   },
   "source": [
    "H0 - препарат В действительно оказывает эффект на пациентов                  \n",
    "Н1 - различия в эффекте незначительные "
   ]
  },
  {
   "cell_type": "code",
   "execution_count": 28,
   "metadata": {
    "ExecuteTime": {
     "end_time": "2021-08-01T08:38:21.285606Z",
     "start_time": "2021-08-01T08:38:21.271604Z"
    }
   },
   "outputs": [],
   "source": [
    "np.random.seed(11)\n",
    "A = stats.norm.rvs(scale=15,loc=169,size=300)\n",
    "B = stats.norm.rvs(scale=14,loc=171.4,size=300)\n",
    "\n",
    "### Ваш код:\n",
    "# Подсказка, обратите внимание на Two-sample T-test"
   ]
  },
  {
   "cell_type": "code",
   "execution_count": 40,
   "metadata": {
    "ExecuteTime": {
     "end_time": "2021-08-01T08:50:49.491606Z",
     "start_time": "2021-08-01T08:50:49.480604Z"
    }
   },
   "outputs": [
    {
     "data": {
      "text/plain": [
       "(-1.95300880485141, 0.051284593140469285)"
      ]
     },
     "execution_count": 40,
     "metadata": {},
     "output_type": "execute_result"
    }
   ],
   "source": [
    "# Так как дисперсия почти одинаковая, воспользуемся equal_var=True\n",
    "t, p = stats.ttest_ind(A, B, equal_var=True)\n",
    "t, p"
   ]
  },
  {
   "cell_type": "markdown",
   "metadata": {},
   "source": [
    "На уровне значимости 0.05 мы можем сказать, что препараты А и В не так уж и сильно отличаются друг от друга, поэтому гипотеза Но отвергается в пользу Н1"
   ]
  },
  {
   "cell_type": "code",
   "execution_count": 49,
   "metadata": {
    "ExecuteTime": {
     "end_time": "2021-08-01T08:55:53.339603Z",
     "start_time": "2021-08-01T08:55:53.112605Z"
    }
   },
   "outputs": [
    {
     "data": {
      "text/plain": [
       "<matplotlib.legend.Legend at 0x1dfe8133430>"
      ]
     },
     "execution_count": 49,
     "metadata": {},
     "output_type": "execute_result"
    },
    {
     "data": {
      "image/png": "[encoded data removed]",
      "text/plain": [
       "<Figure size 432x288 with 1 Axes>"
      ]
     },
     "metadata": {
      "needs_background": "light"
     },
     "output_type": "display_data"
    }
   ],
   "source": [
    "plt.hist(A, bins=30, alpha=0.5, color='red');\n",
    "plt.hist(B, bins=30, alpha=0.5, color='green');\n",
    "plt.xlabel('Значение')\n",
    "plt.ylabel('Количество попаданий в данный интервал')\n",
    "plt.grid()\n",
    "plt.legend(['A', 'B'])"
   ]
  }
 ],
 "metadata": {
  "kernelspec": {
   "display_name": "Python 3",
   "language": "python",
   "name": "python3"
  },
  "language_info": {
   "codemirror_mode": {
    "name": "ipython",
    "version": 3
   },
   "file_extension": ".py",
   "mimetype": "text/x-python",
   "name": "python",
   "nbconvert_exporter": "python",
   "pygments_lexer": "ipython3",
   "version": "3.7.3"
  },
  "toc": {
   "base_numbering": 1,
   "nav_menu": {},
   "number_sections": true,
   "sideBar": true,
   "skip_h1_title": false,
   "title_cell": "Table of Contents",
   "title_sidebar": "Contents",
   "toc_cell": false,
   "toc_position": {},
   "toc_section_display": true,
   "toc_window_display": false
  },
  "varInspector": {
   "cols": {
    "lenName": 16,
    "lenType": 16,
    "lenVar": 40
   },
   "kernels_config": {
    "python": {
     "delete_cmd_postfix": "",
     "delete_cmd_prefix": "del ",
     "library": "var_list.py",
     "varRefreshCmd": "print(var_dic_list())"
    },
    "r": {
     "delete_cmd_postfix": ") ",
     "delete_cmd_prefix": "rm(",
     "library": "var_list.r",
     "varRefreshCmd": "cat(var_dic_list()) "
    }
   },
   "types_to_exclude": [
    "module",
    "function",
    "builtin_function_or_method",
    "instance",
    "_Feature"
   ],
   "window_display": false
  }
 },
 "nbformat": 4,
 "nbformat_minor": 5
}
