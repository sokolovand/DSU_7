{
 "cells": [
  {
   "cell_type": "markdown",
   "metadata": {},
   "source": [
    "# Задание 1"
   ]
  },
  {
   "cell_type": "markdown",
   "metadata": {},
   "source": [
    "Напишите функцию, которая классифицирует фильмы из материалов занятия по следующим правилам:\n",
    "- оценка 2 и меньше - низкий рейтинг\n",
    "- оценка 4 и меньше - средний рейтинг\n",
    "- оценка 4.5 и 5 - высокий рейтинг"
   ]
  },
  {
   "cell_type": "code",
   "execution_count": 1,
   "metadata": {},
   "outputs": [],
   "source": [
    "import pandas as pd"
   ]
  },
  {
   "cell_type": "code",
   "execution_count": 2,
   "metadata": {},
   "outputs": [],
   "source": [
    "films = pd.read_csv('movies.csv')\n",
    "ratings = pd.read_csv('ratings.csv')\n",
    "all_info = films.merge(ratings, on=['movieId'], how = 'right')[['title', 'rating']].groupby('title').mean().reset_index()"
   ]
  },
  {
   "cell_type": "code",
   "execution_count": 3,
   "metadata": {},
   "outputs": [],
   "source": [
    "# Функция для классификации фильмов на основании среднего всех оценок\n",
    "\n",
    "def sort_films(data):\n",
    "    low_rating = data.loc[data.rating <= 2]\n",
    "    average_rating = data.loc[(2 < data.rating) & (data.rating <= 4)]\n",
    "    high_rating = data.loc[data.rating > 4]\n",
    "    \n",
    "    return low_rating, average_rating, high_rating"
   ]
  },
  {
   "cell_type": "code",
   "execution_count": 4,
   "metadata": {},
   "outputs": [
    {
     "name": "stdout",
     "output_type": "stream",
     "text": [
      "Фильмов с низким рейтингом: 973\n",
      "                                      title  rating\n",
      "0          \"Great Performances\" Cats (1998)    1.75\n",
      "2   'Hellboy': The Seeds of Creation (2004)    2.00\n",
      "3           'Neath the Arizona Skies (1934)    0.50\n",
      "11                  ...And God Spoke (1993)    1.00\n",
      "20                         10,000 BC (2008)    1.50\n",
      "----------------------------------------------------\n",
      "Фильмов со средним рейтингом: 6819\n",
      "                       title    rating\n",
      "1               $9.99 (2008)  3.833333\n",
      "4     'Round Midnight (1986)  2.250000\n",
      "5        'Salem's Lot (2004)  3.500000\n",
      "6  'Til There Was You (1997)  2.625000\n",
      "7         'burbs, The (1989)  3.052632\n",
      "----------------------------------------------------\n",
      "Фильмов с высоким рейтингом: 1272\n",
      "                   title    rating\n",
      "8   'night Mother (1986)  5.000000\n",
      "15   10 Attitudes (2001)  5.000000\n",
      "30   12 Angry Men (1957)  4.304054\n",
      "31   12 Angry Men (1997)  4.125000\n",
      "43      16 Wishes (2010)  5.000000\n"
     ]
    }
   ],
   "source": [
    "low_rating, average_rating, high_rating = sort_films(all_info)\n",
    "\n",
    "print(f'Фильмов с низким рейтингом: {len(low_rating)}')\n",
    "print(low_rating.head())\n",
    "print('----------------------------------------------------')\n",
    "print(f'Фильмов со средним рейтингом: {len(average_rating)}')\n",
    "print(average_rating.head())\n",
    "print('----------------------------------------------------')\n",
    "print(f'Фильмов с высоким рейтингом: {len(high_rating)}')\n",
    "print(high_rating.head())"
   ]
  },
  {
   "cell_type": "code",
   "execution_count": 5,
   "metadata": {},
   "outputs": [
    {
     "name": "stdout",
     "output_type": "stream",
     "text": [
      "Фильм \"Walker (1987)\" имеет высокий рейтинг --- 5.0\n",
      "Фильм \"As We Were Dreaming (2015)\" имеет средний рейтинг --- 4.0\n",
      "Фильм \"Action Jackson (1988)\" имеет средний рейтинг --- 3.0\n",
      "Фильм \"Bandidas (2006)\" имеет низкий рейтинг --- 2.0\n",
      "Фильм \"Body (2015)\" имеет низкий рейтинг --- 1.0\n"
     ]
    }
   ],
   "source": [
    "# Функция для классификации фильмов по их названию\n",
    "\n",
    "def sort_by_title(data, title):\n",
    "    rating = list(data[data['title'] == title]['rating'])[0]\n",
    "    if rating <= 2:\n",
    "        return f'Фильм \"{title}\" имеет низкий рейтинг --- {rating}'\n",
    "    elif 2 < rating <= 4:\n",
    "        return f'Фильм \"{title}\" имеет средний рейтинг --- {rating}'\n",
    "    else:\n",
    "        return f'Фильм \"{title}\" имеет высокий рейтинг --- {rating}'\n",
    "    \n",
    "print(sort_by_title(all_info, 'Walker (1987)'))\n",
    "print(sort_by_title(all_info, 'As We Were Dreaming (2015)'))\n",
    "print(sort_by_title(all_info, 'Action Jackson (1988)'))\n",
    "print(sort_by_title(all_info, 'Bandidas (2006)'))\n",
    "print(sort_by_title(all_info, 'Body (2015)'))"
   ]
  },
  {
   "cell_type": "markdown",
   "metadata": {},
   "source": [
    "# Задание 2"
   ]
  },
  {
   "cell_type": "markdown",
   "metadata": {},
   "source": [
    "Необходимо написать гео-классификатор, который каждой строке сможет выставить географическую принадлежность определенному региону. Т. е. если поисковый запрос содержит название города региона, то в столбце ‘region’ пишется название этого региона. Если поисковый запрос не содержит названия города, то ставим ‘undefined’."
   ]
  },
  {
   "cell_type": "code",
   "execution_count": 6,
   "metadata": {},
   "outputs": [],
   "source": [
    "data = pd.read_csv('keywords.csv')"
   ]
  },
  {
   "cell_type": "code",
   "execution_count": 7,
   "metadata": {},
   "outputs": [
    {
     "data": {
      "text/html": [
       "<div>\n",
       "<style scoped>\n",
       "    .dataframe tbody tr th:only-of-type {\n",
       "        vertical-align: middle;\n",
       "    }\n",
       "\n",
       "    .dataframe tbody tr th {\n",
       "        vertical-align: top;\n",
       "    }\n",
       "\n",
       "    .dataframe thead th {\n",
       "        text-align: right;\n",
       "    }\n",
       "</style>\n",
       "<table border=\"1\" class=\"dataframe\">\n",
       "  <thead>\n",
       "    <tr style=\"text-align: right;\">\n",
       "      <th></th>\n",
       "      <th>keyword</th>\n",
       "      <th>shows</th>\n",
       "      <th>rating</th>\n",
       "    </tr>\n",
       "  </thead>\n",
       "  <tbody>\n",
       "    <tr>\n",
       "      <th>0</th>\n",
       "      <td>вк</td>\n",
       "      <td>64292779</td>\n",
       "      <td>underfined</td>\n",
       "    </tr>\n",
       "    <tr>\n",
       "      <th>1259</th>\n",
       "      <td>москва</td>\n",
       "      <td>153050</td>\n",
       "      <td>Центр</td>\n",
       "    </tr>\n",
       "    <tr>\n",
       "      <th>5858</th>\n",
       "      <td>владивосток</td>\n",
       "      <td>43038</td>\n",
       "      <td>Дальний Восток</td>\n",
       "    </tr>\n",
       "    <tr>\n",
       "      <th>20823</th>\n",
       "      <td>петербург</td>\n",
       "      <td>14859</td>\n",
       "      <td>Северо-Запад</td>\n",
       "    </tr>\n",
       "  </tbody>\n",
       "</table>\n",
       "</div>"
      ],
      "text/plain": [
       "           keyword     shows          rating\n",
       "0               вк  64292779      underfined\n",
       "1259        москва    153050           Центр\n",
       "5858   владивосток     43038  Дальний Восток\n",
       "20823    петербург     14859    Северо-Запад"
      ]
     },
     "execution_count": 7,
     "metadata": {},
     "output_type": "execute_result"
    }
   ],
   "source": [
    "def geo_class(row):\n",
    "\n",
    "    geo_data = {\n",
    "        'Центр': ['москва', 'тула', 'ярославль'],\n",
    "        'Северо-Запад': ['петербург', 'псков', 'мурманск'],\n",
    "        'Дальний Восток': ['владивосток', 'сахалин', 'хабаровск']\n",
    "    }\n",
    "    keyword = row['keyword']\n",
    "    for key, value in geo_data.items():\n",
    "        if keyword in value:\n",
    "            return key\n",
    "\n",
    "    return 'underfined'\n",
    "\n",
    "data['rating'] = data.apply(geo_class, axis=1)\n",
    "\n",
    "data[(data['keyword'] == 'москва') | (data['keyword'] == 'петербург') | (data['keyword'] == 'владивосток') | (data['keyword'] == 'вк')]"
   ]
  },
  {
   "cell_type": "markdown",
   "metadata": {},
   "source": [
    "# Задание 3"
   ]
  },
  {
   "cell_type": "markdown",
   "metadata": {},
   "source": [
    "Есть мнение, что “раньше снимали настоящее кино, не то что сейчас”. Ваша задача проверить это утверждение, используя файлы с рейтингами фильмов из прошлого домашнего занятия (файл movies.csv и ratings.csv из базы grouplens.org.../movielens). Т. е. проверить верно ли, что с ростом года выпуска фильма его средний рейтинг становится ниже."
   ]
  },
  {
   "cell_type": "code",
   "execution_count": 8,
   "metadata": {},
   "outputs": [],
   "source": [
    "# Создадим еще один столбец с годом фильма. Используем регулярные выражения\n",
    "import re\n",
    "\n",
    "films = pd.read_csv('movies.csv')\n",
    "ratings = pd.read_csv('ratings.csv')\n",
    "all_info = films.merge(ratings, on='movieId', how='right')[['title', 'rating']]\n",
    "\n",
    "def return_me_a_year(row):\n",
    "    film = row['title']\n",
    "\n",
    "    try:\n",
    "        year = re.findall(r'[(]\\d{4}[)]', film)[0]\n",
    "        year = int(re.findall(r'\\d{4}', year)[0])\n",
    "\n",
    "        return year\n",
    "\n",
    "    except:\n",
    "        # Записи без даты + сериалы, у которых дата в виде (1990 - 1995)\n",
    "        return None"
   ]
  },
  {
   "cell_type": "code",
   "execution_count": 10,
   "metadata": {},
   "outputs": [
    {
     "data": {
      "text/html": [
       "<div>\n",
       "<style scoped>\n",
       "    .dataframe tbody tr th:only-of-type {\n",
       "        vertical-align: middle;\n",
       "    }\n",
       "\n",
       "    .dataframe tbody tr th {\n",
       "        vertical-align: top;\n",
       "    }\n",
       "\n",
       "    .dataframe thead th {\n",
       "        text-align: right;\n",
       "    }\n",
       "</style>\n",
       "<table border=\"1\" class=\"dataframe\">\n",
       "  <thead>\n",
       "    <tr style=\"text-align: right;\">\n",
       "      <th></th>\n",
       "      <th>title</th>\n",
       "      <th>rating</th>\n",
       "      <th>year</th>\n",
       "    </tr>\n",
       "  </thead>\n",
       "  <tbody>\n",
       "    <tr>\n",
       "      <th>0</th>\n",
       "      <td>Toy Story (1995)</td>\n",
       "      <td>3.0</td>\n",
       "      <td>1995.0</td>\n",
       "    </tr>\n",
       "    <tr>\n",
       "      <th>1</th>\n",
       "      <td>Toy Story (1995)</td>\n",
       "      <td>4.0</td>\n",
       "      <td>1995.0</td>\n",
       "    </tr>\n",
       "    <tr>\n",
       "      <th>2</th>\n",
       "      <td>Toy Story (1995)</td>\n",
       "      <td>5.0</td>\n",
       "      <td>1995.0</td>\n",
       "    </tr>\n",
       "    <tr>\n",
       "      <th>3</th>\n",
       "      <td>Toy Story (1995)</td>\n",
       "      <td>2.0</td>\n",
       "      <td>1995.0</td>\n",
       "    </tr>\n",
       "    <tr>\n",
       "      <th>4</th>\n",
       "      <td>Toy Story (1995)</td>\n",
       "      <td>3.0</td>\n",
       "      <td>1995.0</td>\n",
       "    </tr>\n",
       "  </tbody>\n",
       "</table>\n",
       "</div>"
      ],
      "text/plain": [
       "              title  rating    year\n",
       "0  Toy Story (1995)     3.0  1995.0\n",
       "1  Toy Story (1995)     4.0  1995.0\n",
       "2  Toy Story (1995)     5.0  1995.0\n",
       "3  Toy Story (1995)     2.0  1995.0\n",
       "4  Toy Story (1995)     3.0  1995.0"
      ]
     },
     "execution_count": 10,
     "metadata": {},
     "output_type": "execute_result"
    }
   ],
   "source": [
    "all_info['year'] = all_info.apply(return_me_a_year, axis=1)\n",
    "all_info.head()"
   ]
  },
  {
   "cell_type": "code",
   "execution_count": 12,
   "metadata": {},
   "outputs": [
    {
     "data": {
      "text/html": [
       "<div>\n",
       "<style scoped>\n",
       "    .dataframe tbody tr th:only-of-type {\n",
       "        vertical-align: middle;\n",
       "    }\n",
       "\n",
       "    .dataframe tbody tr th {\n",
       "        vertical-align: top;\n",
       "    }\n",
       "\n",
       "    .dataframe thead th {\n",
       "        text-align: right;\n",
       "    }\n",
       "</style>\n",
       "<table border=\"1\" class=\"dataframe\">\n",
       "  <thead>\n",
       "    <tr style=\"text-align: right;\">\n",
       "      <th></th>\n",
       "      <th>rating</th>\n",
       "    </tr>\n",
       "    <tr>\n",
       "      <th>year</th>\n",
       "      <th></th>\n",
       "    </tr>\n",
       "  </thead>\n",
       "  <tbody>\n",
       "    <tr>\n",
       "      <th>1902.0</th>\n",
       "      <td>4.333333</td>\n",
       "    </tr>\n",
       "    <tr>\n",
       "      <th>1915.0</th>\n",
       "      <td>3.000000</td>\n",
       "    </tr>\n",
       "    <tr>\n",
       "      <th>1916.0</th>\n",
       "      <td>3.500000</td>\n",
       "    </tr>\n",
       "    <tr>\n",
       "      <th>1917.0</th>\n",
       "      <td>4.250000</td>\n",
       "    </tr>\n",
       "    <tr>\n",
       "      <th>1918.0</th>\n",
       "      <td>4.250000</td>\n",
       "    </tr>\n",
       "  </tbody>\n",
       "</table>\n",
       "</div>"
      ],
      "text/plain": [
       "          rating\n",
       "year            \n",
       "1902.0  4.333333\n",
       "1915.0  3.000000\n",
       "1916.0  3.500000\n",
       "1917.0  4.250000\n",
       "1918.0  4.250000"
      ]
     },
     "execution_count": 12,
     "metadata": {},
     "output_type": "execute_result"
    }
   ],
   "source": [
    "rating_by_year = all_info[['rating', 'year']].groupby('year').mean()\n",
    "rating_by_year.head()"
   ]
  },
  {
   "cell_type": "code",
   "execution_count": 14,
   "metadata": {},
   "outputs": [
    {
     "data": {
      "image/png": "[encoded data removed]",
      "text/plain": [
       "<Figure size 432x288 with 1 Axes>"
      ]
     },
     "metadata": {
      "needs_background": "light"
     },
     "output_type": "display_data"
    }
   ],
   "source": [
    "%matplotlib inline\n",
    "\n",
    "import matplotlib.pyplot as plt\n",
    "\n",
    "plt.plot(rating_by_year)\n",
    "plt.xlabel('Year')\n",
    "plt.ylabel('Rating')\n",
    "plt.grid()\n",
    "plt.show()\n"
   ]
  },
  {
   "cell_type": "markdown",
   "metadata": {},
   "source": [
    "### Вывод:\n",
    "##### Средний рейтинг фильмов с течением времени падает"
   ]
  }
 ],
 "metadata": {
  "kernelspec": {
   "display_name": "Python 3",
   "language": "python",
   "name": "python3"
  },
  "language_info": {
   "codemirror_mode": {
    "name": "ipython",
    "version": 3
   },
   "file_extension": ".py",
   "mimetype": "text/x-python",
   "name": "python",
   "nbconvert_exporter": "python",
   "pygments_lexer": "ipython3",
   "version": "3.7.3"
  }
 },
 "nbformat": 4,
 "nbformat_minor": 5
}
